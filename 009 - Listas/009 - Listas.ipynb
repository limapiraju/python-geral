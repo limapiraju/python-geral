{
 "cells": [
  {
   "cell_type": "markdown",
   "metadata": {},
   "source": [
    "Criando listas"
   ]
  },
  {
   "cell_type": "code",
   "execution_count": 1,
   "metadata": {},
   "outputs": [
    {
     "name": "stdout",
     "output_type": "stream",
     "text": [
      "[1, 2, 3, 4, 5, 6, 7, 8, 9, 10] [1, 2, 3, 4, 5, 6, 7, 8, 9, 10] [1, 2, 3, 4, 5, 6, 7, 8, 9, 10]\n"
     ]
    }
   ],
   "source": [
    "# Criando uma lista\n",
    "x = [1, 2, 3, 4, 5, 6, 7, 8, 9, 10]\n",
    "\n",
    "# Criando a mesma lista de uma maneira diferente\n",
    "y = list(range(1, 11))\n",
    "\n",
    "# Criando uma lista usando list comprehension\n",
    "z = [i for i in range(1, 11)]\n",
    "\n",
    "print(x, y, z)"
   ]
  },
  {
   "cell_type": "markdown",
   "metadata": {},
   "source": [
    "métodos `append` e `extend`"
   ]
  },
  {
   "cell_type": "code",
   "execution_count": 2,
   "metadata": {},
   "outputs": [
    {
     "name": "stdout",
     "output_type": "stream",
     "text": [
      "[1, 2, 3, 4, 5, 6, 7, 8, 9, 10, 100000] [1, 2, 3, 4, 5, 6, 7, 8, 9, 10, 100000] [1, 2, 3, 4, 5, 6, 7, 8, 9, 10, 100000]\n"
     ]
    }
   ],
   "source": [
    "x.append(100_000)\n",
    "y += [100_000]\n",
    "z.extend([100_000])\n",
    "\n",
    "print(x, y, z)"
   ]
  },
  {
   "cell_type": "markdown",
   "metadata": {},
   "source": [
    "`slices` (fatias)"
   ]
  },
  {
   "cell_type": "code",
   "execution_count": 4,
   "metadata": {},
   "outputs": [
    {
     "name": "stdout",
     "output_type": "stream",
     "text": [
      "[6, 7]\n"
     ]
    }
   ],
   "source": [
    "a = x[5:7] # pega os elementos [5, 7) da lista, sendo 5 incluso e 7 excluso do fatiamento\n",
    "print(a)"
   ]
  },
  {
   "cell_type": "markdown",
   "metadata": {},
   "source": [
    "**Exercício 1:** Faça uma lista que leia 4 notas de um aluno e que depois mostre as notas e sua média."
   ]
  },
  {
   "cell_type": "code",
   "execution_count": 5,
   "metadata": {},
   "outputs": [
    {
     "name": "stdout",
     "output_type": "stream",
     "text": [
      "Digite a 1a. nota: 5\n",
      "Digite a 2a. nota: 8\n",
      "Digite a 3a. nota: 9\n",
      "Digite a 4a. nota: 10\n",
      "Notas: [5, 8, 9, 10]. Média = 8.00.\n"
     ]
    }
   ],
   "source": [
    "notas = []\n",
    "soma = 0\n",
    "\n",
    "for i in range(0, 4):\n",
    "    notas.append(int(input(f\"Digite a {i + 1}a. nota: \" )))\n",
    "    soma += notas[i]\n",
    "\n",
    "print(f\"Notas: {notas}. Média = {soma / 4:.2f}.\")"
   ]
  },
  {
   "cell_type": "markdown",
   "metadata": {},
   "source": [
    "**Exercício 2:** Faça um programa que leia 20 números inteiros e armazene-os num vetor geral e em vetores específicos, com números pares ou ímpares. Imprima os três vetores."
   ]
  },
  {
   "cell_type": "code",
   "execution_count": 7,
   "metadata": {},
   "outputs": [
    {
     "name": "stdout",
     "output_type": "stream",
     "text": [
      "Digite o 1o. número: 1\n",
      "Digite o 2o. número: 575\n",
      "Digite o 3o. número: 5254\n",
      "Digite o 4o. número: 424\n",
      "Digite o 5o. número: 54524\n",
      "Digite o 6o. número: 454523\n",
      "Digite o 7o. número: 442452\n",
      "Digite o 8o. número: 5242\n",
      "Digite o 9o. número: 45452\n",
      "Digite o 10o. número: 455428\n",
      "Digite o 11o. número: 7547\n",
      "Digite o 12o. número: 4459\n",
      "Digite o 13o. número: 546987\n",
      "Digite o 14o. número: 45545\n",
      "Digite o 15o. número: 4545\n",
      "Digite o 16o. número: 45487\n",
      "Digite o 17o. número: 45\n",
      "Digite o 18o. número: 589\n",
      "Digite o 19o. número: 5\n",
      "Digite o 20o. número: 53\n",
      "Geral: [1, 575, 5254, 424, 54524, 454523, 442452, 5242, 45452, 455428, 7547, 4459, 546987, 45545, 4545, 45487, 45, 589, 5, 53]\n",
      "Pares: [5254, 424, 54524, 442452, 5242, 45452, 455428]\n",
      "Ímpares: [1, 575, 454523, 7547, 4459, 546987, 45545, 4545, 45487, 45, 589, 5, 53]\n"
     ]
    }
   ],
   "source": [
    "geral = []\n",
    "par = []\n",
    "impar = []\n",
    "\n",
    "for i in range(0, 20):\n",
    "    geral.append(int(input(f\"Digite o {i + 1}o. número: \")))\n",
    "    if geral[i] % 2 == 0: # se o número é par\n",
    "        par.append(geral[i])\n",
    "    else: # se o número é impar\n",
    "        impar.append(geral[i])\n",
    "\n",
    "print(f\"Geral: {geral}\\nPares: {par}\\nÍmpares: {impar}\")"
   ]
  },
  {
   "cell_type": "markdown",
   "metadata": {},
   "source": [
    "`len`: retorna o comprimento da lista."
   ]
  },
  {
   "cell_type": "code",
   "execution_count": 9,
   "metadata": {},
   "outputs": [
    {
     "name": "stdout",
     "output_type": "stream",
     "text": [
      "[7, 8, 9, 10, 11, 12, 13, 14, 15, 16, 17, 18, 19, 20]\n",
      "14\n"
     ]
    }
   ],
   "source": [
    "x = list(range(7, 21))\n",
    "print(x)\n",
    "print(len(x))"
   ]
  },
  {
   "cell_type": "markdown",
   "metadata": {},
   "source": [
    "`count`: conta o número de vezes que um elemento aparece na lista."
   ]
  },
  {
   "cell_type": "code",
   "execution_count": 11,
   "metadata": {},
   "outputs": [
    {
     "name": "stdout",
     "output_type": "stream",
     "text": [
      "Digite um número natural não negativo (ou um valor negativo para sair): 8\n",
      "Digite um número natural não negativo (ou um valor negativo para sair): 4\n",
      "Digite um número natural não negativo (ou um valor negativo para sair): 45\n",
      "Digite um número natural não negativo (ou um valor negativo para sair): 89\n",
      "Digite um número natural não negativo (ou um valor negativo para sair): 45\n",
      "Digite um número natural não negativo (ou um valor negativo para sair): 4\n",
      "Digite um número natural não negativo (ou um valor negativo para sair): 9\n",
      "Digite um número natural não negativo (ou um valor negativo para sair): 45\n",
      "Digite um número natural não negativo (ou um valor negativo para sair): -1\n",
      "Digite o elemento a ser procurado: 45\n",
      "O elemento 45 aparece 3 vezes na lista.\n"
     ]
    }
   ],
   "source": [
    "lista = []\n",
    "temp = 0\n",
    "\n",
    "while temp != -1:\n",
    "    temp = int(input(\"Digite um número natural não negativo (ou um valor negativo para sair): \"))\n",
    "    if temp >= 0:\n",
    "        lista.append(temp)\n",
    "\n",
    "elemento = int(input(\"Digite o elemento a ser procurado: \"))\n",
    "\n",
    "print(f\"O elemento {elemento} aparece {lista.count(elemento)} vezes na lista.\")"
   ]
  },
  {
   "cell_type": "markdown",
   "metadata": {},
   "source": [
    "**Exercício 3:** Faça um programa que simule um lançamento de dados e mostre quantas vezes cada valor foi sorteado."
   ]
  },
  {
   "cell_type": "code",
   "execution_count": 12,
   "metadata": {},
   "outputs": [
    {
     "name": "stdout",
     "output_type": "stream",
     "text": [
      "Defina o número de lançamentos de dados que deseja fazer: 600\n",
      "O resultado 1 aconteceu 100 (16.67%) vezes.\n",
      "O resultado 2 aconteceu 92 (15.33%) vezes.\n",
      "O resultado 3 aconteceu 96 (16.00%) vezes.\n",
      "O resultado 4 aconteceu 101 (16.83%) vezes.\n",
      "O resultado 5 aconteceu 106 (17.67%) vezes.\n",
      "O resultado 6 aconteceu 105 (17.50%) vezes.\n"
     ]
    }
   ],
   "source": [
    "import random\n",
    "\n",
    "trials = int(input(\"Defina o número de lançamentos de dados que deseja fazer: \"))\n",
    "results = []\n",
    "\n",
    "for i in range(0, trials):\n",
    "    results.append(random.randint(1, 6))\n",
    "\n",
    "for i in range(1, 7):\n",
    "    print(f\"O resultado {i} aconteceu {results.count(i)} ({results.count(i) / trials * 100:.2f}%) vezes.\")"
   ]
  },
  {
   "cell_type": "markdown",
   "metadata": {},
   "source": [
    "`reverse`: inverte a lista (de trás para a frente). não devolve valores."
   ]
  },
  {
   "cell_type": "code",
   "execution_count": 13,
   "metadata": {},
   "outputs": [
    {
     "name": "stdout",
     "output_type": "stream",
     "text": [
      "[0, 1, 2, 3, 4, 5, 6, 7, 8, 9, 10]\n",
      "[10, 9, 8, 7, 6, 5, 4, 3, 2, 1, 0]\n",
      "False\n",
      "[0, 1, 2, 3, 4, 5, 6, 7, 8, 9, 10]\n",
      "True\n"
     ]
    }
   ],
   "source": [
    "x = list(range(0, 11)) # 0 a 10\n",
    "y = list(range(10, -1, -1)) # 10 a 0\n",
    "print(x)\n",
    "print(y)\n",
    "print(x == y)\n",
    "y.reverse()\n",
    "print(y)\n",
    "print(x == y)"
   ]
  },
  {
   "cell_type": "markdown",
   "metadata": {},
   "source": [
    "`remove`: remove a primeira ocorrência de um elemento. se ele não estiver na lista, dá erro"
   ]
  },
  {
   "cell_type": "code",
   "execution_count": 14,
   "metadata": {},
   "outputs": [
    {
     "name": "stdout",
     "output_type": "stream",
     "text": [
      "[0, 1, 3, 4, 5, 6, 7, 8, 9, 10]\n"
     ]
    }
   ],
   "source": [
    "y.remove(2) # remove a primeira ocorrência do elemento 2 na lista. se não estiver na lista, dá erro\n",
    "print(y)"
   ]
  },
  {
   "cell_type": "code",
   "execution_count": 15,
   "metadata": {},
   "outputs": [
    {
     "name": "stdout",
     "output_type": "stream",
     "text": [
      "[0, 1, 2, 3, 4, 5, 6, 7, 8, 9]\n"
     ]
    }
   ],
   "source": [
    "def unicos(lista):\n",
    "    \"\"\"\n",
    "    Recebe uma lista e devolve uma lista com valores únicos.\n",
    "    \"\"\"\n",
    "    unicos = []\n",
    "    for item in lista:\n",
    "        if item not in unicos:\n",
    "            unicos.append(item)\n",
    "    return unicos\n",
    "\n",
    "lista = [0, 1, 2, 3, 2, 4, 2, 5, 2, 6, 2, 7, 2, 8, 9, 9, 9, 9]\n",
    "print(unicos(lista))"
   ]
  },
  {
   "cell_type": "markdown",
   "metadata": {},
   "source": [
    "`pop`: retorna e remove o elemento da lista contido no índice passado como parâmetro.\n",
    "se nenhum parâmetro for passado, retorna e remove o último elemento da lista."
   ]
  },
  {
   "cell_type": "code",
   "execution_count": 16,
   "metadata": {},
   "outputs": [
    {
     "name": "stdout",
     "output_type": "stream",
     "text": [
      "método pop\n",
      "[4, 76, 5, 21, 30]\n",
      "[4, 5, 21, 30]\n"
     ]
    }
   ],
   "source": [
    "print('método pop')\n",
    "teste = [4, 76, 5, 21, 30, 5]\n",
    "teste.pop()\n",
    "print(teste)\n",
    "teste.pop(1)\n",
    "print(teste)"
   ]
  },
  {
   "cell_type": "markdown",
   "metadata": {},
   "source": [
    "`index(x)`: retorna o índice do primeiro valor da lista que contém o valor `x`.\n",
    "dá erro se o valor `x` não estiver na lista."
   ]
  },
  {
   "cell_type": "code",
   "execution_count": 17,
   "metadata": {},
   "outputs": [
    {
     "name": "stdout",
     "output_type": "stream",
     "text": [
      "método index\n",
      "5\n"
     ]
    }
   ],
   "source": [
    "print('método index')\n",
    "teste = [1, 1, 2, 3, 5, 8, 13, 21]\n",
    "print(teste.index(8))"
   ]
  },
  {
   "cell_type": "markdown",
   "metadata": {},
   "source": [
    "`insert(pos, ele)`: insere o elemento `ele` na posição `pos` da lista.\n",
    "elementos à direita são deslocados uma posição."
   ]
  },
  {
   "cell_type": "code",
   "execution_count": 19,
   "metadata": {},
   "outputs": [
    {
     "name": "stdout",
     "output_type": "stream",
     "text": [
      "método insert\n",
      "[1, 1, 2, 3, 8, 5, 13, 21]\n"
     ]
    }
   ],
   "source": [
    "print('método insert')\n",
    "fibonacci = [1, 1, 2, 3, 5, 13, 21]\n",
    "fibonacci.insert(4, 8)\n",
    "print(fibonacci)"
   ]
  },
  {
   "cell_type": "markdown",
   "metadata": {},
   "source": [
    "`sort(x)`: organiza os elementos da lista em ordem crescente."
   ]
  },
  {
   "cell_type": "code",
   "execution_count": 20,
   "metadata": {},
   "outputs": [
    {
     "name": "stdout",
     "output_type": "stream",
     "text": [
      "método sort\n",
      "[1, 1, 2, 3, 5, 8, 13, 21]\n"
     ]
    }
   ],
   "source": [
    "print('método sort')\n",
    "teste = [8, 5, 1, 21, 1, 3, 2, 13]\n",
    "teste.sort()\n",
    "print(teste)"
   ]
  },
  {
   "cell_type": "markdown",
   "metadata": {},
   "source": [
    "`clear()`: limpa o conteudo de uma lista."
   ]
  },
  {
   "cell_type": "code",
   "execution_count": 21,
   "metadata": {},
   "outputs": [
    {
     "name": "stdout",
     "output_type": "stream",
     "text": [
      "método clear\n",
      "[1, 2, 3, 4]\n",
      "[]\n"
     ]
    }
   ],
   "source": [
    "print('método clear')\n",
    "teste = [1, 2, 3, 4]\n",
    "print(teste)\n",
    "teste.clear()\n",
    "print(teste)"
   ]
  },
  {
   "cell_type": "markdown",
   "metadata": {},
   "source": [
    "`copy`: copia uma nova lista guardada em um espaço de memória diferente do lugar do objeto original.\n"
   ]
  },
  {
   "cell_type": "code",
   "execution_count": 23,
   "metadata": {},
   "outputs": [
    {
     "name": "stdout",
     "output_type": "stream",
     "text": [
      "método copy\n",
      "[1, 2, 3, 4]\n"
     ]
    }
   ],
   "source": [
    "print('método copy')\n",
    "teste = [1, 2, 3, 4]\n",
    "novo_teste = teste.copy()\n",
    "print(novo_teste)"
   ]
  },
  {
   "cell_type": "markdown",
   "metadata": {},
   "source": [
    "Função `list()`."
   ]
  },
  {
   "cell_type": "code",
   "execution_count": 1,
   "metadata": {},
   "outputs": [
    {
     "name": "stdout",
     "output_type": "stream",
     "text": [
      "True\n",
      "False\n"
     ]
    }
   ],
   "source": [
    "# Função list e comparação entre listas\n",
    "\n",
    "a = [1, 2, 3]\n",
    "b = list(range(1, 4))\n",
    "print(a == b)\n",
    "\n",
    "c = [1, 2, 3, 0]\n",
    "print(a > c)"
   ]
  }
 ],
 "metadata": {
  "kernelspec": {
   "display_name": "Python 3",
   "language": "python",
   "name": "python3"
  },
  "language_info": {
   "codemirror_mode": {
    "name": "ipython",
    "version": 3
   },
   "file_extension": ".py",
   "mimetype": "text/x-python",
   "name": "python",
   "nbconvert_exporter": "python",
   "pygments_lexer": "ipython3",
   "version": "3.8.5"
  }
 },
 "nbformat": 4,
 "nbformat_minor": 4
}
