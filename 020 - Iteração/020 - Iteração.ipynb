{
 "cells": [
  {
   "cell_type": "markdown",
   "metadata": {},
   "source": [
    "*Notebook* baseado nas aulas do canal **Ignorância Zero**: `https://www.youtube.com/channel/UCmjj41YfcaCpZIkU-oqVIIw`"
   ]
  },
  {
   "cell_type": "code",
   "execution_count": 11,
   "metadata": {},
   "outputs": [
    {
     "ename": "AttributeError",
     "evalue": "'list' object has no attribute '__next__'",
     "output_type": "error",
     "traceback": [
      "\u001b[1;31m---------------------------------------------------------------------------\u001b[0m",
      "\u001b[1;31mAttributeError\u001b[0m                            Traceback (most recent call last)",
      "\u001b[1;32m<ipython-input-11-8aeab30d4e2d>\u001b[0m in \u001b[0;36m<module>\u001b[1;34m\u001b[0m\n\u001b[0;32m     14\u001b[0m \u001b[1;33m\u001b[0m\u001b[0m\n\u001b[0;32m     15\u001b[0m \u001b[0mx\u001b[0m \u001b[1;33m=\u001b[0m \u001b[1;33m[\u001b[0m\u001b[0mi\u001b[0m \u001b[1;32mfor\u001b[0m \u001b[0mi\u001b[0m \u001b[1;32min\u001b[0m \u001b[0mrange\u001b[0m\u001b[1;33m(\u001b[0m\u001b[1;36m0\u001b[0m\u001b[1;33m,\u001b[0m \u001b[1;36m2\u001b[0m\u001b[1;33m)\u001b[0m\u001b[1;33m]\u001b[0m\u001b[1;33m\u001b[0m\u001b[1;33m\u001b[0m\u001b[0m\n\u001b[1;32m---> 16\u001b[1;33m \u001b[0mx\u001b[0m\u001b[1;33m.\u001b[0m\u001b[0m__next__\u001b[0m\u001b[1;33m(\u001b[0m\u001b[1;33m)\u001b[0m \u001b[1;31m# se não tem atributo __next__, então lista não é um iterador\u001b[0m\u001b[1;33m\u001b[0m\u001b[1;33m\u001b[0m\u001b[0m\n\u001b[0m",
      "\u001b[1;31mAttributeError\u001b[0m: 'list' object has no attribute '__next__'"
     ]
    }
   ],
   "source": [
    "# Aula 080 - Iteração I\n",
    "\n",
    "'''\n",
    "#iterável --> objeto capaz de gerar um objeto iterador\n",
    "\n",
    "# objeto iterador possui:\n",
    "# o método mágico __next__\n",
    "# o método mágico __iter__\n",
    "\n",
    "# lista é um objeto iterável, mas não um objeto iterador\n",
    "# lista tem o método __iter__, mas não o método __next__\n",
    "# ao invocar o método __iter__, a lista retorna um objeto list_iterator!\n",
    "'''\n",
    "\n",
    "x = [i for i in range(0, 2)]\n",
    "x.__next__() # se não tem atributo __next__, então lista não é um iterador"
   ]
  },
  {
   "cell_type": "code",
   "execution_count": 12,
   "metadata": {},
   "outputs": [
    {
     "name": "stdout",
     "output_type": "stream",
     "text": [
      "<class 'list_iterator'>\n"
     ]
    },
    {
     "data": {
      "text/plain": [
       "0"
      ]
     },
     "execution_count": 12,
     "metadata": {},
     "output_type": "execute_result"
    }
   ],
   "source": [
    "y = x.__iter__() # retorna um objeto iterador para y\n",
    "print(type(y))\n",
    "y.__next__()"
   ]
  },
  {
   "cell_type": "code",
   "execution_count": 13,
   "metadata": {},
   "outputs": [
    {
     "data": {
      "text/plain": [
       "1"
      ]
     },
     "execution_count": 13,
     "metadata": {},
     "output_type": "execute_result"
    }
   ],
   "source": [
    "y.__next__()"
   ]
  },
  {
   "cell_type": "code",
   "execution_count": 14,
   "metadata": {},
   "outputs": [
    {
     "ename": "StopIteration",
     "evalue": "",
     "output_type": "error",
     "traceback": [
      "\u001b[1;31m---------------------------------------------------------------------------\u001b[0m",
      "\u001b[1;31mStopIteration\u001b[0m                             Traceback (most recent call last)",
      "\u001b[1;32m<ipython-input-14-2c928e09acf4>\u001b[0m in \u001b[0;36m<module>\u001b[1;34m\u001b[0m\n\u001b[1;32m----> 1\u001b[1;33m \u001b[0my\u001b[0m\u001b[1;33m.\u001b[0m\u001b[0m__next__\u001b[0m\u001b[1;33m(\u001b[0m\u001b[1;33m)\u001b[0m\u001b[1;33m\u001b[0m\u001b[1;33m\u001b[0m\u001b[0m\n\u001b[0m",
      "\u001b[1;31mStopIteration\u001b[0m: "
     ]
    }
   ],
   "source": [
    "# se o iterador chegou ao final, dá um StopIteration error\n",
    "y.__next__()"
   ]
  },
  {
   "cell_type": "code",
   "execution_count": 15,
   "metadata": {},
   "outputs": [
    {
     "name": "stdout",
     "output_type": "stream",
     "text": [
      "lista1: [10, 11, 12, 13, 14, 15, 16, 17, 18, 19]\n",
      "lista2: [10, 11, 12, 13, 14, 15, 16, 17, 18, 19]\n",
      "lista3: [0, 5, 10, 15, 20, 25, 30, 35, 40, 45, 50, 55, 60, 65, 70, 75, 80, 85, 90, 95, 100, 105, 110, 115, 120, 125, 130, 135, 140, 145, 150, 155, 160, 165, 170, 175, 180, 185, 190, 195, 200, 205, 210, 215, 220, 225, 230, 235, 240, 245, 250, 255, 260, 265, 270, 275, 280, 285, 290, 295, 300, 305, 310, 315, 320, 325, 330, 335, 340, 345, 350, 355, 360, 365, 370, 375, 380, 385, 390, 395, 400, 405, 410, 415, 420, 425, 430, 435, 440, 445, 450, 455, 460, 465, 470, 475, 480, 485, 490, 495, 500, 505, 510, 515, 520, 525, 530, 535, 540, 545, 550, 555, 560, 565, 570, 575, 580, 585, 590, 595, 600, 605, 610, 615, 620, 625, 630, 635, 640, 645, 650, 655, 660, 665, 670, 675, 680, 685, 690, 695, 700, 705, 710, 715, 720, 725, 730, 735, 740, 745, 750, 755, 760, 765, 770, 775, 780, 785, 790, 795, 800, 805, 810, 815, 820, 825, 830, 835, 840, 845, 850, 855, 860, 865, 870, 875, 880, 885, 890, 895, 900, 905, 910, 915, 920, 925, 930, 935, 940, 945, 950, 955, 960, 965, 970, 975, 980, 985, 990, 995]\n",
      "lista4: ['1A', '1B', '1C', '1D', '1E', '2A', '2B', '2C', '2D', '2E', '3A', '3B', '3C', '3D', '3E', '4A', '4B', '4C', '4D', '4E', '5A', '5B', '5C', '5D', '5E']\n"
     ]
    }
   ],
   "source": [
    "# Aula 081 - Iteração II: List Comprehension\n",
    "\n",
    "lista1 = list()\n",
    "\n",
    "for i in range(10):\n",
    "    lista1.append(i + 10)\n",
    "\n",
    "lista2 = [x + 10 for x in range(10)]\n",
    "\n",
    "print(f\"lista1: {lista1}\")\n",
    "print(f\"lista2: {lista2}\")\n",
    "\n",
    "\n",
    "lista3 = [i for i in range(0, 1_000) if i % 5 == 0]\n",
    "print(f\"lista3: {lista3}\")\n",
    "\n",
    "\n",
    "lista4 = [i + j for i in '12345' for j in 'ABCDE']\n",
    "print(f\"lista4: {lista4}\")"
   ]
  },
  {
   "cell_type": "code",
   "execution_count": 16,
   "metadata": {},
   "outputs": [
    {
     "name": "stdout",
     "output_type": "stream",
     "text": [
      "Help on class zip in module builtins:\n",
      "\n",
      "class zip(object)\n",
      " |  zip(*iterables) --> A zip object yielding tuples until an input is exhausted.\n",
      " |  \n",
      " |     >>> list(zip('abcdefg', range(3), range(4)))\n",
      " |     [('a', 0, 0), ('b', 1, 1), ('c', 2, 2)]\n",
      " |  \n",
      " |  The zip object yields n-length tuples, where n is the number of iterables\n",
      " |  passed as positional arguments to zip().  The i-th element in every tuple\n",
      " |  comes from the i-th iterable argument to zip().  This continues until the\n",
      " |  shortest argument is exhausted.\n",
      " |  \n",
      " |  Methods defined here:\n",
      " |  \n",
      " |  __getattribute__(self, name, /)\n",
      " |      Return getattr(self, name).\n",
      " |  \n",
      " |  __iter__(self, /)\n",
      " |      Implement iter(self).\n",
      " |  \n",
      " |  __next__(self, /)\n",
      " |      Implement next(self).\n",
      " |  \n",
      " |  __reduce__(...)\n",
      " |      Return state information for pickling.\n",
      " |  \n",
      " |  ----------------------------------------------------------------------\n",
      " |  Static methods defined here:\n",
      " |  \n",
      " |  __new__(*args, **kwargs) from builtins.type\n",
      " |      Create and return a new object.  See help(type) for accurate signature.\n",
      "\n",
      "{'andressa': 'gato', 'lara': 'hamster', 'mirella': 'cachorro'}\n",
      "True\n",
      "False\n"
     ]
    }
   ],
   "source": [
    "# Aula 082 - Iteração III: Outros Objetos Iteráveis\n",
    "\n",
    "# objeto do tipo zip\n",
    "\n",
    "help(zip) # possui __iter__ e __next__ (i.e., é um objeto iterável)\n",
    "\n",
    "nomes = ['andressa', 'lara', 'mirella']\n",
    "mascotes = ['gato', 'hamster', 'cachorro']\n",
    "\n",
    "x = zip(nomes, mascotes) # cria um objeto iterável contido em tuplas e armazena em x\n",
    "\n",
    "y = dict(x)\n",
    "print(y)\n",
    "\n",
    "print(x is x.__iter__()) # o objeto zip é o próprio objeto iterável\n",
    "print(lista4 is lista4.__iter__()) # o objeto do tipo list não é o próprio objeto iterável"
   ]
  },
  {
   "cell_type": "code",
   "execution_count": 18,
   "metadata": {},
   "outputs": [
    {
     "name": "stdout",
     "output_type": "stream",
     "text": [
      "exemplo1: [0, 1, 4, 9]\n",
      "exemplo2: <map object at 0x0000009F4926B7C0>\n",
      "exemplo3: <map object at 0x0000009F4926B220>\n",
      "\n",
      "exemplo2:\n",
      "0\n",
      "1\n",
      "4\n",
      "9\n",
      "\n",
      "exemplo3:\n",
      "0\n",
      "9\n",
      "16\n",
      "21\n",
      "24\n",
      "25\n",
      "24\n",
      "21\n",
      "16\n",
      "9\n"
     ]
    }
   ],
   "source": [
    "# objeto do tipo map\n",
    "\n",
    "import time\n",
    "\n",
    "exemplo1 = [x ** 2 for x in range(4)]\n",
    "exemplo2 = map((lambda x: x ** 2), range(4)) # recebe função e iterável(eis) e devolve um objeto map\n",
    "exemplo3 = map((lambda x, y: x * y), range(0, 10), range(10, 0, -1)) # recebe função e iteráveis e devolve um objeto map\n",
    "\n",
    "print(f\"exemplo1: {exemplo1}\")\n",
    "print(f\"exemplo2: {exemplo2}\")\n",
    "print(f\"exemplo3: {exemplo3}\")\n",
    "\n",
    "print(\"\\nexemplo2:\")\n",
    "for i in exemplo2:\n",
    "    time.sleep(1)\n",
    "    print(i)\n",
    "\n",
    "print(\"\\nexemplo3:\")\n",
    "for i in exemplo3:\n",
    "    time.sleep(1)\n",
    "    print(i)"
   ]
  },
  {
   "cell_type": "code",
   "execution_count": 19,
   "metadata": {},
   "outputs": [
    {
     "name": "stdout",
     "output_type": "stream",
     "text": [
      "[0, 2, 4]\n",
      "[0, 4, 16, 36, 64]\n"
     ]
    }
   ],
   "source": [
    "# filter\n",
    "\n",
    "a = filter((lambda x: x % 2 == 0), range(5))\n",
    "print(list(a))\n",
    "\n",
    "# juntando várias coisas\n",
    "\n",
    "print(list(map((lambda x: x ** 2), filter((lambda x: x % 2 == 0), range(10)))))"
   ]
  },
  {
   "cell_type": "code",
   "execution_count": 1,
   "metadata": {},
   "outputs": [
    {
     "name": "stdout",
     "output_type": "stream",
     "text": [
      "False\n",
      "True\n"
     ]
    }
   ],
   "source": [
    "# all: retorna True se todos os elementos de um iterável forem verdadeiros\n",
    "print(all([1, 0, 0, 1, 1]))\n",
    "print(all([1, 1, 1, 1, 1]))"
   ]
  },
  {
   "cell_type": "code",
   "execution_count": 2,
   "metadata": {},
   "outputs": [
    {
     "name": "stdout",
     "output_type": "stream",
     "text": [
      "True\n",
      "False\n"
     ]
    }
   ],
   "source": [
    "# any: retorna True se ao menos um dos elementos do iterável for verdadeiro\n",
    "print(any([1, 0, 0, 1, 1]))\n",
    "print(any([0, 0, 0, 0, 0]))"
   ]
  },
  {
   "cell_type": "code",
   "execution_count": 3,
   "metadata": {},
   "outputs": [
    {
     "name": "stdout",
     "output_type": "stream",
     "text": [
      "15\n",
      "550\n"
     ]
    }
   ],
   "source": [
    "# retorna a soma dos elementos de um iterável\n",
    "print(sum([1, 2, 3, 4, 5]))\n",
    "print(sum(list(range(0, 110, 10))))"
   ]
  },
  {
   "cell_type": "code",
   "execution_count": 4,
   "metadata": {},
   "outputs": [
    {
     "name": "stdout",
     "output_type": "stream",
     "text": [
      "Adicionando 1 a 2\n",
      "Adicionando 3 a 3\n",
      "Adicionando 6 a 4\n",
      "Adicionando 10 a 5\n",
      "15\n"
     ]
    }
   ],
   "source": [
    "# functools.reduce: recebe uma função e um iterável\n",
    "# aplica a função nos dois primeiros elementos do iterável\n",
    "# depois aplica a função no resultado retornado pela aplicação anterior e no terceiro elemento do\n",
    "# iterável, e assim por diante...\n",
    "# obs: caiu em desuso, pois o for loop é muito mais usado\n",
    "\n",
    "import functools\n",
    "\n",
    "def olhe_soma(x, y):\n",
    "    print(f\"Adicionando {x} a {y}\")\n",
    "    return x + y\n",
    "\n",
    "print(functools.reduce(olhe_soma, [1, 2, 3, 4, 5]))"
   ]
  },
  {
   "cell_type": "code",
   "execution_count": 5,
   "metadata": {},
   "outputs": [
    {
     "name": "stdout",
     "output_type": "stream",
     "text": [
      "0\n",
      "1\n",
      "4\n",
      "9\n",
      "16\n"
     ]
    }
   ],
   "source": [
    "# Aula 084 - Iteração V: Funções Geradoras\n",
    "\n",
    "def gera_quadrados(n):\n",
    "    for i in range(n):\n",
    "        yield i ** 2\n",
    "\n",
    "# agora gera_quadrados é iterável e pode ser diretamente chamda em um for loop\n",
    "for i in gera_quadrados(5):\n",
    "    print(i)"
   ]
  },
  {
   "cell_type": "code",
   "execution_count": 7,
   "metadata": {},
   "outputs": [
    {
     "name": "stdout",
     "output_type": "stream",
     "text": [
      "0\n",
      "1\n",
      "4\n",
      "9\n",
      "16\n"
     ]
    }
   ],
   "source": [
    "# como gera_quadrados é uma função geradora, podemos chamar next\n",
    "y = gera_quadrados(5)\n",
    "print(next(y))\n",
    "print(next(y))\n",
    "print(next(y))\n",
    "print(next(y))\n",
    "print(next(y))"
   ]
  },
  {
   "cell_type": "code",
   "execution_count": 8,
   "metadata": {},
   "outputs": [
    {
     "name": "stdout",
     "output_type": "stream",
     "text": [
      "[0, 4, 16, 36, 64]\n",
      "<generator object <genexpr> at 0x0000002B955627B0>\n"
     ]
    }
   ],
   "source": [
    "# list comprehension: menos rápido, mas usa mais memória\n",
    "listcomp = [i ** 2 for i in range(0, 10) if i % 2 == 0]\n",
    "print(listcomp)\n",
    "\n",
    "# genexp: mais lento, mas economiza mais memória\n",
    "genexp = (i ** 2 for i in range(0, 10) if i % 2 == 0)\n",
    "print(genexp)"
   ]
  },
  {
   "cell_type": "code",
   "execution_count": null,
   "metadata": {},
   "outputs": [],
   "source": []
  }
 ],
 "metadata": {
  "kernelspec": {
   "display_name": "Python 3",
   "language": "python",
   "name": "python3"
  },
  "language_info": {
   "codemirror_mode": {
    "name": "ipython",
    "version": 3
   },
   "file_extension": ".py",
   "mimetype": "text/x-python",
   "name": "python",
   "nbconvert_exporter": "python",
   "pygments_lexer": "ipython3",
   "version": "3.8.5"
  }
 },
 "nbformat": 4,
 "nbformat_minor": 4
}
