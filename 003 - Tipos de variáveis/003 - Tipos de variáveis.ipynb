{
 "cells": [
  {
   "cell_type": "markdown",
   "metadata": {
    "id": "t9heILBnJm3j"
   },
   "source": [
    "Variáveis são rótulos que apontam para endereços de memória que armazenam objetos. O uso de variáveis torna nossos programas muito mais flexíveis. Veja isso na função `print`."
   ]
  },
  {
   "cell_type": "code",
   "execution_count": 1,
   "metadata": {
    "colab": {
     "base_uri": "https://localhost:8080/"
    },
    "executionInfo": {
     "elapsed": 497,
     "status": "ok",
     "timestamp": 1643112961930,
     "user": {
      "displayName": "Marcos Lima",
      "photoUrl": "https://lh3.googleusercontent.com/a-/AOh14GjPkqY9h8ofRUdSfF7NlRlX2qBndhrvEgGih7OPbg=s64",
      "userId": "12059436749293830667"
     },
     "user_tz": 180
    },
    "id": "FzLb8Eg3JiB1",
    "outputId": "65d9df79-b071-4542-eaee-2c03e5e7a66b"
   },
   "outputs": [
    {
     "name": "stdout",
     "output_type": "stream",
     "text": [
      "Gustav Theodor Fechner\n"
     ]
    }
   ],
   "source": [
    "# Guarda a string (sequência de caracteres) \"Gustav Theodor Fechner\" na variável psicofisico\n",
    "psicofisico = \"Gustav Theodor Fechner\"\n",
    "\n",
    "# e imprime o valor para o qual essa variavel aponta\n",
    "print(psicofisico)"
   ]
  },
  {
   "cell_type": "markdown",
   "metadata": {},
   "source": [
    "Também podemos usar uma `f-string`. Em síntese, isso consiste em combinar textos e variáveis em uma função `print`. Por exemplo, podemos querer imprimir a frase *Meu psicofísico preferido é xxx*, onde `xxx` será substituído pelo valor contido em uma variável, digamos, `psicofisico`. Vejamos isso na prática:"
   ]
  },
  {
   "cell_type": "code",
   "execution_count": 2,
   "metadata": {},
   "outputs": [
    {
     "name": "stdout",
     "output_type": "stream",
     "text": [
      "Meu psicofísico preferido é Gustav Theodor Fechner. E o seu é Ernst Heinrich Weber.\n"
     ]
    }
   ],
   "source": [
    "# Cria duas variáveis diferentes\n",
    "meu_psicofisico = \"Gustav Theodor Fechner\"\n",
    "seu_psicofisico = \"Ernst Heinrich Weber\"\n",
    "\n",
    "# e imprime uma mensagem usando uma f-string\n",
    "print(f\"Meu psicofísico preferido é {meu_psicofisico}. E o seu é {seu_psicofisico}.\")"
   ]
  },
  {
   "cell_type": "markdown",
   "metadata": {
    "id": "iYyFo4nkKNhk"
   },
   "source": [
    "Agora podemos combinar texto e variável na função `print`."
   ]
  },
  {
   "cell_type": "code",
   "execution_count": 3,
   "metadata": {
    "colab": {
     "base_uri": "https://localhost:8080/"
    },
    "executionInfo": {
     "elapsed": 527,
     "status": "ok",
     "timestamp": 1643113057782,
     "user": {
      "displayName": "Marcos Lima",
      "photoUrl": "https://lh3.googleusercontent.com/a-/AOh14GjPkqY9h8ofRUdSfF7NlRlX2qBndhrvEgGih7OPbg=s64",
      "userId": "12059436749293830667"
     },
     "user_tz": 180
    },
    "id": "Q6nwa7QcKI8n",
    "outputId": "9285db9a-8b80-44f6-c335-fde6470cf5c2"
   },
   "outputs": [
    {
     "name": "stdout",
     "output_type": "stream",
     "text": [
      "Gustav Theodor Fechner foi um psicofísico alemão que morreu aos 86 anos.\n"
     ]
    }
   ],
   "source": [
    "psicofisico = \"Gustav Theodor Fechner\"\n",
    "nacionalidade = \"alemão\"\n",
    "idade_de_morte = 86\n",
    "\n",
    "# combinando texto e variável\n",
    "print(f\"{psicofisico} foi um psicofísico {nacionalidade} que morreu aos {idade_de_morte} anos.\")\n"
   ]
  },
  {
   "cell_type": "code",
   "execution_count": 4,
   "metadata": {
    "colab": {
     "base_uri": "https://localhost:8080/"
    },
    "executionInfo": {
     "elapsed": 553,
     "status": "ok",
     "timestamp": 1643113177418,
     "user": {
      "displayName": "Marcos Lima",
      "photoUrl": "https://lh3.googleusercontent.com/a-/AOh14GjPkqY9h8ofRUdSfF7NlRlX2qBndhrvEgGih7OPbg=s64",
      "userId": "12059436749293830667"
     },
     "user_tz": 180
    },
    "id": "7CQJGIWYK9sx",
    "outputId": "10d6ec63-0a12-4c70-df70-afe10ff6add9"
   },
   "outputs": [
    {
     "name": "stdout",
     "output_type": "stream",
     "text": [
      "Os funcionários que ganhavam R$ 1500.00 tiveram um aumento de 5%, passando a receber R$ 1575.00 por mês.\n"
     ]
    }
   ],
   "source": [
    "# Outro exemplo\n",
    "salario = 1500\n",
    "aumento = 5 # aumento percentual do salário\n",
    "salario_reajustado = salario + (salario * aumento / 100) # calcula o reajuste salarial\n",
    "\n",
    "# imprime mensagem\n",
    "print(f\"Os funcionários que ganhavam R$ {salario:.2f} tiveram um aumento de {aumento}%, passando a receber R$ {salario_reajustado:.2f} por mês.\")"
   ]
  },
  {
   "cell_type": "code",
   "execution_count": 6,
   "metadata": {
    "colab": {
     "base_uri": "https://localhost:8080/"
    },
    "executionInfo": {
     "elapsed": 654,
     "status": "ok",
     "timestamp": 1643113288928,
     "user": {
      "displayName": "Marcos Lima",
      "photoUrl": "https://lh3.googleusercontent.com/a-/AOh14GjPkqY9h8ofRUdSfF7NlRlX2qBndhrvEgGih7OPbg=s64",
      "userId": "12059436749293830667"
     },
     "user_tz": 180
    },
    "id": "DvaUHUVSLkTe",
    "outputId": "a24f2be7-6f48-41ab-dd61-27a357331f92"
   },
   "outputs": [
    {
     "name": "stdout",
     "output_type": "stream",
     "text": [
      "Quem nasceu em 1950 completará 72 anos em 2022.\n"
     ]
    }
   ],
   "source": [
    "# E mais um exemplo\n",
    "ano_de_nascimento = 1950\n",
    "ano_atual = 2022\n",
    "\n",
    "print(f\"Quem nasceu em {ano_de_nascimento} completará {ano_atual - ano_de_nascimento} anos em {ano_atual}.\")"
   ]
  },
  {
   "cell_type": "markdown",
   "metadata": {
    "id": "HA0lyKVmL8NB"
   },
   "source": [
    "**Tipos de variáveis**: A seguir, será feita apenas uma introdução aos tipos de variáveis. Eles serão mais bem aprofundados posteriormente."
   ]
  },
  {
   "cell_type": "code",
   "execution_count": 10,
   "metadata": {
    "colab": {
     "base_uri": "https://localhost:8080/"
    },
    "executionInfo": {
     "elapsed": 437,
     "status": "ok",
     "timestamp": 1643113713816,
     "user": {
      "displayName": "Marcos Lima",
      "photoUrl": "https://lh3.googleusercontent.com/a-/AOh14GjPkqY9h8ofRUdSfF7NlRlX2qBndhrvEgGih7OPbg=s64",
      "userId": "12059436749293830667"
     },
     "user_tz": 180
    },
    "id": "1dMTE038MEUG",
    "outputId": "2a392beb-7ca8-481c-b3dc-d125d0c235a4"
   },
   "outputs": [
    {
     "name": "stdout",
     "output_type": "stream",
     "text": [
      "O valor Gustav Theodor Fechner é do tipo <class 'str'>.\n",
      "O valor 86 é do tipo <class 'str'>.\n",
      "O valor 86 é do tipo <class 'int'>.\n",
      "O valor 2022 é do tipo <class 'int'>.\n",
      "O valor 1.0 é do tipo <class 'float'>.\n",
      "O valor 5.0 é do tipo <class 'float'>.\n",
      "O valor True é do tipo <class 'bool'>.\n",
      "O valor False é do tipo <class 'bool'>.\n",
      "O valor ['A', 'E', 'I', 'O', 'U'] é do tipo <class 'list'>.\n",
      "O valor (1, 3, 5, 7, 9) é do tipo <class 'tuple'>.\n",
      "O valor {'João': 4.4, 'Maria': 10, 'José': 6.9} é do tipo <class 'dict'>.\n"
     ]
    }
   ],
   "source": [
    "# String = sequência de caracteres (valores entre aspas)\n",
    "psicofisico = \"Gustav Theodor Fechner\"\n",
    "idade_de_morte_string = \"86\"\n",
    "\n",
    "# Inteiro = números inteiros\n",
    "idade_de_morte = 86\n",
    "ano_atual = 2022\n",
    "\n",
    "# Float = números com casas decimais\n",
    "unidade = 1.0\n",
    "divisao = 10 / 2\n",
    "\n",
    "# Booleano = variável do tipo verdadeiro ou falso\n",
    "fechner_era_psicofisico = True\n",
    "fechner_era_psicanalista = False\n",
    "\n",
    "# Lista (sequência mutável)\n",
    "vogais = [\"A\", \"E\", \"I\", \"O\", \"U\"]\n",
    "\n",
    "# Tupla (sequência imutável)\n",
    "impares = (1, 3, 5, 7, 9)\n",
    "\n",
    "# Dicionário (contâiner do tipo chave-valor)\n",
    "notas = {\"João\": 4.4,\n",
    "         \"Maria\": 10,\n",
    "         \"José\": 6.9}\n",
    "\n",
    "\n",
    "print(f'O valor {psicofisico} é do tipo {type(psicofisico)}.')\n",
    "print(f'O valor {idade_de_morte_string} é do tipo {type(idade_de_morte_string)}.')\n",
    "print(f'O valor {idade_de_morte} é do tipo {type(idade_de_morte)}.')\n",
    "print(f'O valor {ano_atual} é do tipo {type(ano_atual)}.')\n",
    "print(f'O valor {unidade} é do tipo {type(unidade)}.')\n",
    "print(f'O valor {divisao} é do tipo {type(divisao)}.')\n",
    "print(f'O valor {fechner_era_psicofisico} é do tipo {type(fechner_era_psicofisico)}.')\n",
    "print(f'O valor {fechner_era_psicanalista} é do tipo {type(fechner_era_psicanalista)}.')\n",
    "print(f'O valor {vogais} é do tipo {type(vogais)}.')\n",
    "print(f'O valor {impares} é do tipo {type(impares)}.')\n",
    "print(f'O valor {notas} é do tipo {type(notas)}.')"
   ]
  }
 ],
 "metadata": {
  "colab": {
   "authorship_tag": "ABX9TyPN+ZRm8vFvI2Fp+5tOVILI",
   "collapsed_sections": [],
   "name": "003 - Tipos de variáveis.ipynb",
   "provenance": []
  },
  "kernelspec": {
   "display_name": "Python 3",
   "language": "python",
   "name": "python3"
  },
  "language_info": {
   "codemirror_mode": {
    "name": "ipython",
    "version": 3
   },
   "file_extension": ".py",
   "mimetype": "text/x-python",
   "name": "python",
   "nbconvert_exporter": "python",
   "pygments_lexer": "ipython3",
   "version": "3.8.5"
  }
 },
 "nbformat": 4,
 "nbformat_minor": 1
}
