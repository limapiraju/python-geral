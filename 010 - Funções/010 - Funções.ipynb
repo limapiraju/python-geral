{
 "cells": [
  {
   "cell_type": "markdown",
   "metadata": {},
   "source": [
    "Criando funções usando a palavra reservada `def`."
   ]
  },
  {
   "cell_type": "code",
   "execution_count": 7,
   "metadata": {},
   "outputs": [
    {
     "name": "stdout",
     "output_type": "stream",
     "text": [
      "=====Testando essa bagacinha aqui=====\n",
      "####################Oh, e agora, quem poderá me ajudar?####################\n",
      "========================= Meu terceiro e último exemplo =========================\n"
     ]
    }
   ],
   "source": [
    "def fancy_print(texto, symbol = \"=\", quantity = 5):\n",
    "    \"\"\"\n",
    "    Recebe um texto qualquer e imprime ele cheio de frescurinhas.\n",
    "    \n",
    "    Exemplo:\n",
    "    \n",
    "    fancy_print(\"Meu Texto\", symbol = \"*\", quantity = 10)\n",
    "    \n",
    "    **********Meu Texto**********\n",
    "    \"\"\"\n",
    "    print(f\"{symbol * quantity}{texto}{symbol * quantity}\")\n",
    "    \n",
    "fancy_print(\"Testando essa bagacinha aqui\")\n",
    "fancy_print(\"Oh, e agora, quem poderá me ajudar?\", symbol = \"#\", quantity = 20)\n",
    "fancy_print(\" Meu terceiro e último exemplo \", quantity = 25)"
   ]
  },
  {
   "cell_type": "code",
   "execution_count": 12,
   "metadata": {},
   "outputs": [
    {
     "name": "stdout",
     "output_type": "stream",
     "text": [
      "A área de um círculo de raio 1 cm é de 3.14 cm².\n",
      "A área de um círculo de raio 2 cm é de 12.57 cm².\n",
      "A área de um círculo de raio 3 cm é de 28.27 cm².\n",
      "A área de um círculo de raio 4 cm é de 50.27 cm².\n",
      "A área de um círculo de raio 5 cm é de 78.54 cm².\n",
      "A área de um círculo de raio 6 cm é de 113.10 cm².\n",
      "A área de um círculo de raio 7 cm é de 153.94 cm².\n",
      "A área de um círculo de raio 8 cm é de 201.06 cm².\n",
      "A área de um círculo de raio 9 cm é de 254.47 cm².\n",
      "A área de um círculo de raio 10 cm é de 314.16 cm².\n"
     ]
    }
   ],
   "source": [
    "import math\n",
    "\n",
    "def area_circulo(raio: float):\n",
    "    \"\"\"\n",
    "    Recebe um float que representa o raio de um círculo. Retorna sua área.\n",
    "    \"\"\"\n",
    "    return math.pi * raio ** 2\n",
    "\n",
    "for i in range(1, 11):\n",
    "    print(f\"A área de um círculo de raio {i} cm é de {area_circulo(i):.2f} cm².\")"
   ]
  },
  {
   "cell_type": "code",
   "execution_count": 13,
   "metadata": {},
   "outputs": [
    {
     "name": "stdout",
     "output_type": "stream",
     "text": [
      "A área de um triângulo de base 1 cm e de altura 1 cm é de 0.50 cm².\n",
      "A área de um triângulo de base 1 cm e de altura 2 cm é de 1.00 cm².\n",
      "A área de um triângulo de base 1 cm e de altura 3 cm é de 1.50 cm².\n",
      "A área de um triângulo de base 1 cm e de altura 4 cm é de 2.00 cm².\n",
      "A área de um triângulo de base 1 cm e de altura 5 cm é de 2.50 cm².\n",
      "A área de um triângulo de base 2 cm e de altura 1 cm é de 1.00 cm².\n",
      "A área de um triângulo de base 2 cm e de altura 2 cm é de 2.00 cm².\n",
      "A área de um triângulo de base 2 cm e de altura 3 cm é de 3.00 cm².\n",
      "A área de um triângulo de base 2 cm e de altura 4 cm é de 4.00 cm².\n",
      "A área de um triângulo de base 2 cm e de altura 5 cm é de 5.00 cm².\n",
      "A área de um triângulo de base 3 cm e de altura 1 cm é de 1.50 cm².\n",
      "A área de um triângulo de base 3 cm e de altura 2 cm é de 3.00 cm².\n",
      "A área de um triângulo de base 3 cm e de altura 3 cm é de 4.50 cm².\n",
      "A área de um triângulo de base 3 cm e de altura 4 cm é de 6.00 cm².\n",
      "A área de um triângulo de base 3 cm e de altura 5 cm é de 7.50 cm².\n",
      "A área de um triângulo de base 4 cm e de altura 1 cm é de 2.00 cm².\n",
      "A área de um triângulo de base 4 cm e de altura 2 cm é de 4.00 cm².\n",
      "A área de um triângulo de base 4 cm e de altura 3 cm é de 6.00 cm².\n",
      "A área de um triângulo de base 4 cm e de altura 4 cm é de 8.00 cm².\n",
      "A área de um triângulo de base 4 cm e de altura 5 cm é de 10.00 cm².\n",
      "A área de um triângulo de base 5 cm e de altura 1 cm é de 2.50 cm².\n",
      "A área de um triângulo de base 5 cm e de altura 2 cm é de 5.00 cm².\n",
      "A área de um triângulo de base 5 cm e de altura 3 cm é de 7.50 cm².\n",
      "A área de um triângulo de base 5 cm e de altura 4 cm é de 10.00 cm².\n",
      "A área de um triângulo de base 5 cm e de altura 5 cm é de 12.50 cm².\n"
     ]
    }
   ],
   "source": [
    "def area_triangulo_retangulo(base: float, altura: float):\n",
    "    \"\"\"\n",
    "    Recebe a base e a altura de um triângulo retângulo e retorna sua área.\n",
    "    \"\"\"\n",
    "    return (base * altura) / 2\n",
    "\n",
    "for i in range(1, 6):\n",
    "    for j in range(1, 6):\n",
    "        print(f\"A área de um triângulo de base {i} cm e de altura {j} cm é de {area_triangulo_retangulo(i, j):.2f} cm².\")"
   ]
  },
  {
   "cell_type": "code",
   "execution_count": 18,
   "metadata": {},
   "outputs": [
    {
     "name": "stdout",
     "output_type": "stream",
     "text": [
      "3628800\n"
     ]
    }
   ],
   "source": [
    "def produto(*fatores):\n",
    "    \"\"\"\n",
    "    Recebe uma lista de valores e retorna seu produto.\n",
    "    \"\"\"\n",
    "    \n",
    "    produto = fatores[0]\n",
    "    \n",
    "    for i in range(1, len(fatores)):\n",
    "        produto *= fatores[i]\n",
    "        \n",
    "    return produto\n",
    "    \n",
    "print(produto(1, 2, 3, 4, 5, 6, 7, 8, 9, 10))"
   ]
  },
  {
   "cell_type": "markdown",
   "metadata": {},
   "source": [
    "Argumentos variáveis (`*args`) devem vir depois dos demais argumentos."
   ]
  },
  {
   "cell_type": "code",
   "execution_count": 20,
   "metadata": {},
   "outputs": [
    {
     "name": "stdout",
     "output_type": "stream",
     "text": [
      "A média de Marquin foi de 4.70.\n"
     ]
    }
   ],
   "source": [
    "def nota_media(nome = \"Nome\", *notas):\n",
    "    \"\"\"\n",
    "    Recebe o nome de um aluno e suas notas.\n",
    "    Retorna uma string com sua média.\n",
    "    \"\"\"\n",
    "    soma = 0\n",
    "    \n",
    "    for nota in notas:\n",
    "        soma += nota\n",
    "        \n",
    "    media = soma / len(notas)\n",
    "    \n",
    "    return f\"A média de {nome} foi de {media:.2f}.\"\n",
    "\n",
    "print(nota_media(\"Marquin\", 1, 2, 7, 8.8)) \n",
    "    "
   ]
  }
 ],
 "metadata": {
  "kernelspec": {
   "display_name": "Python 3",
   "language": "python",
   "name": "python3"
  },
  "language_info": {
   "codemirror_mode": {
    "name": "ipython",
    "version": 3
   },
   "file_extension": ".py",
   "mimetype": "text/x-python",
   "name": "python",
   "nbconvert_exporter": "python",
   "pygments_lexer": "ipython3",
   "version": "3.8.5"
  }
 },
 "nbformat": 4,
 "nbformat_minor": 4
}
