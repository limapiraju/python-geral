{
 "cells": [
  {
   "cell_type": "markdown",
   "metadata": {
    "id": "t9O2v6cK_CUP"
   },
   "source": [
    "### Códigos fortemente baseados no Capítulo 5 do livro de Luciano Ramalho:\n",
    "\n",
    "### **Ramalho, L. (2015). *Python fluente: Programação clara, concisa e eficaz*. Novatec.**"
   ]
  },
  {
   "cell_type": "code",
   "execution_count": null,
   "metadata": {
    "colab": {
     "base_uri": "https://localhost:8080/",
     "height": 363
    },
    "executionInfo": {
     "elapsed": 744,
     "status": "ok",
     "timestamp": 1642640230215,
     "user": {
      "displayName": "Marcos Lima",
      "photoUrl": "https://lh3.googleusercontent.com/a-/AOh14GjPkqY9h8ofRUdSfF7NlRlX2qBndhrvEgGih7OPbg=s64",
      "userId": "12059436749293830667"
     },
     "user_tz": 180
    },
    "id": "0s-7HDW8-U7c",
    "outputId": "321f9ec5-ea7e-47a0-bd84-dd4c361235d3"
   },
   "outputs": [
    {
     "data": {
      "image/jpeg": "[encoded data removed]",
      "text/plain": [
       "<IPython.core.display.Image object>"
      ]
     },
     "execution_count": 2,
     "metadata": {},
     "output_type": "execute_result"
    }
   ],
   "source": [
    "from IPython.display import Image\n",
    "path = 'C:/Users/User/Desktop/Python para Psicólogos/python-geral/026 - Funções de primeira classe/'\n",
    "Image(filename = f'{path}Ramalho (2015).jpg') "
   ]
  },
  {
   "cell_type": "markdown",
   "metadata": {
    "id": "fzI-AQ174680"
   },
   "source": [
    "### **Tratando uma função como um objeto**"
   ]
  },
  {
   "cell_type": "code",
   "execution_count": 1,
   "metadata": {
    "colab": {
     "base_uri": "https://localhost:8080/"
    },
    "executionInfo": {
     "elapsed": 18,
     "status": "ok",
     "timestamp": 1642856791986,
     "user": {
      "displayName": "Marcos Lima",
      "photoUrl": "https://lh3.googleusercontent.com/a-/AOh14GjPkqY9h8ofRUdSfF7NlRlX2qBndhrvEgGih7OPbg=s64",
      "userId": "12059436749293830667"
     },
     "user_tz": 180
    },
    "id": "hS-0p2JS4f5X",
    "outputId": "9510e341-b1e4-4e70-880c-13e1e2533a99"
   },
   "outputs": [
    {
     "name": "stdout",
     "output_type": "stream",
     "text": [
      "1405006117752879898543142606244511569936384000000000\n",
      "Retorna n!\n",
      "<class 'function'>\n"
     ]
    }
   ],
   "source": [
    "def factorial(n):\n",
    "    '''Retorna n!'''\n",
    "    return 1 if n < 2 else n * factorial(n - 1)\n",
    "\n",
    "print(factorial(42))\n",
    "print(factorial.__doc__)\n",
    "print(type(factorial))"
   ]
  },
  {
   "cell_type": "code",
   "execution_count": 2,
   "metadata": {
    "colab": {
     "base_uri": "https://localhost:8080/"
    },
    "executionInfo": {
     "elapsed": 317,
     "status": "ok",
     "timestamp": 1642856914107,
     "user": {
      "displayName": "Marcos Lima",
      "photoUrl": "https://lh3.googleusercontent.com/a-/AOh14GjPkqY9h8ofRUdSfF7NlRlX2qBndhrvEgGih7OPbg=s64",
      "userId": "12059436749293830667"
     },
     "user_tz": 180
    },
    "id": "O9fEVZWO5dwi",
    "outputId": "4daef079-f0a6-4cef-87aa-49996ce53543"
   },
   "outputs": [
    {
     "name": "stdout",
     "output_type": "stream",
     "text": [
      "<function factorial at 0x7fb94af6ddd0>\n",
      "120\n",
      "<map object at 0x7fb94744b650>\n",
      "[1, 1, 2, 6, 24, 120, 720, 5040, 40320, 362880, 3628800]\n"
     ]
    }
   ],
   "source": [
    "# a função map devolve um iterável em que cada item é o resultado da aplicação do primeiro argumento\n",
    "# (uma função) a elementos sucessivos do segundo argumento (um iterável)\n",
    "fact = factorial\n",
    "\n",
    "print(fact)\n",
    "print(fact(5))\n",
    "print(map(factorial, range(11)))\n",
    "print(list(map(factorial, range(11))))"
   ]
  },
  {
   "cell_type": "markdown",
   "metadata": {
    "id": "Wa2hcj8459rS"
   },
   "source": [
    "### **Funções de ordem superior**"
   ]
  },
  {
   "cell_type": "code",
   "execution_count": 3,
   "metadata": {
    "colab": {
     "base_uri": "https://localhost:8080/"
    },
    "executionInfo": {
     "elapsed": 301,
     "status": "ok",
     "timestamp": 1642857103523,
     "user": {
      "displayName": "Marcos Lima",
      "photoUrl": "https://lh3.googleusercontent.com/a-/AOh14GjPkqY9h8ofRUdSfF7NlRlX2qBndhrvEgGih7OPbg=s64",
      "userId": "12059436749293830667"
     },
     "user_tz": 180
    },
    "id": "3c0VW9Hd58Ko",
    "outputId": "41b630de-8199-42c7-a811-b78b68603aac"
   },
   "outputs": [
    {
     "data": {
      "text/plain": [
       "['fig', 'apple', 'cherry', 'banana', 'raspberry', 'strawberry']"
      ]
     },
     "execution_count": 3,
     "metadata": {},
     "output_type": "execute_result"
    }
   ],
   "source": [
    "# é uma função que aceita outra função como argumento ou que devolve uma função como resultado\n",
    "# exemplos: map, filter, reduce, apply, sorted\n",
    "fruits = ['strawberry', 'fig', 'apple', 'cherry', 'raspberry', 'banana']\n",
    "sorted(fruits, key = len)"
   ]
  },
  {
   "cell_type": "markdown",
   "metadata": {
    "id": "MwFDhBcT8AxL"
   },
   "source": [
    "### **Substitutos modernos para `map`, `filter` e `reduce`**"
   ]
  },
  {
   "cell_type": "code",
   "execution_count": 4,
   "metadata": {
    "colab": {
     "base_uri": "https://localhost:8080/"
    },
    "executionInfo": {
     "elapsed": 343,
     "status": "ok",
     "timestamp": 1642857651499,
     "user": {
      "displayName": "Marcos Lima",
      "photoUrl": "https://lh3.googleusercontent.com/a-/AOh14GjPkqY9h8ofRUdSfF7NlRlX2qBndhrvEgGih7OPbg=s64",
      "userId": "12059436749293830667"
     },
     "user_tz": 180
    },
    "id": "QXnxb7ee8GIc",
    "outputId": "b4bff8f7-0161-4f50-8ee9-2c59d7517409"
   },
   "outputs": [
    {
     "name": "stdout",
     "output_type": "stream",
     "text": [
      "[1, 1, 2, 6, 24, 120] [1, 1, 2, 6, 24, 120] [1, 6, 120] [1, 6, 120]\n"
     ]
    }
   ],
   "source": [
    "# lista de fatoriais com map\n",
    "a = list(map(fact, range(6)))\n",
    "\n",
    "# mesma ação, mas com listcomp\n",
    "b = [fact(n) for n in range(6)]\n",
    "\n",
    "# fatoriais de números ímpares\n",
    "c = list(map(factorial, filter(lambda n: n % 2, range(6))))\n",
    "\n",
    "# mesma ação, mas com listcomp\n",
    "d = [factorial(n) for n in range(6) if n % 2]\n",
    "\n",
    "print(a, b, c, d)"
   ]
  },
  {
   "cell_type": "code",
   "execution_count": 6,
   "metadata": {
    "colab": {
     "base_uri": "https://localhost:8080/"
    },
    "executionInfo": {
     "elapsed": 864,
     "status": "ok",
     "timestamp": 1642857767686,
     "user": {
      "displayName": "Marcos Lima",
      "photoUrl": "https://lh3.googleusercontent.com/a-/AOh14GjPkqY9h8ofRUdSfF7NlRlX2qBndhrvEgGih7OPbg=s64",
      "userId": "12059436749293830667"
     },
     "user_tz": 180
    },
    "id": "8ZuZNVi3817J",
    "outputId": "70676cb9-fe8b-48f0-95e8-509581ac3928"
   },
   "outputs": [
    {
     "name": "stdout",
     "output_type": "stream",
     "text": [
      "4950 4950\n"
     ]
    }
   ],
   "source": [
    "# função reduce\n",
    "from functools import reduce\n",
    "from operator import add\n",
    "a = reduce(add, range(100))\n",
    "\n",
    "# mesma ação anterior, mas mais simples\n",
    "b = sum(range(100))\n",
    "\n",
    "print(a, b)"
   ]
  },
  {
   "cell_type": "code",
   "execution_count": 8,
   "metadata": {
    "colab": {
     "base_uri": "https://localhost:8080/"
    },
    "executionInfo": {
     "elapsed": 371,
     "status": "ok",
     "timestamp": 1642857872931,
     "user": {
      "displayName": "Marcos Lima",
      "photoUrl": "https://lh3.googleusercontent.com/a-/AOh14GjPkqY9h8ofRUdSfF7NlRlX2qBndhrvEgGih7OPbg=s64",
      "userId": "12059436749293830667"
     },
     "user_tz": 180
    },
    "id": "O7OfvRIo9GMR",
    "outputId": "1ac69825-9c43-4813-c58e-34eb7f893fe6"
   },
   "outputs": [
    {
     "name": "stdout",
     "output_type": "stream",
     "text": [
      "False False False True True True\n"
     ]
    }
   ],
   "source": [
    "# all = devolve True se todos os elementos de iterable forem verdadeiros\n",
    "# any - devolve True se algum elemento de iterable for verdadeiro\n",
    "a = [0, 0, 0]\n",
    "b = [0, 1, 0]\n",
    "c = [1, 1, 1]\n",
    "print(all(a), any(a), all(b), any(b), all(c), any(c))"
   ]
  },
  {
   "cell_type": "markdown",
   "metadata": {
    "id": "nNzmyD9b9vLu"
   },
   "source": [
    "## **Funções anônimas**"
   ]
  },
  {
   "cell_type": "code",
   "execution_count": 10,
   "metadata": {
    "colab": {
     "base_uri": "https://localhost:8080/"
    },
    "executionInfo": {
     "elapsed": 308,
     "status": "ok",
     "timestamp": 1642858035572,
     "user": {
      "displayName": "Marcos Lima",
      "photoUrl": "https://lh3.googleusercontent.com/a-/AOh14GjPkqY9h8ofRUdSfF7NlRlX2qBndhrvEgGih7OPbg=s64",
      "userId": "12059436749293830667"
     },
     "user_tz": 180
    },
    "id": "jCjXzJSx9xTf",
    "outputId": "160580bf-1eac-4092-b354-b9b8cffb8a93"
   },
   "outputs": [
    {
     "data": {
      "text/plain": [
       "['banana', 'apple', 'fig', 'raspberry', 'strawberry', 'cherry']"
      ]
     },
     "execution_count": 10,
     "metadata": {},
     "output_type": "execute_result"
    }
   ],
   "source": [
    "# são úteis como argumentos para funções de ordem superior\n",
    "# não é possível fazer atribuições dentro de lambda\n",
    "fruits = ['strawberry', 'fig', 'apple', 'cherry', 'raspberry', 'banana']\n",
    "\n",
    "sorted(fruits, key = lambda word: word[::-1])"
   ]
  }
 ],
 "metadata": {
  "colab": {
   "authorship_tag": "ABX9TyPa510nc8hVmyz02dzWZb8X",
   "collapsed_sections": [],
   "mount_file_id": "1vc0dcn8KfmIej7OHYn7XLUscKL5cB_lu",
   "name": "014 - Funções de primeira classe.ipynb",
   "provenance": [
    {
     "file_id": "1vc0dcn8KfmIej7OHYn7XLUscKL5cB_lu",
     "timestamp": 1642693605283
    }
   ]
  },
  "kernelspec": {
   "display_name": "Python 3",
   "language": "python",
   "name": "python3"
  },
  "language_info": {
   "codemirror_mode": {
    "name": "ipython",
    "version": 3
   },
   "file_extension": ".py",
   "mimetype": "text/x-python",
   "name": "python",
   "nbconvert_exporter": "python",
   "pygments_lexer": "ipython3",
   "version": "3.8.5"
  }
 },
 "nbformat": 4,
 "nbformat_minor": 1
}
