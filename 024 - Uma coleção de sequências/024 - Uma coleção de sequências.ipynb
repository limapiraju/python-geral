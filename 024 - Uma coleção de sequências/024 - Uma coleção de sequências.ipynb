{
 "cells": [
  {
   "cell_type": "markdown",
   "metadata": {
    "id": "t9O2v6cK_CUP"
   },
   "source": [
    "### Códigos fortemente baseados no Capítulo 2 do livro de Luciano Ramalho: **Ramalho, L. (2015). *Python fluente: Programação clara, concisa e eficaz*. Novatec.**"
   ]
  },
  {
   "cell_type": "code",
   "execution_count": 1,
   "metadata": {
    "colab": {
     "base_uri": "https://localhost:8080/",
     "height": 363
    },
    "executionInfo": {
     "elapsed": 744,
     "status": "ok",
     "timestamp": 1642640230215,
     "user": {
      "displayName": "Marcos Lima",
      "photoUrl": "https://lh3.googleusercontent.com/a-/AOh14GjPkqY9h8ofRUdSfF7NlRlX2qBndhrvEgGih7OPbg=s64",
      "userId": "12059436749293830667"
     },
     "user_tz": 180
    },
    "id": "0s-7HDW8-U7c",
    "outputId": "321f9ec5-ea7e-47a0-bd84-dd4c361235d3"
   },
   "outputs": [
    {
     "data": {
      "image/jpeg": "[encoded data removed]",
      "text/plain": [
       "<IPython.core.display.Image object>"
      ]
     },
     "execution_count": 1,
     "metadata": {},
     "output_type": "execute_result"
    }
   ],
   "source": [
    "from IPython.display import Image\n",
    "path = 'C:/Users/User/Desktop/Python para Psicólogos/python-geral/024 - Uma coleção de sequências/'\n",
    "Image(filename = f'{path}Ramalho (2015).jpg') "
   ]
  },
  {
   "cell_type": "markdown",
   "metadata": {
    "id": "Ds2Pbgeg_NVC"
   },
   "source": [
    "### **Visão geral das sequências embutidas**\n",
    "\n",
    "Sequências container: list, tuple e collections.deque; podem \n",
    "\n",
    "*   *Sequências container*: list, tuple e collections.deque; podem armazenar tipos diferentes;\n",
    "*   *Simples*: str, bytes, bytearray, memoryview, array.array; armazenam itens de um só tipo;\n",
    "*   *Mutáveis*: list, bytearray, array.array, collections.deque, memoryview;\n",
    "*   *Imutáveis*: tuple, str, bytes;"
   ]
  },
  {
   "cell_type": "markdown",
   "metadata": {
    "id": "uu0dVVweBTVL"
   },
   "source": [
    "### **List comprehensions e expressões geradoras**"
   ]
  },
  {
   "cell_type": "code",
   "execution_count": 5,
   "metadata": {
    "colab": {
     "base_uri": "https://localhost:8080/"
    },
    "executionInfo": {
     "elapsed": 284,
     "status": "ok",
     "timestamp": 1642641174785,
     "user": {
      "displayName": "Marcos Lima",
      "photoUrl": "https://lh3.googleusercontent.com/a-/AOh14GjPkqY9h8ofRUdSfF7NlRlX2qBndhrvEgGih7OPbg=s64",
      "userId": "12059436749293830667"
     },
     "user_tz": 180
    },
    "id": "C3eLiA4QAsHX",
    "outputId": "70738c1c-05ea-40cc-e5b0-c7f4a619a07a"
   },
   "outputs": [
    {
     "name": "stdout",
     "output_type": "stream",
     "text": [
      "[36, 162, 163, 9786, 9787, 9829]\n",
      "♥\n",
      "[36, 162, 163, 9786, 9787, 9829]\n",
      "teste2\n"
     ]
    }
   ],
   "source": [
    "# preenchendo uma lista com for loop\n",
    "symbols = '$¢£☺☻♥'\n",
    "codes = []\n",
    "symbol = \"teste1\"\n",
    "for symbol in symbols: # symbol é uma variável global\n",
    "    codes.append(ord(symbol))\n",
    "\n",
    "print(codes)\n",
    "print(symbol)\n",
    "\n",
    "# mesmo código acima, mas usando listcomps\n",
    "symbols = '$¢£☺☻♥'\n",
    "symbol = \"teste2\" \n",
    "new_codes = [ord(symbol) for symbol in symbols] # symbol agora é uma variável local\n",
    "\n",
    "print(new_codes)\n",
    "print(symbol)"
   ]
  },
  {
   "cell_type": "code",
   "execution_count": 6,
   "metadata": {
    "colab": {
     "base_uri": "https://localhost:8080/"
    },
    "executionInfo": {
     "elapsed": 268,
     "status": "ok",
     "timestamp": 1642641422848,
     "user": {
      "displayName": "Marcos Lima",
      "photoUrl": "https://lh3.googleusercontent.com/a-/AOh14GjPkqY9h8ofRUdSfF7NlRlX2qBndhrvEgGih7OPbg=s64",
      "userId": "12059436749293830667"
     },
     "user_tz": 180
    },
    "id": "ArrXTUCrDLtZ",
    "outputId": "4cf768f5-4d89-41bc-b3c2-6629937663e5"
   },
   "outputs": [
    {
     "data": {
      "text/plain": [
       "[('placebo', 'pre-treatment'),\n",
       " ('placebo', 'posttreatment'),\n",
       " ('placebo', 'follow-up'),\n",
       " ('medication', 'pre-treatment'),\n",
       " ('medication', 'posttreatment'),\n",
       " ('medication', 'follow-up')]"
      ]
     },
     "execution_count": 6,
     "metadata": {},
     "output_type": "execute_result"
    }
   ],
   "source": [
    "# listcomps e produtos cartesianos\n",
    "drugs = ['placebo', 'medication']\n",
    "times = ['pre-treatment', 'posttreatment', 'follow-up']\n",
    "conditions = [(drug, time) for drug in drugs for time in times]\n",
    "conditions"
   ]
  },
  {
   "cell_type": "code",
   "execution_count": 9,
   "metadata": {
    "colab": {
     "base_uri": "https://localhost:8080/"
    },
    "executionInfo": {
     "elapsed": 303,
     "status": "ok",
     "timestamp": 1642641627068,
     "user": {
      "displayName": "Marcos Lima",
      "photoUrl": "https://lh3.googleusercontent.com/a-/AOh14GjPkqY9h8ofRUdSfF7NlRlX2qBndhrvEgGih7OPbg=s64",
      "userId": "12059436749293830667"
     },
     "user_tz": 180
    },
    "id": "xuklAxQoEBGb",
    "outputId": "60cf2780-caef-4166-a4d9-4ed341893cb7"
   },
   "outputs": [
    {
     "name": "stdout",
     "output_type": "stream",
     "text": [
      "(36, 162, 163, 9786, 9787, 9829)\n"
     ]
    },
    {
     "data": {
      "text/plain": [
       "array('I', [36, 162, 163, 9786, 9787, 9829])"
      ]
     },
     "execution_count": 9,
     "metadata": {},
     "output_type": "execute_result"
    }
   ],
   "source": [
    "# genexps\n",
    "symbols = '$¢£☺☻♥'\n",
    "codes = tuple(ord(symbol) for symbol in symbols)\n",
    "print(codes)\n",
    "\n",
    "import array\n",
    "array.array('I', (ord(symbol) for symbol in symbols))"
   ]
  },
  {
   "cell_type": "markdown",
   "metadata": {
    "id": "q2_ZlnAuE2FO"
   },
   "source": [
    "### **Tuplas**"
   ]
  },
  {
   "cell_type": "code",
   "execution_count": 4,
   "metadata": {
    "colab": {
     "base_uri": "https://localhost:8080/"
    },
    "executionInfo": {
     "elapsed": 2562,
     "status": "ok",
     "timestamp": 1642681332951,
     "user": {
      "displayName": "Marcos Lima",
      "photoUrl": "https://lh3.googleusercontent.com/a-/AOh14GjPkqY9h8ofRUdSfF7NlRlX2qBndhrvEgGih7OPbg=s64",
      "userId": "12059436749293830667"
     },
     "user_tz": 180
    },
    "id": "3x6ij9H2E3uW",
    "outputId": "f55987fb-744f-434f-c9f9-a2359edfdf7c"
   },
   "outputs": [
    {
     "name": "stdout",
     "output_type": "stream",
     "text": [
      "A copa de 1994, EUA, foi vencida por Brasil.\n",
      "A copa de 1998, França, foi vencida por França.\n",
      "A copa de 2002, Japão e Coreia do Sul, foi vencida por Brasil.\n",
      "A copa de 2006, Alemanha, foi vencida por Itália.\n",
      "A copa de 2010, África do Sul, foi vencida por Espanha.\n",
      "A copa de 2014, Brasil, foi vencida por Alemanha.\n",
      "A copa de 2018, Rússia, foi vencida por França.\n"
     ]
    }
   ],
   "source": [
    "# Tuplas como listas imutáveis\n",
    "minha_tupla = (1, 2, 3, 4, 5)\n",
    "\n",
    "# Tuplas como registros (dados de um campo, com posição indicando significado de cada registro)\n",
    "coordenadas = (33.9425, -118.408056)\n",
    "latitude, longitude = coordenadas # atribuição paralela\n",
    "\n",
    "# desempacotando uma tupla\n",
    "local_copa, ano, campea, vice, terceira = ('Rússia', 2018, 'França', 'Croácia', 'Bélgica')\n",
    "\n",
    "# criando uma lista de tuplas com valores ordenados dentro de cada tupla, representando registros\n",
    "copas = [(1994, 'EUA', 'Brasil'), (1998, 'França', 'França'), (2002, 'Japão e Coreia do Sul', 'Brasil'),\n",
    "         (2006, 'Alemanha', 'Itália'), (2010, 'África do Sul', 'Espanha'), (2014, 'Brasil', 'Alemanha'),\n",
    "         (2018, 'Rússia', 'França')]\n",
    "\n",
    "# iterando sobre os elementos da tupla\n",
    "for ano, sede, campeã in copas:\n",
    "    print(f'A copa de {ano}, {sede}, foi vencida por {campeã}.')\n",
    "\n"
   ]
  },
  {
   "cell_type": "code",
   "execution_count": 5,
   "metadata": {
    "colab": {
     "base_uri": "https://localhost:8080/"
    },
    "executionInfo": {
     "elapsed": 313,
     "status": "ok",
     "timestamp": 1642682280896,
     "user": {
      "displayName": "Marcos Lima",
      "photoUrl": "https://lh3.googleusercontent.com/a-/AOh14GjPkqY9h8ofRUdSfF7NlRlX2qBndhrvEgGih7OPbg=s64",
      "userId": "12059436749293830667"
     },
     "user_tz": 180
    },
    "id": "1H5wBIvsfVKq",
    "outputId": "125c118c-ef0b-4f78-fe66-13db17514697"
   },
   "outputs": [
    {
     "name": "stdout",
     "output_type": "stream",
     "text": [
      "C:/Users/User/Desktop\n",
      "português.txt\n"
     ]
    }
   ],
   "source": [
    "# desempacotamento de tuplas com biblioteca os\n",
    "import os\n",
    "path, filename = os.path.split('C:/Users/User/Desktop/português.txt')\n",
    "print(path)\n",
    "print(filename)"
   ]
  },
  {
   "cell_type": "code",
   "execution_count": 8,
   "metadata": {
    "colab": {
     "base_uri": "https://localhost:8080/"
    },
    "executionInfo": {
     "elapsed": 14,
     "status": "ok",
     "timestamp": 1642682465155,
     "user": {
      "displayName": "Marcos Lima",
      "photoUrl": "https://lh3.googleusercontent.com/a-/AOh14GjPkqY9h8ofRUdSfF7NlRlX2qBndhrvEgGih7OPbg=s64",
      "userId": "12059436749293830667"
     },
     "user_tz": 180
    },
    "id": "tEnlRdyKftad",
    "outputId": "d990365e-a0af-4b01-8e37-582fa00a33ee"
   },
   "outputs": [
    {
     "name": "stdout",
     "output_type": "stream",
     "text": [
      "0\n",
      "1\n",
      "[2, 3, 4, 5, 6, 7, 8, 9]\n",
      "\n",
      "0\n",
      "1\n",
      "[]\n",
      "\n",
      "0\n",
      "[1, 2, 3, 4, 5, 6, 7, 8]\n",
      "9\n"
     ]
    }
   ],
   "source": [
    "# capturando itens excedentes com o token asterisco (*args)\n",
    "a, b, *rest = range(10)\n",
    "print(a)\n",
    "print(b)\n",
    "print(rest)\n",
    "\n",
    "print()\n",
    "\n",
    "# e se o número de itens for menor que a tupla a ser desempacotada?\n",
    "c, d, *rest = range(2)\n",
    "print(c)\n",
    "print(d)\n",
    "print(rest)\n",
    "\n",
    "print()\n",
    "\n",
    "# mudando a posição do token asterisco\n",
    "e, *rest, f = range(10)\n",
    "print(e)\n",
    "print(rest)\n",
    "print(f)\n"
   ]
  },
  {
   "cell_type": "code",
   "execution_count": 10,
   "metadata": {
    "colab": {
     "base_uri": "https://localhost:8080/"
    },
    "executionInfo": {
     "elapsed": 507,
     "status": "ok",
     "timestamp": 1642682687375,
     "user": {
      "displayName": "Marcos Lima",
      "photoUrl": "https://lh3.googleusercontent.com/a-/AOh14GjPkqY9h8ofRUdSfF7NlRlX2qBndhrvEgGih7OPbg=s64",
      "userId": "12059436749293830667"
     },
     "user_tz": 180
    },
    "id": "mEF1nIIjgWFO",
    "outputId": "b93646ae-273a-4a75-db55-83fe004bc9ae"
   },
   "outputs": [
    {
     "name": "stdout",
     "output_type": "stream",
     "text": [
      "36.933\n",
      "(35.689722, 139.691667)\n"
     ]
    }
   ],
   "source": [
    "# tuplas nomeadas\n",
    "from collections import namedtuple\n",
    "\n",
    "Cidade = namedtuple('Cidade', 'nome país população coordenadas')\n",
    "toquio = Cidade('Tóquio', 'JP', 36.933, (35.689722, 139.691667))\n",
    "print(toquio.população)\n",
    "print(toquio.coordenadas)"
   ]
  },
  {
   "cell_type": "code",
   "execution_count": 11,
   "metadata": {
    "colab": {
     "base_uri": "https://localhost:8080/"
    },
    "executionInfo": {
     "elapsed": 276,
     "status": "ok",
     "timestamp": 1642682722617,
     "user": {
      "displayName": "Marcos Lima",
      "photoUrl": "https://lh3.googleusercontent.com/a-/AOh14GjPkqY9h8ofRUdSfF7NlRlX2qBndhrvEgGih7OPbg=s64",
      "userId": "12059436749293830667"
     },
     "user_tz": 180
    },
    "id": "cNAAQdj4hPKa",
    "outputId": "ab88c2b8-2d6d-4af9-bc57-df8a52235d60"
   },
   "outputs": [
    {
     "data": {
      "text/plain": [
       "('nome', 'país', 'população', 'coordenadas')"
      ]
     },
     "execution_count": 11,
     "metadata": {},
     "output_type": "execute_result"
    }
   ],
   "source": [
    "# atributos e métodos de uma tupla nomeada\n",
    "Cidade._fields"
   ]
  },
  {
   "cell_type": "code",
   "execution_count": 48,
   "metadata": {
    "colab": {
     "base_uri": "https://localhost:8080/"
    },
    "executionInfo": {
     "elapsed": 303,
     "status": "ok",
     "timestamp": 1642693722594,
     "user": {
      "displayName": "Marcos Lima",
      "photoUrl": "https://lh3.googleusercontent.com/a-/AOh14GjPkqY9h8ofRUdSfF7NlRlX2qBndhrvEgGih7OPbg=s64",
      "userId": "12059436749293830667"
     },
     "user_tz": 180
    },
    "id": "nZRS8K1Lhyzk",
    "outputId": "21ef8254-1b55-42e2-a13d-66926650e0aa"
   },
   "outputs": [
    {
     "name": "stdout",
     "output_type": "stream",
     "text": [
      "nohtyp\n",
      "\n",
      "ANO  SEDE 1ª\n",
      "1998 FRA BRA\n",
      "2002 BRA ALE\n",
      "2006 ITA FRA\n",
      "2010 ESP HOL\n",
      "2014 ALE ARG\n",
      "2018 FRA CRO\n",
      "  \n"
     ]
    }
   ],
   "source": [
    "# fatiamento\n",
    "string = 'python'\n",
    "print(string[::-1], end = '\\n\\n') # cria um objeto do tipo slice(a, b, c) --> seq.__getitem__(slice(start, stop, step))\n",
    "\n",
    "# nomeando fatias\n",
    "copas = '''\n",
    "1994 EUA     BRA ITA \n",
    "1998 FRA     FRA BRA\n",
    "2002 JAP/COR BRA ALE\n",
    "2006 ALE     ITA FRA\n",
    "2010 AFR     ESP HOL\n",
    "2014 BRA     ALE ARG\n",
    "2018 RUS     FRA CRO\n",
    "'''\n",
    "\n",
    "ANO = slice(0, 4)\n",
    "SEDE = slice(6, 12)\n",
    "CAMPEA = slice(13, 16)\n",
    "VICE = slice(17, 20)\n",
    "\n",
    "copas_linhas = copas.split('\\n')[2:]\n",
    "\n",
    "print(f\"ANO  SEDE 1ª\")\n",
    "for copa in copas_linhas:\n",
    "    print(copa[ANO], copa[CAMPEA], copa[VICE])\n",
    "\n"
   ]
  },
  {
   "cell_type": "code",
   "execution_count": 21,
   "metadata": {
    "colab": {
     "base_uri": "https://localhost:8080/"
    },
    "executionInfo": {
     "elapsed": 327,
     "status": "ok",
     "timestamp": 1642683902180,
     "user": {
      "displayName": "Marcos Lima",
      "photoUrl": "https://lh3.googleusercontent.com/a-/AOh14GjPkqY9h8ofRUdSfF7NlRlX2qBndhrvEgGih7OPbg=s64",
      "userId": "12059436749293830667"
     },
     "user_tz": 180
    },
    "id": "TTx8CE16lrQr",
    "outputId": "cba9463c-f83e-485f-f931-b82c5605d5d5"
   },
   "outputs": [
    {
     "name": "stdout",
     "output_type": "stream",
     "text": [
      "[0, 1, 100, 5, 6, 7, 8, 9]\n"
     ]
    }
   ],
   "source": [
    "# atribuindo valores a fatias\n",
    "lista = list(range(10))\n",
    "lista[2:5] = [100] # valor à direita deve ser um iterável para ser passado como valor a uma fatia!\n",
    "print(lista)"
   ]
  },
  {
   "cell_type": "code",
   "execution_count": 24,
   "metadata": {
    "colab": {
     "base_uri": "https://localhost:8080/"
    },
    "executionInfo": {
     "elapsed": 502,
     "status": "ok",
     "timestamp": 1642684056370,
     "user": {
      "displayName": "Marcos Lima",
      "photoUrl": "https://lh3.googleusercontent.com/a-/AOh14GjPkqY9h8ofRUdSfF7NlRlX2qBndhrvEgGih7OPbg=s64",
      "userId": "12059436749293830667"
     },
     "user_tz": 180
    },
    "id": "DufIvJYrmDBp",
    "outputId": "6e1b828c-f27d-492b-cc8f-f6701a45f1ff"
   },
   "outputs": [
    {
     "name": "stdout",
     "output_type": "stream",
     "text": [
      "[['_', '_', '_'], ['_', '_', '_'], ['_', '_', '_']]\n",
      "[['_', '_', '_'], ['_', '_', 'X'], ['_', '_', '_']]\n"
     ]
    }
   ],
   "source": [
    "# listas de listas, jeito correto de criar\n",
    "tabuleiro = [['_'] * 3 for i in range(3)] # listcomp\n",
    "print(tabuleiro) \n",
    "\n",
    "tabuleiro[1][2] = 'X'\n",
    "print(tabuleiro)"
   ]
  },
  {
   "cell_type": "code",
   "execution_count": 27,
   "metadata": {
    "colab": {
     "base_uri": "https://localhost:8080/"
    },
    "executionInfo": {
     "elapsed": 534,
     "status": "ok",
     "timestamp": 1642684190373,
     "user": {
      "displayName": "Marcos Lima",
      "photoUrl": "https://lh3.googleusercontent.com/a-/AOh14GjPkqY9h8ofRUdSfF7NlRlX2qBndhrvEgGih7OPbg=s64",
      "userId": "12059436749293830667"
     },
     "user_tz": 180
    },
    "id": "FEmEOfW3mZNH",
    "outputId": "fb2d7780-b37c-4c61-845b-82655e1045eb"
   },
   "outputs": [
    {
     "name": "stdout",
     "output_type": "stream",
     "text": [
      "[['_', '_', '_'], ['_', '_', '_'], ['_', '_', '_']]\n",
      "[['_', '_', 'X'], ['_', '_', 'X'], ['_', '_', 'X']]\n"
     ]
    }
   ],
   "source": [
    "# listas de listas, jeito incorreto de fazer\n",
    "tabuleiro_estranho = [['_'] * 3] * 3 # cria cópias que apontam para um mesmo objeto\n",
    "print(tabuleiro_estranho) # até aqui tudo bem\n",
    "\n",
    "tabuleiro_estranho[1][2] = 'X'\n",
    "print(tabuleiro_estranho) # oops!"
   ]
  },
  {
   "cell_type": "code",
   "execution_count": 29,
   "metadata": {
    "colab": {
     "base_uri": "https://localhost:8080/"
    },
    "executionInfo": {
     "elapsed": 356,
     "status": "ok",
     "timestamp": 1642684443533,
     "user": {
      "displayName": "Marcos Lima",
      "photoUrl": "https://lh3.googleusercontent.com/a-/AOh14GjPkqY9h8ofRUdSfF7NlRlX2qBndhrvEgGih7OPbg=s64",
      "userId": "12059436749293830667"
     },
     "user_tz": 180
    },
    "id": "yUGRinlznNZD",
    "outputId": "69e871f2-1015-4c66-f8ef-843f0119a3c2"
   },
   "outputs": [
    {
     "name": "stdout",
     "output_type": "stream",
     "text": [
      "6\n",
      "140207090660368\n",
      "[1, 2, 3, 1, 2, 3]\n",
      "140207090660368\n"
     ]
    }
   ],
   "source": [
    "# atribuições combinadas e sequências \n",
    "a = 5\n",
    "b = 1\n",
    "a += b # operador += invoca __iadd__; caso o método não exista, ele invoca __add__\n",
    "print(a)\n",
    "\n",
    "# *= com sequência mutável\n",
    "lista = [1, 2, 3]\n",
    "print(id(lista))\n",
    "lista *= 2\n",
    "print(lista)\n",
    "print(id(lista))"
   ]
  },
  {
   "cell_type": "code",
   "execution_count": 30,
   "metadata": {
    "colab": {
     "base_uri": "https://localhost:8080/"
    },
    "executionInfo": {
     "elapsed": 442,
     "status": "ok",
     "timestamp": 1642684484225,
     "user": {
      "displayName": "Marcos Lima",
      "photoUrl": "https://lh3.googleusercontent.com/a-/AOh14GjPkqY9h8ofRUdSfF7NlRlX2qBndhrvEgGih7OPbg=s64",
      "userId": "12059436749293830667"
     },
     "user_tz": 180
    },
    "id": "T9PIYH-in5p0",
    "outputId": "ef4e3c7c-ca71-40e3-87e3-80561f907742"
   },
   "outputs": [
    {
     "name": "stdout",
     "output_type": "stream",
     "text": [
      "140207091874624\n",
      "(1, 2, 3, 1, 2, 3)\n",
      "140207092516800\n"
     ]
    }
   ],
   "source": [
    "# *= com sequência imutável\n",
    "tupla = (1, 2, 3)\n",
    "print(id(tupla))\n",
    "tupla *= 2\n",
    "print(tupla)\n",
    "print(id(tupla))"
   ]
  },
  {
   "cell_type": "code",
   "execution_count": 36,
   "metadata": {
    "colab": {
     "base_uri": "https://localhost:8080/"
    },
    "executionInfo": {
     "elapsed": 321,
     "status": "ok",
     "timestamp": 1642686961018,
     "user": {
      "displayName": "Marcos Lima",
      "photoUrl": "https://lh3.googleusercontent.com/a-/AOh14GjPkqY9h8ofRUdSfF7NlRlX2qBndhrvEgGih7OPbg=s64",
      "userId": "12059436749293830667"
     },
     "user_tz": 180
    },
    "id": "qjVfy7MRvfgm",
    "outputId": "9e8243a1-0b93-43fe-803f-e884c048ae03"
   },
   "outputs": [
    {
     "name": "stdout",
     "output_type": "stream",
     "text": [
      "a: ['banana', 'laranja', 'limão', 'maçã', 'pêssego', 'uva']\n",
      "b: ['uva', 'laranja', 'maçã', 'banana', 'pêssego', 'limão']\n",
      "c: ['banana', 'laranja', 'limão', 'maçã', 'pêssego', 'uva']\n"
     ]
    }
   ],
   "source": [
    "# list.sort() e sorted(list)\n",
    "\n",
    "# list.sort() = modifica a lista in-place e devolve None\n",
    "a = ['uva', 'laranja', 'maçã', 'banana', 'pêssego', 'limão']\n",
    "a.sort()\n",
    "\n",
    "# sorted(list) = cria nova lista e a retorna, mas não modifica lista original\n",
    "b = ['uva', 'laranja', 'maçã', 'banana', 'pêssego', 'limão']\n",
    "c = sorted(b)\n",
    "\n",
    "print(f\"a: {a}\")\n",
    "print(f\"b: {b}\")\n",
    "print(f\"c: {c}\")"
   ]
  },
  {
   "cell_type": "code",
   "execution_count": 40,
   "metadata": {
    "colab": {
     "base_uri": "https://localhost:8080/"
    },
    "executionInfo": {
     "elapsed": 424,
     "status": "ok",
     "timestamp": 1642687561476,
     "user": {
      "displayName": "Marcos Lima",
      "photoUrl": "https://lh3.googleusercontent.com/a-/AOh14GjPkqY9h8ofRUdSfF7NlRlX2qBndhrvEgGih7OPbg=s64",
      "userId": "12059436749293830667"
     },
     "user_tz": 180
    },
    "id": "TMu2WBwNyhX3",
    "outputId": "46fdf37f-3388-4afd-f599-0ae346d445ec"
   },
   "outputs": [
    {
     "data": {
      "text/plain": [
       "['SR', 'II', 'MI', 'MI', 'MM', 'MM', 'MS', 'MS', 'MS', 'MS', 'SS', 'SS']"
      ]
     },
     "execution_count": 40,
     "metadata": {},
     "output_type": "execute_result"
    }
   ],
   "source": [
    "# administrando sequências ordenadas com bisect\n",
    "import bisect\n",
    "\n",
    "def mencao(nota, faixas = [1, 3, 5, 7, 9], mencoes = ['SR', 'II', 'MI', 'MM', 'MS', 'SS']):\n",
    "    '''Calcula menções conforme o sistema da UnB, dadas as notas dos alunos.'''\n",
    "    i = bisect.bisect(faixas, nota)\n",
    "    return mencoes[i]\n",
    "\n",
    "[mencao(nota) for nota in [0.2, 1.2, 3, 3.5, 5.6, 6.9, 7.1, 7.6, 8.0, 8.9, 9.1, 10]]"
   ]
  },
  {
   "cell_type": "code",
   "execution_count": 41,
   "metadata": {
    "colab": {
     "base_uri": "https://localhost:8080/"
    },
    "executionInfo": {
     "elapsed": 331,
     "status": "ok",
     "timestamp": 1642688963195,
     "user": {
      "displayName": "Marcos Lima",
      "photoUrl": "https://lh3.googleusercontent.com/a-/AOh14GjPkqY9h8ofRUdSfF7NlRlX2qBndhrvEgGih7OPbg=s64",
      "userId": "12059436749293830667"
     },
     "user_tz": 180
    },
    "id": "aGm2cuXZ43Rn",
    "outputId": "66bd40e6-5c24-4de1-a3ed-0bb225f7c43a"
   },
   "outputs": [
    {
     "data": {
      "text/plain": [
       "deque([0, 1, 2, 3, 4, 5, 6, 7, 8, 9])"
      ]
     },
     "execution_count": 41,
     "metadata": {},
     "output_type": "execute_result"
    }
   ],
   "source": [
    "# collections.deque = fila dupla thread-safe\n",
    "from collections import deque\n",
    "\n",
    "dq = deque(range(10), maxlen = 10) \n",
    "dq"
   ]
  },
  {
   "cell_type": "code",
   "execution_count": 44,
   "metadata": {
    "colab": {
     "base_uri": "https://localhost:8080/"
    },
    "executionInfo": {
     "elapsed": 353,
     "status": "ok",
     "timestamp": 1642689236677,
     "user": {
      "displayName": "Marcos Lima",
      "photoUrl": "https://lh3.googleusercontent.com/a-/AOh14GjPkqY9h8ofRUdSfF7NlRlX2qBndhrvEgGih7OPbg=s64",
      "userId": "12059436749293830667"
     },
     "user_tz": 180
    },
    "id": "l-5foDWt5G2K",
    "outputId": "913e43e8-777f-404e-fdc1-bbcad451ac19"
   },
   "outputs": [
    {
     "name": "stdout",
     "output_type": "stream",
     "text": [
      "deque([8, 9, 0, -10, 2, 3, 4, 5, 6, 7], maxlen=10)\n",
      "\n",
      "deque([2, 3, 4, 5, 6, 7, 8, 9, 0, -10], maxlen=10)\n",
      "\n",
      "deque([-10, 2, 3, 4, 5, 6, 7, 8, 9, 0], maxlen=10)\n",
      "\n",
      "deque([5, 6, 7, 8, 9, 0, 'a', 'b', 'c', 'd'], maxlen=10)\n",
      "\n"
     ]
    }
   ],
   "source": [
    "# rotaciona fila: itens da direita vão para a esquerda quando valor é positivo\n",
    "dq.rotate(3)\n",
    "print(dq, end = '\\n\\n')\n",
    "\n",
    "# rotaciona para o lado oposto\n",
    "dq.rotate(-4)\n",
    "print(dq, end = '\\n\\n')\n",
    "\n",
    "# appendleft = acrescenta valor do lado esquerdo; se len == maxlen, então valor da direita é excluído\n",
    "dq.appendleft(-10)\n",
    "print(dq, end = '\\n\\n')\n",
    "\n",
    "# extend = uma espécie de appendright; se len == maxlen, então valores da esquerda são excluídos\n",
    "dq.extend(['a', 'b', 'c', 'd'])\n",
    "print(dq, end = '\\n\\n')\n"
   ]
  },
  {
   "cell_type": "code",
   "execution_count": 3,
   "metadata": {
    "colab": {
     "base_uri": "https://localhost:8080/"
    },
    "executionInfo": {
     "elapsed": 289,
     "status": "ok",
     "timestamp": 1642642911757,
     "user": {
      "displayName": "Marcos Lima",
      "photoUrl": "https://lh3.googleusercontent.com/a-/AOh14GjPkqY9h8ofRUdSfF7NlRlX2qBndhrvEgGih7OPbg=s64",
      "userId": "12059436749293830667"
     },
     "user_tz": 180
    },
    "id": "N35CNgCOFqoH",
    "outputId": "5cbf8161-4814-45db-c1cf-99177f8eda4a"
   },
   "outputs": [
    {
     "name": "stdout",
     "output_type": "stream",
     "text": [
      "3.1415926535897962\n"
     ]
    }
   ],
   "source": [
    "def pi(n):\n",
    "\n",
    "    s = 0\n",
    "    adicao = True\n",
    "\n",
    "    for i in range(1, n * 2, 2):\n",
    "\n",
    "        if adicao:\n",
    "            s += (1 / (i ** 3))\n",
    "            adicao = False\n",
    "\n",
    "        else:\n",
    "            s -= (1 / (i ** 3))\n",
    "            adicao = True\n",
    "\n",
    "    return ((s * 32) ** (1/3))\n",
    "\n",
    "x = pi(100_000)\n",
    "print(x)"
   ]
  },
  {
   "cell_type": "code",
   "execution_count": null,
   "metadata": {},
   "outputs": [],
   "source": []
  }
 ],
 "metadata": {
  "colab": {
   "authorship_tag": "ABX9TyMuySkFvOfUBGo16f4Tv/BM",
   "collapsed_sections": [],
   "mount_file_id": "1vc0dcn8KfmIej7OHYn7XLUscKL5cB_lu",
   "name": "012 - Uma coleção de sequências.ipynb",
   "provenance": []
  },
  "kernelspec": {
   "display_name": "Python 3",
   "language": "python",
   "name": "python3"
  },
  "language_info": {
   "codemirror_mode": {
    "name": "ipython",
    "version": 3
   },
   "file_extension": ".py",
   "mimetype": "text/x-python",
   "name": "python",
   "nbconvert_exporter": "python",
   "pygments_lexer": "ipython3",
   "version": "3.8.5"
  }
 },
 "nbformat": 4,
 "nbformat_minor": 1
}
