{
 "cells": [
  {
   "cell_type": "markdown",
   "metadata": {
    "id": "06gbJ2ML_wCw"
   },
   "source": [
    "A tradição é que o primeiro programa que as pessoas aprendem em diferentes linguagens de programação seja um que imprime na tela a mensagem `Olá, \"Mundo!` (ou `Hello World!`, no original em inglês).\n",
    "\n",
    "Vamos fazer isso a seguir."
   ]
  },
  {
   "cell_type": "code",
   "execution_count": 1,
   "metadata": {
    "colab": {
     "base_uri": "https://localhost:8080/"
    },
    "executionInfo": {
     "elapsed": 33,
     "status": "ok",
     "timestamp": 1643110210469,
     "user": {
      "displayName": "Marcos Lima",
      "photoUrl": "https://lh3.googleusercontent.com/a-/AOh14GjPkqY9h8ofRUdSfF7NlRlX2qBndhrvEgGih7OPbg=s64",
      "userId": "12059436749293830667"
     },
     "user_tz": 180
    },
    "id": "K-cHtbER_pwX",
    "outputId": "f2b44fc5-47e2-41d6-db2c-97bd279ed695"
   },
   "outputs": [
    {
     "name": "stdout",
     "output_type": "stream",
     "text": [
      "Olá, Mundo!\n"
     ]
    }
   ],
   "source": [
    "print(\"Olá, Mundo!\")"
   ]
  },
  {
   "cell_type": "markdown",
   "metadata": {
    "id": "7EOoD7MuADPO"
   },
   "source": [
    "A função `print` recebe como argumento uma variável ou um texto (entre aspas), que é posteriormente impresso na tela. As aspas podem ser simples, duplas, triplas simples ou triplas duplas.\n",
    "\n",
    "**Observação**: o símbolo `#` será a seguir usado para indicar que a mensagem à direita dele é um comentário do programador. Esse conteúdo será ignorado pelo Python. "
   ]
  },
  {
   "cell_type": "code",
   "execution_count": 4,
   "metadata": {
    "colab": {
     "base_uri": "https://localhost:8080/"
    },
    "executionInfo": {
     "elapsed": 391,
     "status": "ok",
     "timestamp": 1643110467154,
     "user": {
      "displayName": "Marcos Lima",
      "photoUrl": "https://lh3.googleusercontent.com/a-/AOh14GjPkqY9h8ofRUdSfF7NlRlX2qBndhrvEgGih7OPbg=s64",
      "userId": "12059436749293830667"
     },
     "user_tz": 180
    },
    "id": "MafqP6HBAiUu",
    "outputId": "31ccf46d-c483-4b27-dda9-f40dbe40ccb6"
   },
   "outputs": [
    {
     "name": "stdout",
     "output_type": "stream",
     "text": [
      "Olá, Mundo!\n",
      "Olá, Mundo!\n",
      "Olá, Mundo!\n",
      "Olá, Mundo!\n"
     ]
    }
   ],
   "source": [
    "# Os comandos a seguir levam aos mesmos resultados\n",
    "print('Olá, Mundo!') # aspas simples\n",
    "print(\"Olá, Mundo!\") # aspas duplas\n",
    "print('''Olá, Mundo!''') # três aspas simples\n",
    "print(\"\"\"Olá, Mundo!\"\"\") # três aspas duplas"
   ]
  },
  {
   "cell_type": "markdown",
   "metadata": {
    "id": "fgRQ7ttCBDWg"
   },
   "source": [
    "Três aspas simples `'''` ou duplas `\"\"\"` são úteis quando queremos que a mensagem seja impressa em diferentes linhas."
   ]
  },
  {
   "cell_type": "code",
   "execution_count": 5,
   "metadata": {
    "colab": {
     "base_uri": "https://localhost:8080/"
    },
    "executionInfo": {
     "elapsed": 368,
     "status": "ok",
     "timestamp": 1643110551661,
     "user": {
      "displayName": "Marcos Lima",
      "photoUrl": "https://lh3.googleusercontent.com/a-/AOh14GjPkqY9h8ofRUdSfF7NlRlX2qBndhrvEgGih7OPbg=s64",
      "userId": "12059436749293830667"
     },
     "user_tz": 180
    },
    "id": "P8PJ7pkKBFJs",
    "outputId": "266b223d-9749-4f62-ce0e-35d2c610b252"
   },
   "outputs": [
    {
     "name": "stdout",
     "output_type": "stream",
     "text": [
      "Olá, Mundo!\n",
      "\n",
      "Como vai você?\n",
      "Olá, Mundo!\n",
      "\n",
      "Como vai você?\n"
     ]
    }
   ],
   "source": [
    "# mensagem impressa ao longo de várias linhas\n",
    "print('''Olá, Mundo!\n",
    "\n",
    "Como vai você?''')\n",
    "\n",
    "# mesmo resultado que o anterior\n",
    "print(\"\"\"Olá, Mundo!\n",
    "\n",
    "Como vai você?\"\"\")"
   ]
  },
  {
   "cell_type": "markdown",
   "metadata": {
    "id": "rUsCbEAYBVrC"
   },
   "source": [
    "Mas e se eu quiser usar aspas dentro da própria mensagem? Uma possibilidade é usar aspas simples dentro de aspas duplas. Outra é usar aspas duplas dentro de aspas simples. As aspas externas indicarão o texto a ser impresso, enquanto as aspas internas serão tratadas como texto normal. Veja:"
   ]
  },
  {
   "cell_type": "code",
   "execution_count": 6,
   "metadata": {
    "colab": {
     "base_uri": "https://localhost:8080/"
    },
    "executionInfo": {
     "elapsed": 1015,
     "status": "ok",
     "timestamp": 1643110721414,
     "user": {
      "displayName": "Marcos Lima",
      "photoUrl": "https://lh3.googleusercontent.com/a-/AOh14GjPkqY9h8ofRUdSfF7NlRlX2qBndhrvEgGih7OPbg=s64",
      "userId": "12059436749293830667"
     },
     "user_tz": 180
    },
    "id": "ywWHEwwYBiMT",
    "outputId": "b203ef44-0d91-4232-be92-f40fd123fbc8"
   },
   "outputs": [
    {
     "name": "stdout",
     "output_type": "stream",
     "text": [
      "Ontem eu li 'O Pequeno Príncipe'.\n",
      "Ontem eu li \"O Pequeno Príncipe\".\n"
     ]
    }
   ],
   "source": [
    "# aspas simples serão impressas como texto\n",
    "print(\"Ontem eu li 'O Pequeno Príncipe'.\")\n",
    "\n",
    "# aspas duplas serão impressas como texto\n",
    "print('Ontem eu li \"O Pequeno Príncipe\".')"
   ]
  },
  {
   "cell_type": "markdown",
   "metadata": {
    "id": "eaQrbOjWB_3J"
   },
   "source": [
    "E se eu quiser que em uma mesma mensagem apareçam aspas simples e duplas? Uma possibilidade é usar o caractere de escape, `\\`. Em síntese, esse caractere é inserido antes de um símbolo que queremos que seja tratado como texto. Por exemplo, se nosso texto está entre aspas duplas, `\"\"`, mas também queremos que aspas duplas apareçam dentro do texto, indicamos cada aspas duplas internas da seguinte maneira: `\\\"`. Veja os exemplos a seguir."
   ]
  },
  {
   "cell_type": "code",
   "execution_count": 7,
   "metadata": {
    "colab": {
     "base_uri": "https://localhost:8080/"
    },
    "executionInfo": {
     "elapsed": 329,
     "status": "ok",
     "timestamp": 1643110931515,
     "user": {
      "displayName": "Marcos Lima",
      "photoUrl": "https://lh3.googleusercontent.com/a-/AOh14GjPkqY9h8ofRUdSfF7NlRlX2qBndhrvEgGih7OPbg=s64",
      "userId": "12059436749293830667"
     },
     "user_tz": 180
    },
    "id": "4WbLefOeCL-d",
    "outputId": "39aa6673-6ce0-4bc8-b132-e270c1646ce7"
   },
   "outputs": [
    {
     "name": "stdout",
     "output_type": "stream",
     "text": [
      "\"Há 'casos' e 'casos'\", ele respondeu.\n",
      "'Há \"casos\" e \"casos\"', ele respondeu.\n"
     ]
    }
   ],
   "source": [
    "# Aspas duplas dentro de aspas duplas\n",
    "print(\"\\\"Há 'casos' e 'casos'\\\", ele respondeu.\")\n",
    "\n",
    "# Aspas simples dentro de aspas simples\n",
    "print('\\'Há \"casos\" e \"casos\"\\', ele respondeu.')"
   ]
  },
  {
   "cell_type": "markdown",
   "metadata": {
    "id": "r1p8cRf3DA6G"
   },
   "source": [
    "Outros caracteres de escape usados dentro da função `print` são o `\\n`, usado para dar uma quebra de linha em um texto, e o `\\t`, usado para inserir uma marca de tabulação no texto. Veja os exemplos a seguir."
   ]
  },
  {
   "cell_type": "code",
   "execution_count": 8,
   "metadata": {
    "colab": {
     "base_uri": "https://localhost:8080/"
    },
    "executionInfo": {
     "elapsed": 318,
     "status": "ok",
     "timestamp": 1643111117021,
     "user": {
      "displayName": "Marcos Lima",
      "photoUrl": "https://lh3.googleusercontent.com/a-/AOh14GjPkqY9h8ofRUdSfF7NlRlX2qBndhrvEgGih7OPbg=s64",
      "userId": "12059436749293830667"
     },
     "user_tz": 180
    },
    "id": "oCAc8F5lDQYe",
    "outputId": "0d2a46cf-0c95-49f2-e7b1-04f5f4a9e397"
   },
   "outputs": [
    {
     "name": "stdout",
     "output_type": "stream",
     "text": [
      "Memórias\n",
      "Póstumas\n",
      "de\n",
      "Brás\n",
      "Cubas\n",
      "Memórias\tPóstumas\tde\tBrás\tCubas\n"
     ]
    }
   ],
   "source": [
    "# \\n insere quebras de linha\n",
    "print(\"Memórias\\nPóstumas\\nde\\nBrás\\nCubas\")\n",
    "\n",
    "# \\t insere marcas de tabulação\n",
    "print(\"Memórias\\tPóstumas\\tde\\tBrás\\tCubas\")"
   ]
  },
  {
   "cell_type": "markdown",
   "metadata": {
    "id": "OCiwEMc9Df_m"
   },
   "source": [
    "A função `print` possui um argumento opcional chamado `end`, cujo valor padrão é `\\n`. Isso faz com que uma linha seja quebrada ao final de uma mensagem. No entanto, podemos sobrescrever o valor padrão por outros valores de nosso interesse. Veja:"
   ]
  },
  {
   "cell_type": "code",
   "execution_count": 9,
   "metadata": {
    "colab": {
     "base_uri": "https://localhost:8080/"
    },
    "executionInfo": {
     "elapsed": 313,
     "status": "ok",
     "timestamp": 1643111341120,
     "user": {
      "displayName": "Marcos Lima",
      "photoUrl": "https://lh3.googleusercontent.com/a-/AOh14GjPkqY9h8ofRUdSfF7NlRlX2qBndhrvEgGih7OPbg=s64",
      "userId": "12059436749293830667"
     },
     "user_tz": 180
    },
    "id": "IKgLZSbEDt6k",
    "outputId": "65ff2d5c-88fd-42d6-8071-23098340f155"
   },
   "outputs": [
    {
     "name": "stdout",
     "output_type": "stream",
     "text": [
      "O Pequeno Príncipe=====Memórias Póstumas de Brás Cubas=====Crime e Castigo=====\n",
      "O Pequeno Príncipe*Memórias Póstumas de Brás Cubas*Crime e Castigo*\n",
      "Dia\tMês\tAno\t"
     ]
    }
   ],
   "source": [
    "# sobrescrevendo argumento \\n de end por símbolos de igual (======)\n",
    "print(\"O Pequeno Príncipe\", end = \"=====\")\n",
    "print(\"Memórias Póstumas de Brás Cubas\", end = \"=====\")\n",
    "print(\"Crime e Castigo\", end = \"=====\")\n",
    "\n",
    "# imprime uma linha vazia\n",
    "print()\n",
    "\n",
    "# sobrescrevendo argumento \\n de end pelo símbolo asterisco (*)\n",
    "print(\"O Pequeno Príncipe\", end = \"*\")\n",
    "print(\"Memórias Póstumas de Brás Cubas\", end = \"*\")\n",
    "print(\"Crime e Castigo\", end = \"*\")\n",
    "\n",
    "# imprime uma linha vazia\n",
    "print()\n",
    "\n",
    "# sobrescrevendo argumento \\n de end pelo \\t\n",
    "print(\"Dia\", end = \"\\t\")\n",
    "print(\"Mês\", end = \"\\t\")\n",
    "print(\"Ano\", end = \"\\t\")"
   ]
  }
 ],
 "metadata": {
  "colab": {
   "authorship_tag": "ABX9TyM0NtMXDCs6G39huuiATTlZ",
   "collapsed_sections": [],
   "name": "001 - \"Olá, Mundo!\" e a função print().ipynb",
   "provenance": []
  },
  "kernelspec": {
   "display_name": "Python 3",
   "language": "python",
   "name": "python3"
  },
  "language_info": {
   "codemirror_mode": {
    "name": "ipython",
    "version": 3
   },
   "file_extension": ".py",
   "mimetype": "text/x-python",
   "name": "python",
   "nbconvert_exporter": "python",
   "pygments_lexer": "ipython3",
   "version": "3.8.5"
  }
 },
 "nbformat": 4,
 "nbformat_minor": 1
}
