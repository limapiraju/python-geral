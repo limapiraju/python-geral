{
 "cells": [
  {
   "cell_type": "code",
   "execution_count": 1,
   "metadata": {},
   "outputs": [
    {
     "name": "stdout",
     "output_type": "stream",
     "text": [
      "<class 'dict'>\n",
      "{'nome': 'Kily', 'raça': 'poodle', 'espécie': 'cachorro', 'idade': 7, 'sexo': 'macho', 'cor': 'preta', 'qualidade': 'fofinho', 'dono': 'marcos'}\n"
     ]
    }
   ],
   "source": [
    "# Criando um dicionário\n",
    "animal = {\"nome\": \"Kily\", \"raça\": \"poodle\", \"espécie\": \"cachorro\",\n",
    "         \"idade\": 7, \"sexo\": \"macho\", \"cor\": \"preta\",\n",
    "          \"qualidade\": \"fofinho\", \"dono\": \"marcos\"}\n",
    "\n",
    "print(type(animal))\n",
    "print(animal)"
   ]
  },
  {
   "cell_type": "code",
   "execution_count": 2,
   "metadata": {},
   "outputs": [
    {
     "name": "stdout",
     "output_type": "stream",
     "text": [
      "nome\n",
      "raça\n",
      "espécie\n",
      "idade\n",
      "sexo\n",
      "cor\n",
      "qualidade\n",
      "dono\n"
     ]
    }
   ],
   "source": [
    "# for loop com dicionários\n",
    "for i in animal: # iterando sobre as chaves\n",
    "    print(i)"
   ]
  },
  {
   "cell_type": "code",
   "execution_count": 3,
   "metadata": {},
   "outputs": [
    {
     "name": "stdout",
     "output_type": "stream",
     "text": [
      "nome\n",
      "raça\n",
      "espécie\n",
      "idade\n",
      "sexo\n",
      "cor\n",
      "qualidade\n",
      "dono\n"
     ]
    }
   ],
   "source": [
    "# faz o mesmo que isso aqui\n",
    "for k in animal.keys():\n",
    "    print(k)"
   ]
  },
  {
   "cell_type": "code",
   "execution_count": 4,
   "metadata": {},
   "outputs": [
    {
     "name": "stdout",
     "output_type": "stream",
     "text": [
      "Kily\n",
      "poodle\n",
      "cachorro\n",
      "7\n",
      "macho\n",
      "preta\n",
      "fofinho\n",
      "marcos\n"
     ]
    }
   ],
   "source": [
    "# iterando sobre os valores, ao invés de sobre as chaves\n",
    "for v in animal.values():\n",
    "    print(v)"
   ]
  },
  {
   "cell_type": "code",
   "execution_count": 7,
   "metadata": {},
   "outputs": [
    {
     "name": "stdout",
     "output_type": "stream",
     "text": [
      "NOME: Kily\n",
      "RAÇA: poodle\n",
      "ESPÉCIE: cachorro\n",
      "IDADE: 7\n",
      "SEXO: macho\n",
      "COR: preta\n",
      "QUALIDADE: fofinho\n",
      "DONO: marcos\n"
     ]
    }
   ],
   "source": [
    "# iterando sobre os dois\n",
    "for k, v in animal.items():\n",
    "    print(f\"{k.upper()}: {v}\")"
   ]
  },
  {
   "cell_type": "code",
   "execution_count": 8,
   "metadata": {},
   "outputs": [
    {
     "name": "stdout",
     "output_type": "stream",
     "text": [
      "{'nome': 'Kily', 'raça': 'poodle', 'espécie': 'cachorro', 'idade': 7, 'sexo': 'macho', 'cor': 'preta', 'qualidade': 'fofinho', 'dono': 'marcos'}\n",
      "{'nome': 'Kily II', 'raça': 'poodle', 'espécie': 'cachorro', 'idade': 7, 'sexo': 'macho', 'cor': 'preta', 'qualidade': 'fofinho', 'dono': 'marcos'}\n"
     ]
    }
   ],
   "source": [
    "# copiando um dicionário\n",
    "outro_animal = animal.copy()\n",
    "outro_animal[\"nome\"] = \"Kily II\"\n",
    "print(animal)\n",
    "print(outro_animal)"
   ]
  },
  {
   "cell_type": "code",
   "execution_count": 9,
   "metadata": {},
   "outputs": [
    {
     "name": "stdout",
     "output_type": "stream",
     "text": [
      "poodle\n",
      "Chave não encontrada!\n"
     ]
    }
   ],
   "source": [
    "# obtendo uma chave e retornando um valor default caso ele não exista\n",
    "print(animal.get(\"raça\", \"Chave não encontrada!\"))\n",
    "print(animal.get(\"sobrenome\", \"Chave não encontrada!\"))"
   ]
  },
  {
   "cell_type": "code",
   "execution_count": 10,
   "metadata": {},
   "outputs": [
    {
     "data": {
      "text/plain": [
       "'macho'"
      ]
     },
     "execution_count": 10,
     "metadata": {},
     "output_type": "execute_result"
    }
   ],
   "source": [
    "# pop(key): retorna uma dada chave\n",
    "outro_animal.pop(\"sexo\")"
   ]
  },
  {
   "cell_type": "code",
   "execution_count": 11,
   "metadata": {},
   "outputs": [
    {
     "data": {
      "text/plain": [
       "{'nome': 'Kily II',\n",
       " 'raça': 'poodle',\n",
       " 'espécie': 'cachorro',\n",
       " 'idade': 7,\n",
       " 'cor': 'preta',\n",
       " 'qualidade': 'fofinho',\n",
       " 'dono': 'marcos'}"
      ]
     },
     "execution_count": 11,
     "metadata": {},
     "output_type": "execute_result"
    }
   ],
   "source": [
    "# a chave sexo não consta mais em outro_animal\n",
    "outro_animal"
   ]
  },
  {
   "cell_type": "code",
   "execution_count": 12,
   "metadata": {},
   "outputs": [
    {
     "data": {
      "text/plain": [
       "('dono', 'marcos')"
      ]
     },
     "execution_count": 12,
     "metadata": {},
     "output_type": "execute_result"
    }
   ],
   "source": [
    "# popitem(): remove o primeiro par chave-item do dicionário\n",
    "animal.popitem()"
   ]
  },
  {
   "cell_type": "code",
   "execution_count": 13,
   "metadata": {},
   "outputs": [
    {
     "data": {
      "text/plain": [
       "{'nome': 'Kily',\n",
       " 'raça': 'poodle',\n",
       " 'espécie': 'cachorro',\n",
       " 'idade': 7,\n",
       " 'sexo': 'macho',\n",
       " 'cor': 'preta',\n",
       " 'qualidade': 'fofinho'}"
      ]
     },
     "execution_count": 13,
     "metadata": {},
     "output_type": "execute_result"
    }
   ],
   "source": [
    "# agora o par dono-marcos não está mais no dicionário\n",
    "animal"
   ]
  },
  {
   "cell_type": "code",
   "execution_count": 14,
   "metadata": {},
   "outputs": [
    {
     "data": {
      "text/plain": [
       "{'nome': 'Kily',\n",
       " 'raça': 'poodle',\n",
       " 'espécie': 'cachorro',\n",
       " 'idade': 7,\n",
       " 'sexo': 'macho',\n",
       " 'cor': 'preta',\n",
       " 'qualidade': 'fofinho',\n",
       " 'dono': 'Lela'}"
      ]
     },
     "execution_count": 14,
     "metadata": {},
     "output_type": "execute_result"
    }
   ],
   "source": [
    "# setdefault(k, [,d]): procura a chave k; se ela não existir, define a chave com o valor default d\n",
    "animal.setdefault(\"dono\", \"Lela\")\n",
    "animal"
   ]
  },
  {
   "cell_type": "code",
   "execution_count": 15,
   "metadata": {},
   "outputs": [
    {
     "data": {
      "text/plain": [
       "{'nome': 'Kily',\n",
       " 'raça': 'poodle',\n",
       " 'espécie': 'cachorro',\n",
       " 'idade': 7,\n",
       " 'sexo': 'macho',\n",
       " 'cor': 'preta',\n",
       " 'qualidade': 'fofinho',\n",
       " 'dono': 'Lela'}"
      ]
     },
     "execution_count": 15,
     "metadata": {},
     "output_type": "execute_result"
    }
   ],
   "source": [
    "# mas e se a chave já existir? bom, aí a chave fica inalterada\n",
    "animal.setdefault(\"dono\", \"Miryam\")\n",
    "animal"
   ]
  },
  {
   "cell_type": "code",
   "execution_count": 16,
   "metadata": {},
   "outputs": [
    {
     "data": {
      "text/plain": [
       "{}"
      ]
     },
     "execution_count": 16,
     "metadata": {},
     "output_type": "execute_result"
    }
   ],
   "source": [
    "# clear(): limpa o dicionário\n",
    "outro_animal.clear()\n",
    "outro_animal"
   ]
  }
 ],
 "metadata": {
  "kernelspec": {
   "display_name": "Python 3",
   "language": "python",
   "name": "python3"
  },
  "language_info": {
   "codemirror_mode": {
    "name": "ipython",
    "version": 3
   },
   "file_extension": ".py",
   "mimetype": "text/x-python",
   "name": "python",
   "nbconvert_exporter": "python",
   "pygments_lexer": "ipython3",
   "version": "3.8.5"
  }
 },
 "nbformat": 4,
 "nbformat_minor": 4
}
