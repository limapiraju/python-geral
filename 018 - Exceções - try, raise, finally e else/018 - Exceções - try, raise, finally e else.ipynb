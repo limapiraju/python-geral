{
 "cells": [
  {
   "cell_type": "markdown",
   "metadata": {},
   "source": [
    "*Notebook* baseado nos vídeos do canal **Ignorância Zero**: `https://www.youtube.com/channel/UCmjj41YfcaCpZIkU-oqVIIw`"
   ]
  },
  {
   "cell_type": "code",
   "execution_count": 1,
   "metadata": {},
   "outputs": [
    {
     "name": "stdout",
     "output_type": "stream",
     "text": [
      "Digite um número: s\n",
      "Deu erro!\n",
      "0\n"
     ]
    }
   ],
   "source": [
    "# Aulas Python - 067 - Exceções I: Introdução\n",
    "\n",
    "# tente fazer algo...\n",
    "try:\n",
    "    x = int(input(\"Digite um número: \")) \n",
    "# input recebe uma string; se ela não for coercível para inteiro, retorna uma exceção...\n",
    "except:\n",
    "    print(\"Deu erro!\")\n",
    "    x = 0\n",
    "# e, finalmente, conclui com...\n",
    "finally:\n",
    "    print(x)"
   ]
  },
  {
   "cell_type": "code",
   "execution_count": 2,
   "metadata": {},
   "outputs": [
    {
     "name": "stdout",
     "output_type": "stream",
     "text": [
      "Deu erro!\n"
     ]
    }
   ],
   "source": [
    "# tenta abrir um arquivo no modo leitura\n",
    "try:\n",
    "    a = open(\"arquivo.txt\", \"r\")\n",
    "# caso o arquivo não exista, retorna uma exceção e cria um novo arquivo\n",
    "except FileNotFoundError:\n",
    "    print(\"Deu erro!\")\n",
    "    a = open(\"arquivo.txt\", \"w\")\n",
    "    a.write(\"ERRO!!!!\")\n",
    "# por fim, fecha o arquivo\n",
    "finally:\n",
    "    a.close()"
   ]
  },
  {
   "cell_type": "code",
   "execution_count": 3,
   "metadata": {},
   "outputs": [],
   "source": [
    "# Aulas Python - 068 - Exceções II: Raise e Exceções Próprias\n",
    "\n",
    "class ValorRepetidoErro(Exception):\n",
    "    \"\"\"\n",
    "    Classe definida pelo usuário que retorna exceção se usuário digitar um dado valor.\n",
    "    \"\"\"\n",
    "    def __init__(self, n):\n",
    "        self.num = n\n",
    "        \n",
    "    def __str__(self):\n",
    "        return \"Putz, meu caro! Você já digitou o número {} antes!\" .format(self.num)"
   ]
  },
  {
   "cell_type": "code",
   "execution_count": 5,
   "metadata": {},
   "outputs": [
    {
     "name": "stdout",
     "output_type": "stream",
     "text": [
      "Escolha um número: s\n",
      "Digite apenas números!\n",
      "Escolha um número: v\n",
      "Digite apenas números!\n",
      "Escolha um número: 1\n",
      "Escolha um número: 2\n",
      "Escolha um número: 1\n"
     ]
    },
    {
     "ename": "ValorRepetidoErro",
     "evalue": "Putz, meu caro! Você já digitou o número 1 antes!",
     "output_type": "error",
     "traceback": [
      "\u001b[1;31m---------------------------------------------------------------------------\u001b[0m",
      "\u001b[1;31mValorRepetidoErro\u001b[0m                         Traceback (most recent call last)",
      "\u001b[1;32m<ipython-input-5-5f68a1b3bdf5>\u001b[0m in \u001b[0;36m<module>\u001b[1;34m\u001b[0m\n\u001b[0;32m     16\u001b[0m             \u001b[1;32mraise\u001b[0m \u001b[0mValorRepetidoErro\u001b[0m\u001b[1;33m(\u001b[0m\u001b[0mnum\u001b[0m\u001b[1;33m)\u001b[0m\u001b[1;33m\u001b[0m\u001b[1;33m\u001b[0m\u001b[0m\n\u001b[0;32m     17\u001b[0m \u001b[1;33m\u001b[0m\u001b[0m\n\u001b[1;32m---> 18\u001b[1;33m \u001b[0mmain\u001b[0m\u001b[1;33m(\u001b[0m\u001b[1;33m)\u001b[0m\u001b[1;33m\u001b[0m\u001b[1;33m\u001b[0m\u001b[0m\n\u001b[0m",
      "\u001b[1;32m<ipython-input-5-5f68a1b3bdf5>\u001b[0m in \u001b[0;36mmain\u001b[1;34m()\u001b[0m\n\u001b[0;32m     14\u001b[0m         \u001b[1;31m# caso o número se repita, chama a nossa classe de exceção\u001b[0m\u001b[1;33m\u001b[0m\u001b[1;33m\u001b[0m\u001b[1;33m\u001b[0m\u001b[0m\n\u001b[0;32m     15\u001b[0m         \u001b[1;32melse\u001b[0m\u001b[1;33m:\u001b[0m\u001b[1;33m\u001b[0m\u001b[1;33m\u001b[0m\u001b[0m\n\u001b[1;32m---> 16\u001b[1;33m             \u001b[1;32mraise\u001b[0m \u001b[0mValorRepetidoErro\u001b[0m\u001b[1;33m(\u001b[0m\u001b[0mnum\u001b[0m\u001b[1;33m)\u001b[0m\u001b[1;33m\u001b[0m\u001b[1;33m\u001b[0m\u001b[0m\n\u001b[0m\u001b[0;32m     17\u001b[0m \u001b[1;33m\u001b[0m\u001b[0m\n\u001b[0;32m     18\u001b[0m \u001b[0mmain\u001b[0m\u001b[1;33m(\u001b[0m\u001b[1;33m)\u001b[0m\u001b[1;33m\u001b[0m\u001b[1;33m\u001b[0m\u001b[0m\n",
      "\u001b[1;31mValorRepetidoErro\u001b[0m: Putz, meu caro! Você já digitou o número 1 antes!"
     ]
    }
   ],
   "source": [
    "def main():\n",
    "    lista = []\n",
    "\n",
    "    for i in range(3):\n",
    "        while True:\n",
    "            try:\n",
    "                num = int(input(\"Escolha um número: \"))\n",
    "                break\n",
    "            except ValueError:\n",
    "                print(\"Digite apenas números!\")\n",
    "\n",
    "        if num not in lista:\n",
    "            lista.append(num)\n",
    "        # caso o número se repita, chama a nossa classe de exceção\n",
    "        else:\n",
    "            raise ValorRepetidoErro(num)\n",
    "\n",
    "main()"
   ]
  },
  {
   "cell_type": "code",
   "execution_count": 8,
   "metadata": {},
   "outputs": [
    {
     "name": "stdout",
     "output_type": "stream",
     "text": [
      "Deu erro de índice!\n",
      "Deu erro no valor!\n",
      "Chegamos ao final.\n"
     ]
    }
   ],
   "source": [
    "# Aulas Python - 069 - Exceções III: Clausulas do bloco Try\n",
    "\n",
    "try:\n",
    "    lista = []\n",
    "    \n",
    "    try:\n",
    "        a = lista[0]\n",
    "        \n",
    "    except IndexError:\n",
    "        print(\"Deu erro de índice!\")\n",
    "\n",
    "    lista.append(int(\"dsag\"))\n",
    "    \n",
    "except ValueError:\n",
    "    print(\"Deu erro no valor!\")\n",
    "    \n",
    "finally:\n",
    "    print(\"Chegamos ao final.\")"
   ]
  },
  {
   "cell_type": "code",
   "execution_count": 12,
   "metadata": {},
   "outputs": [
    {
     "name": "stdout",
     "output_type": "stream",
     "text": [
      "Digite um número: 1\n",
      "Digite outro número: 0\n",
      "division by zero\n",
      "Acabou!\n"
     ]
    }
   ],
   "source": [
    "# usando o as\n",
    "try:\n",
    "    num1 = int(input(\"Digite um número: \"))\n",
    "    num2 = int(input(\"Digite outro número: \"))\n",
    "    print(f\"{num1} dividido por {num2} é igual a {num1 / num2}.\")\n",
    "    \n",
    "except (ValueError, ZeroDivisionError) as error:\n",
    "    print(error)\n",
    "    \n",
    "finally:\n",
    "    print(\"Acabou!\")"
   ]
  },
  {
   "cell_type": "code",
   "execution_count": 14,
   "metadata": {},
   "outputs": [
    {
     "name": "stdout",
     "output_type": "stream",
     "text": [
      "Digite um número: 2\n",
      "Digite outro número: 3\n",
      "2 dividido por 3 é igual a 0.6666666666666666.\n",
      "Esse bloco será executado caso não tenha exceções.\n",
      "Acabou!\n"
     ]
    }
   ],
   "source": [
    "try:\n",
    "    num1 = int(input(\"Digite um número: \"))\n",
    "    num2 = int(input(\"Digite outro número: \"))\n",
    "    print(f\"{num1} dividido por {num2} é igual a {num1 / num2}.\")\n",
    "    \n",
    "except (ValueError, ZeroDivisionError) as error:\n",
    "    print(error)\n",
    "\n",
    "else:\n",
    "    print(\"Esse bloco será executado caso não tenha exceções.\")\n",
    "\n",
    "finally:\n",
    "    print(\"Acabou!\")"
   ]
  },
  {
   "cell_type": "code",
   "execution_count": 16,
   "metadata": {},
   "outputs": [
    {
     "ename": "SyntaxError",
     "evalue": "default 'except:' must be last (<ipython-input-16-cfde324cb484>, line 5)",
     "output_type": "error",
     "traceback": [
      "\u001b[1;36m  File \u001b[1;32m\"<ipython-input-16-cfde324cb484>\"\u001b[1;36m, line \u001b[1;32m5\u001b[0m\n\u001b[1;33m    print(f\"{num1} dividido por {num2} é igual a {num1 / num2}.\")\u001b[0m\n\u001b[1;37m    ^\u001b[0m\n\u001b[1;31mSyntaxError\u001b[0m\u001b[1;31m:\u001b[0m default 'except:' must be last\n"
     ]
    }
   ],
   "source": [
    "# except default precisa ir ao final dos excepts específicos\n",
    "try:\n",
    "    num1 = int(input(\"Digite um número: \"))\n",
    "    num2 = int(input(\"Digite outro número: \"))\n",
    "    print(f\"{num1} dividido por {num2} é igual a {num1 / num2}.\")\n",
    "    \n",
    "except:\n",
    "    print(\"O programa vai dar erro porque o except default precisa vir depois dos except específicos.\")\n",
    "\n",
    "except (ValueError, ZeroDivisionError) as error:\n",
    "    print(error)\n",
    "\n",
    "else:\n",
    "    print(\"Esse bloco será executado caso não tenha exceções.\")\n",
    "\n",
    "finally:\n",
    "    print(\"Acabou!\")"
   ]
  },
  {
   "cell_type": "code",
   "execution_count": 17,
   "metadata": {},
   "outputs": [
    {
     "ename": "ValueError",
     "evalue": "",
     "output_type": "error",
     "traceback": [
      "\u001b[1;31m---------------------------------------------------------------------------\u001b[0m",
      "\u001b[1;31mZeroDivisionError\u001b[0m                         Traceback (most recent call last)",
      "\u001b[1;32m<ipython-input-17-040fcb4b669c>\u001b[0m in \u001b[0;36m<module>\u001b[1;34m\u001b[0m\n\u001b[0;32m      3\u001b[0m \u001b[1;32mtry\u001b[0m\u001b[1;33m:\u001b[0m\u001b[1;33m\u001b[0m\u001b[1;33m\u001b[0m\u001b[0m\n\u001b[1;32m----> 4\u001b[1;33m     \u001b[0mnum\u001b[0m \u001b[1;33m=\u001b[0m \u001b[1;36m1\u001b[0m \u001b[1;33m/\u001b[0m \u001b[1;36m0\u001b[0m\u001b[1;33m\u001b[0m\u001b[1;33m\u001b[0m\u001b[0m\n\u001b[0m\u001b[0;32m      5\u001b[0m     \u001b[0mint\u001b[0m\u001b[1;33m(\u001b[0m\u001b[0mnum\u001b[0m\u001b[1;33m)\u001b[0m\u001b[1;33m\u001b[0m\u001b[1;33m\u001b[0m\u001b[0m\n",
      "\u001b[1;31mZeroDivisionError\u001b[0m: division by zero",
      "\nThe above exception was the direct cause of the following exception:\n",
      "\u001b[1;31mValueError\u001b[0m                                Traceback (most recent call last)",
      "\u001b[1;32m<ipython-input-17-040fcb4b669c>\u001b[0m in \u001b[0;36m<module>\u001b[1;34m\u001b[0m\n\u001b[0;32m      8\u001b[0m \u001b[1;32mexcept\u001b[0m \u001b[0mException\u001b[0m \u001b[1;32mas\u001b[0m \u001b[0mE\u001b[0m\u001b[1;33m:\u001b[0m\u001b[1;33m\u001b[0m\u001b[1;33m\u001b[0m\u001b[0m\n\u001b[0;32m      9\u001b[0m     \u001b[1;31m# levanta uma exceção encadeada, pois int(num) é uma exceção decorrente de num = 1/0\u001b[0m\u001b[1;33m\u001b[0m\u001b[1;33m\u001b[0m\u001b[1;33m\u001b[0m\u001b[0m\n\u001b[1;32m---> 10\u001b[1;33m     \u001b[1;32mraise\u001b[0m \u001b[0mValueError\u001b[0m \u001b[1;32mfrom\u001b[0m \u001b[0mE\u001b[0m\u001b[1;33m\u001b[0m\u001b[1;33m\u001b[0m\u001b[0m\n\u001b[0m",
      "\u001b[1;31mValueError\u001b[0m: "
     ]
    }
   ],
   "source": [
    "# Aulas Python - 070 - Exceções IV: Raise from e Assert\n",
    "\n",
    "try:\n",
    "    num = 1 / 0\n",
    "    int(num)\n",
    "\n",
    "# primeira exceção\n",
    "except Exception as E:\n",
    "    # levanta uma exceção encadeada, pois int(num) é uma exceção decorrente de num = 1/0\n",
    "    raise ValueError from E"
   ]
  },
  {
   "cell_type": "code",
   "execution_count": 21,
   "metadata": {},
   "outputs": [
    {
     "name": "stdout",
     "output_type": "stream",
     "text": [
      "Digite um número entre 1 e 20: 666\n"
     ]
    },
    {
     "ename": "AssertionError",
     "evalue": "666",
     "output_type": "error",
     "traceback": [
      "\u001b[1;31m---------------------------------------------------------------------------\u001b[0m",
      "\u001b[1;31mAssertionError\u001b[0m                            Traceback (most recent call last)",
      "\u001b[1;32m<ipython-input-21-46fd81e7df52>\u001b[0m in \u001b[0;36m<module>\u001b[1;34m\u001b[0m\n\u001b[0;32m     17\u001b[0m     \u001b[0mtest\u001b[0m \u001b[1;33m=\u001b[0m \u001b[1;32mFalse\u001b[0m\u001b[1;33m\u001b[0m\u001b[1;33m\u001b[0m\u001b[0m\n\u001b[0;32m     18\u001b[0m \u001b[1;33m\u001b[0m\u001b[0m\n\u001b[1;32m---> 19\u001b[1;33m \u001b[1;32massert\u001b[0m \u001b[0mtest\u001b[0m\u001b[1;33m,\u001b[0m \u001b[0mnum\u001b[0m\u001b[1;33m\u001b[0m\u001b[1;33m\u001b[0m\u001b[0m\n\u001b[0m\u001b[0;32m     20\u001b[0m \u001b[1;33m\u001b[0m\u001b[0m\n\u001b[0;32m     21\u001b[0m \u001b[1;32mif\u001b[0m \u001b[0m__debug__\u001b[0m\u001b[1;33m:\u001b[0m\u001b[1;33m\u001b[0m\u001b[1;33m\u001b[0m\u001b[0m\n",
      "\u001b[1;31mAssertionError\u001b[0m: 666"
     ]
    }
   ],
   "source": [
    "# assert\n",
    "\n",
    "while True:\n",
    "    try:\n",
    "        num = int(input(\"Digite um número entre 1 e 20: \"))\n",
    "    except ValueError:\n",
    "        print(\"Digite apenas números!\")\n",
    "    except:\n",
    "        print(\"Entrada inválida!\")\n",
    "    else:\n",
    "        break\n",
    "        \n",
    "    \n",
    "test = True\n",
    "\n",
    "if not 1 <= num <= 20:\n",
    "    test = False\n",
    "    \n",
    "assert test, num\n",
    "\n",
    "if __debug__:\n",
    "    if not test:\n",
    "        raise AssertionError(num)"
   ]
  },
  {
   "cell_type": "code",
   "execution_count": 24,
   "metadata": {},
   "outputs": [
    {
     "name": "stdout",
     "output_type": "stream",
     "text": [
      "2.23606797749979\n",
      "2.0\n",
      "1.7320508075688772\n",
      "1.4142135623730951\n",
      "1.0\n"
     ]
    },
    {
     "ename": "AssertionError",
     "evalue": "O valor de x tem de ser maior que zero! O valor passado foi 0.",
     "output_type": "error",
     "traceback": [
      "\u001b[1;31m---------------------------------------------------------------------------\u001b[0m",
      "\u001b[1;31mAssertionError\u001b[0m                            Traceback (most recent call last)",
      "\u001b[1;32m<ipython-input-24-b9807a4faa54>\u001b[0m in \u001b[0;36m<module>\u001b[1;34m\u001b[0m\n\u001b[0;32m      7\u001b[0m \u001b[1;33m\u001b[0m\u001b[0m\n\u001b[0;32m      8\u001b[0m \u001b[1;32mfor\u001b[0m \u001b[0mi\u001b[0m \u001b[1;32min\u001b[0m \u001b[0mrange\u001b[0m\u001b[1;33m(\u001b[0m\u001b[1;36m5\u001b[0m\u001b[1;33m,\u001b[0m \u001b[1;33m-\u001b[0m\u001b[1;36m3\u001b[0m\u001b[1;33m,\u001b[0m \u001b[1;33m-\u001b[0m\u001b[1;36m1\u001b[0m\u001b[1;33m)\u001b[0m\u001b[1;33m:\u001b[0m\u001b[1;33m\u001b[0m\u001b[1;33m\u001b[0m\u001b[0m\n\u001b[1;32m----> 9\u001b[1;33m     \u001b[0mprint\u001b[0m\u001b[1;33m(\u001b[0m\u001b[0mraiz\u001b[0m\u001b[1;33m(\u001b[0m\u001b[0mi\u001b[0m\u001b[1;33m)\u001b[0m\u001b[1;33m)\u001b[0m\u001b[1;33m\u001b[0m\u001b[1;33m\u001b[0m\u001b[0m\n\u001b[0m",
      "\u001b[1;32m<ipython-input-24-b9807a4faa54>\u001b[0m in \u001b[0;36mraiz\u001b[1;34m(x)\u001b[0m\n\u001b[0;32m      3\u001b[0m     \u001b[0mRetorna\u001b[0m \u001b[0ma\u001b[0m \u001b[0mraiz\u001b[0m \u001b[0mquadrada\u001b[0m \u001b[0mde\u001b[0m \u001b[0mx\u001b[0m\u001b[1;33m,\u001b[0m \u001b[0mdesde\u001b[0m \u001b[0mque\u001b[0m \u001b[0mx\u001b[0m \u001b[0mseja\u001b[0m \u001b[0mpositivo\u001b[0m\u001b[1;33m.\u001b[0m\u001b[1;33m\u001b[0m\u001b[1;33m\u001b[0m\u001b[0m\n\u001b[0;32m      4\u001b[0m     \"\"\"\n\u001b[1;32m----> 5\u001b[1;33m     \u001b[1;32massert\u001b[0m \u001b[0mx\u001b[0m \u001b[1;33m>\u001b[0m \u001b[1;36m0\u001b[0m\u001b[1;33m,\u001b[0m \u001b[1;34mf\"O valor de x tem de ser maior que zero! O valor passado foi {x}.\"\u001b[0m\u001b[1;33m\u001b[0m\u001b[1;33m\u001b[0m\u001b[0m\n\u001b[0m\u001b[0;32m      6\u001b[0m     \u001b[1;32mreturn\u001b[0m \u001b[0mx\u001b[0m \u001b[1;33m**\u001b[0m \u001b[1;36m0.5\u001b[0m\u001b[1;33m\u001b[0m\u001b[1;33m\u001b[0m\u001b[0m\n\u001b[0;32m      7\u001b[0m \u001b[1;33m\u001b[0m\u001b[0m\n",
      "\u001b[1;31mAssertionError\u001b[0m: O valor de x tem de ser maior que zero! O valor passado foi 0."
     ]
    }
   ],
   "source": [
    "def raiz(x):\n",
    "    \"\"\"\n",
    "    Retorna a raiz quadrada de x, desde que x seja positivo.\n",
    "    \"\"\"\n",
    "    assert x > 0, f\"O valor de x tem de ser maior que zero! O valor passado foi {x}.\"\n",
    "    return x ** 0.5\n",
    "\n",
    "for i in range(5, -3, -1):\n",
    "    print(raiz(i))"
   ]
  },
  {
   "cell_type": "code",
   "execution_count": null,
   "metadata": {},
   "outputs": [],
   "source": []
  }
 ],
 "metadata": {
  "kernelspec": {
   "display_name": "Python 3",
   "language": "python",
   "name": "python3"
  },
  "language_info": {
   "codemirror_mode": {
    "name": "ipython",
    "version": 3
   },
   "file_extension": ".py",
   "mimetype": "text/x-python",
   "name": "python",
   "nbconvert_exporter": "python",
   "pygments_lexer": "ipython3",
   "version": "3.8.5"
  }
 },
 "nbformat": 4,
 "nbformat_minor": 4
}
