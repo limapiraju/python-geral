{
 "cells": [
  {
   "cell_type": "markdown",
   "metadata": {
    "id": "RO-4e2c2UfWK"
   },
   "source": [
    "**Operadores lógicos**\n",
    "\n",
    "`and`: retorna verdadeiro se todas as afirmações forem verdadeiras"
   ]
  },
  {
   "cell_type": "code",
   "execution_count": 2,
   "metadata": {
    "colab": {
     "base_uri": "https://localhost:8080/"
    },
    "executionInfo": {
     "elapsed": 325,
     "status": "ok",
     "timestamp": 1643333886279,
     "user": {
      "displayName": "Marcos Lima",
      "photoUrl": "https://lh3.googleusercontent.com/a-/AOh14GjPkqY9h8ofRUdSfF7NlRlX2qBndhrvEgGih7OPbg=s64",
      "userId": "12059436749293830667"
     },
     "user_tz": 180
    },
    "id": "5Cm7TKcyUdQ5",
    "outputId": "7323f744-3f98-42a3-f330-2906a47abf78"
   },
   "outputs": [
    {
     "data": {
      "text/plain": [
       "True"
      ]
     },
     "execution_count": 2,
     "metadata": {},
     "output_type": "execute_result"
    }
   ],
   "source": [
    "# and\n",
    "\n",
    "# Exemplo 1: Freud e Lacan são ambos psicanalistas?\n",
    "freud = \"psicanalista\"\n",
    "lacan = \"psicanalista\"\n",
    "\n",
    "# testando logicamente a pergunta do Exemplo 1\n",
    "freud == \"psicanalista\" and lacan == \"psicanalista\""
   ]
  },
  {
   "cell_type": "code",
   "execution_count": 1,
   "metadata": {
    "colab": {
     "base_uri": "https://localhost:8080/"
    },
    "executionInfo": {
     "elapsed": 319,
     "status": "ok",
     "timestamp": 1643333934119,
     "user": {
      "displayName": "Marcos Lima",
      "photoUrl": "https://lh3.googleusercontent.com/a-/AOh14GjPkqY9h8ofRUdSfF7NlRlX2qBndhrvEgGih7OPbg=s64",
      "userId": "12059436749293830667"
     },
     "user_tz": 180
    },
    "id": "snXNpnOEVHG2",
    "outputId": "7450ed13-80ea-4bbc-e732-56f7cfadf21c"
   },
   "outputs": [
    {
     "data": {
      "text/plain": [
       "False"
      ]
     },
     "execution_count": 1,
     "metadata": {},
     "output_type": "execute_result"
    }
   ],
   "source": [
    "# Exemplo 2: Jung e Skinner são ambos behavioristas?\n",
    "jung = \"psicologia analítica\"\n",
    "skinner = \"behaviorista\"\n",
    "\n",
    "# testando logicamente a pergunta do Exemplo 2\n",
    "jung == \"behaviorista\" and skinner == \"behaviorista\""
   ]
  },
  {
   "cell_type": "code",
   "execution_count": 2,
   "metadata": {
    "colab": {
     "base_uri": "https://localhost:8080/"
    },
    "executionInfo": {
     "elapsed": 339,
     "status": "ok",
     "timestamp": 1643334105857,
     "user": {
      "displayName": "Marcos Lima",
      "photoUrl": "https://lh3.googleusercontent.com/a-/AOh14GjPkqY9h8ofRUdSfF7NlRlX2qBndhrvEgGih7OPbg=s64",
      "userId": "12059436749293830667"
     },
     "user_tz": 180
    },
    "id": "pgTq5M39Vf6I",
    "outputId": "39b85507-8d0b-458f-9a4c-929db0fe2b99"
   },
   "outputs": [
    {
     "name": "stdout",
     "output_type": "stream",
     "text": [
      "Caso 3a:\n",
      "True\n",
      "Caso 3b\n",
      "False\n"
     ]
    }
   ],
   "source": [
    "# Exemplo 3: todas as disciplinas a seguir são da psicologia?\n",
    "psi_do_desenvolvimento = \"psicologia\"\n",
    "psi_da_saude = \"psicologia\"\n",
    "fundamentos_de_neurociencias = \"psicologia\"\n",
    "geometria_analitica = \"matematica\"\n",
    "\n",
    "# caso 3a\n",
    "print(\"Caso 3a:\")\n",
    "print(psi_do_desenvolvimento == \"psicologia\" and psi_da_saude == \"psicologia\" and fundamentos_de_neurociencias == \"psicologia\")\n",
    "\n",
    "# caso 3b\n",
    "print(\"Caso 3b\")\n",
    "print(psi_do_desenvolvimento == \"psicologia\" and geometria_analitica == \"psicologia\" and fundamentos_de_neurociencias == \"psicologia\")"
   ]
  },
  {
   "cell_type": "markdown",
   "metadata": {
    "id": "CnBsu8w5WK0R"
   },
   "source": [
    "`or`: retorna verdadeiro se pelo menos uma das afirmações for verdadeira"
   ]
  },
  {
   "cell_type": "code",
   "execution_count": 3,
   "metadata": {
    "colab": {
     "base_uri": "https://localhost:8080/"
    },
    "executionInfo": {
     "elapsed": 309,
     "status": "ok",
     "timestamp": 1643334338570,
     "user": {
      "displayName": "Marcos Lima",
      "photoUrl": "https://lh3.googleusercontent.com/a-/AOh14GjPkqY9h8ofRUdSfF7NlRlX2qBndhrvEgGih7OPbg=s64",
      "userId": "12059436749293830667"
     },
     "user_tz": 180
    },
    "id": "4qtdIdZ3WRHk",
    "outputId": "72aa21df-5cc3-4913-f54c-af9e83a6bc8b"
   },
   "outputs": [
    {
     "name": "stdout",
     "output_type": "stream",
     "text": [
      "Exemplo 1\n",
      "True\n",
      "\n",
      "Exemplo 2\n",
      "True\n",
      "\n",
      "Exemplo 3\n",
      "False\n"
     ]
    }
   ],
   "source": [
    "# or\n",
    "\n",
    "freud = \"psicanalista\"\n",
    "lacan = \"psicanalista\"\n",
    "skinner = \"behaviorista\"\n",
    "baum = \"behaviorista\"\n",
    "\n",
    "# Exemplo 1: Há pelo menos um psicanalista entre Freud e Lacan?\n",
    "print(\"Exemplo 1\")\n",
    "print(freud == \"psicanalista\" or lacan == \"psicanalista\")\n",
    "\n",
    "# Exemplo 2: Há pelo menos um psicanalista entre Freud e Skinner?\n",
    "print(\"\\nExemplo 2\")\n",
    "print(freud == \"psicanalista\" or skinner == \"psicanalista\")\n",
    "\n",
    "# Exemplo 3: Há pelo menos um psicanalista entre Skinner e Baum?\n",
    "print(\"\\nExemplo 3\")\n",
    "print(skinner == \"psicanalista\" or baum == \"psicanalista\")\n"
   ]
  },
  {
   "cell_type": "markdown",
   "metadata": {
    "id": "XUkC3b9ZXFnE"
   },
   "source": [
    "`not`: indica a negação de um operador. Por exemplo, se uma comparação testa se algo é verdadeiro, sua inclusão retorna se algo é falso."
   ]
  },
  {
   "cell_type": "code",
   "execution_count": 5,
   "metadata": {
    "colab": {
     "base_uri": "https://localhost:8080/"
    },
    "executionInfo": {
     "elapsed": 347,
     "status": "ok",
     "timestamp": 1643334425877,
     "user": {
      "displayName": "Marcos Lima",
      "photoUrl": "https://lh3.googleusercontent.com/a-/AOh14GjPkqY9h8ofRUdSfF7NlRlX2qBndhrvEgGih7OPbg=s64",
      "userId": "12059436749293830667"
     },
     "user_tz": 180
    },
    "id": "1DxVowTxXPTf",
    "outputId": "7293568f-a7e0-4aca-dc3b-3cc52f2a2fff"
   },
   "outputs": [
    {
     "name": "stdout",
     "output_type": "stream",
     "text": [
      "False\n",
      "True\n"
     ]
    }
   ],
   "source": [
    "# not\n",
    "\n",
    "# O contrário de True é:\n",
    "print(not True)\n",
    "\n",
    "# O contrário de False é:\n",
    "print(not False)"
   ]
  },
  {
   "cell_type": "code",
   "execution_count": 6,
   "metadata": {
    "colab": {
     "base_uri": "https://localhost:8080/"
    },
    "executionInfo": {
     "elapsed": 24,
     "status": "ok",
     "timestamp": 1643334497561,
     "user": {
      "displayName": "Marcos Lima",
      "photoUrl": "https://lh3.googleusercontent.com/a-/AOh14GjPkqY9h8ofRUdSfF7NlRlX2qBndhrvEgGih7OPbg=s64",
      "userId": "12059436749293830667"
     },
     "user_tz": 180
    },
    "id": "FBqXn_1bXWeU",
    "outputId": "2d486000-6f01-4146-91c6-d6ee02dd0392"
   },
   "outputs": [
    {
     "name": "stdout",
     "output_type": "stream",
     "text": [
      "True\n",
      "False\n"
     ]
    }
   ],
   "source": [
    "# A afirmação \"Skinner não é psicanalista\" é verdadeira? Retorna verdadeiro pois\n",
    "# skinner == \"psicanalista\" é False, então not inverte False para True\n",
    "print(not(skinner == \"psicanalista\"))\n",
    "\n",
    "# E a afirmação \"Baum não é behaviorista\"? Retorna False pois\n",
    "# baum == \"behaviorista\" é True, então not inverte True para False\n",
    "print(not(baum == \"behaviorista\"))"
   ]
  }
 ],
 "metadata": {
  "colab": {
   "authorship_tag": "ABX9TyOARU5RJP+9BIpost7gTeX6",
   "name": "005 - Operadores lógicos.ipynb",
   "provenance": []
  },
  "kernelspec": {
   "display_name": "Python 3",
   "language": "python",
   "name": "python3"
  },
  "language_info": {
   "codemirror_mode": {
    "name": "ipython",
    "version": 3
   },
   "file_extension": ".py",
   "mimetype": "text/x-python",
   "name": "python",
   "nbconvert_exporter": "python",
   "pygments_lexer": "ipython3",
   "version": "3.8.5"
  }
 },
 "nbformat": 4,
 "nbformat_minor": 1
}
