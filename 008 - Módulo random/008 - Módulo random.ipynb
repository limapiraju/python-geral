{
 "cells": [
  {
   "cell_type": "markdown",
   "metadata": {},
   "source": [
    "Para mais detalhes sobre o conteúdo da biblioteca `random`, acesse: https://docs.python.org/pt-br/3.7/library/random.html"
   ]
  },
  {
   "cell_type": "markdown",
   "metadata": {},
   "source": [
    "`range`: retorna um número inteiro que estejam entre `[a, b[`."
   ]
  },
  {
   "cell_type": "code",
   "execution_count": 3,
   "metadata": {},
   "outputs": [
    {
     "name": "stdout",
     "output_type": "stream",
     "text": [
      "5 5\n",
      "1 5\n",
      "6 3\n",
      "4 1\n",
      "2 1\n"
     ]
    }
   ],
   "source": [
    "import random\n",
    "\n",
    "for i in range(5):\n",
    "    x = random.randrange(1, 7) # números entre 1 e 6\n",
    "    y = random.randrange(1, 7, 2) # números entre 1 e 6 no passo 2\n",
    "    print(x, y)"
   ]
  },
  {
   "cell_type": "markdown",
   "metadata": {},
   "source": [
    "`randint`: retorna um inteiro aleatório *N* de forma que `a` <= `N` <= `b`.\n",
    "Apelido para `randrange(a, b + 1)`."
   ]
  },
  {
   "cell_type": "code",
   "execution_count": 5,
   "metadata": {},
   "outputs": [
    {
     "name": "stdout",
     "output_type": "stream",
     "text": [
      "Valor 1: 20108\n",
      "Valor 2: 20072\n",
      "Valor 3: 19947\n",
      "Valor 4: 20066\n",
      "Valor 5: 20127\n",
      "Valor 6: 19680\n"
     ]
    }
   ],
   "source": [
    "# simula o lancaçamento de um dado honesto 120 mil vezes para cima\n",
    "# se o dado for realmente honesto, a tendência é que cada valor saia 20 mil vezes cada =)\n",
    "um = dois = tres = quatro = cinco = seis = 0\n",
    "\n",
    "for i in range(0, 120000):\n",
    "    temp = random.randint(1, 6) # números entre 1 e 6\n",
    "    if temp == 1:\n",
    "        um += 1\n",
    "    elif temp == 2:\n",
    "        dois += 1\n",
    "    elif temp == 3:\n",
    "        tres += 1\n",
    "    elif temp == 4:\n",
    "        quatro += 1\n",
    "    elif temp == 5:\n",
    "        cinco += 1\n",
    "    elif temp == 6:\n",
    "        seis += 1\n",
    "\n",
    "print('''Valor 1: {}\n",
    "Valor 2: {}\n",
    "Valor 3: {}\n",
    "Valor 4: {}\n",
    "Valor 5: {}\n",
    "Valor 6: {}''' .format(um, dois, tres, quatro, cinco, seis))"
   ]
  },
  {
   "cell_type": "markdown",
   "metadata": {},
   "source": [
    "`random.choice(seq)`: retorna um elemento aleatório da sequência não vazia `seq`. Se `seq` estiver vazio, levanta `IndexError`."
   ]
  },
  {
   "cell_type": "code",
   "execution_count": 6,
   "metadata": {},
   "outputs": [
    {
     "name": "stdout",
     "output_type": "stream",
     "text": [
      "4 4\n",
      "2 2\n",
      "3 2\n",
      "6 3\n",
      "1 3\n",
      "5 2\n",
      "6 1\n",
      "2 2\n",
      "6 6\n",
      "4 2\n"
     ]
    }
   ],
   "source": [
    "for i in range(10):\n",
    "    x = random.choice([1, 2, 3, 4, 5, 6]) # sorteia um valor enre 1 e 6\n",
    "    y = random.choice(range(1, 7)) # é equivalente ao comando acima\n",
    "    print(x, y)"
   ]
  },
  {
   "cell_type": "markdown",
   "metadata": {},
   "source": [
    "`random.random()`: retorna o próximo número de ponto flutuante aleatório no intervalo `[0.0, 1.0)`."
   ]
  },
  {
   "cell_type": "code",
   "execution_count": 7,
   "metadata": {},
   "outputs": [
    {
     "name": "stdout",
     "output_type": "stream",
     "text": [
      "0.6267298947921986\n",
      "0.9086013512582416\n",
      "0.5671571212913306\n",
      "0.502173927189462\n",
      "0.07131832840556052\n",
      "0.6959573604980624\n",
      "0.7504436320805143\n",
      "0.22493231112936418\n",
      "0.5869085586511122\n",
      "0.11763782294838754\n"
     ]
    }
   ],
   "source": [
    "for i in range(10):\n",
    "    print(random.random()) # número aleatório entre 0 e 1"
   ]
  },
  {
   "cell_type": "markdown",
   "metadata": {},
   "source": [
    "`random.uniform(a, b)`: retorna um número de ponto flutuante aleatório `N` de forma que `a <= N <= b` para `a <= b` e `b <= N <= a` para `b < a`.\n",
    "\n",
    "O valor do ponto final `b` pode ou não ser incluído no intervalo, dependendo do arredondamento do ponto flutuante na equação `a + (b - a) * random()`."
   ]
  },
  {
   "cell_type": "code",
   "execution_count": 8,
   "metadata": {},
   "outputs": [
    {
     "name": "stdout",
     "output_type": "stream",
     "text": [
      "1.4575587113907127\n",
      "1.0450792229922967\n",
      "4.673927920408251\n",
      "1.7033333390776138\n",
      "2.700258985612322\n",
      "2.7326170342541003\n",
      "5.495032409216128\n",
      "3.0895367488909433\n",
      "6.32049121274613\n",
      "2.5979460821415197\n"
     ]
    }
   ],
   "source": [
    "for i in range(10):\n",
    "    print(random.uniform(1, 7)) # números Reais aleatórios entre 1 e 7"
   ]
  },
  {
   "cell_type": "markdown",
   "metadata": {},
   "source": [
    "**Exercício:** Escreva um programa para testar se a estatística proposta no filme Quebrando a Banca é verdadeira. Em síntese, o jogador escolhe 3 portas, das quais há um prêmio. Após o apresentador escolher uma das portas vazias, sem prêmio, ele oferece a oportunidade de o jogador trocar de porta. Deverá o jogador trocar de porta? Ou ele deve ficar com a mesma porta?"
   ]
  },
  {
   "cell_type": "code",
   "execution_count": 9,
   "metadata": {},
   "outputs": [
    {
     "name": "stdout",
     "output_type": "stream",
     "text": [
      "Digite o número de testes: 100000\n",
      "É vantajoso trocar de porta em 66.62% das vezes.\n",
      "Não é vantajoso trocar de porta em 33.38% das vezes.\n"
     ]
    }
   ],
   "source": [
    "testes = int(input(\"Digite o número de testes: \"))\n",
    "\n",
    "trocar = 0 # calcula a soma das ocasiões em que foi vantajoso trocar de porta\n",
    "\n",
    "for i in range(testes):\n",
    "    porta = random.randrange(1, 4) # seleciona uma porta entre 3 alternativas\n",
    "    premio = random.randint(1, 3) # seleciona uma porta onde está o prêmio \n",
    "\n",
    "    if porta != premio:\n",
    "        trocar += 1\n",
    "\n",
    "print(f\"É vantajoso trocar de porta em {trocar / testes * 100:.2f}% das vezes.\")\n",
    "print(f\"Não é vantajoso trocar de porta em {100 - (trocar / testes * 100):.2f}% das vezes.\")"
   ]
  }
 ],
 "metadata": {
  "kernelspec": {
   "display_name": "Python 3",
   "language": "python",
   "name": "python3"
  },
  "language_info": {
   "codemirror_mode": {
    "name": "ipython",
    "version": 3
   },
   "file_extension": ".py",
   "mimetype": "text/x-python",
   "name": "python",
   "nbconvert_exporter": "python",
   "pygments_lexer": "ipython3",
   "version": "3.8.5"
  }
 },
 "nbformat": 4,
 "nbformat_minor": 4
}
