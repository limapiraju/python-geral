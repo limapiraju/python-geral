{
 "cells": [
  {
   "cell_type": "code",
   "execution_count": 12,
   "metadata": {},
   "outputs": [
    {
     "name": "stdout",
     "output_type": "stream",
     "text": [
      "10\n",
      "20\n",
      "10\n"
     ]
    }
   ],
   "source": [
    "# x é uma variável local\n",
    "x = 10\n",
    "\n",
    "print(x)\n",
    "\n",
    "def dobra(x):\n",
    "    x = x * 2 # x terá mudança de valor só no escopo de dobra(x)\n",
    "    print(x) \n",
    "    \n",
    "dobra(x)\n",
    "print(x)"
   ]
  },
  {
   "cell_type": "code",
   "execution_count": 15,
   "metadata": {},
   "outputs": [
    {
     "name": "stdout",
     "output_type": "stream",
     "text": [
      "10\n",
      "20\n",
      "20\n"
     ]
    }
   ],
   "source": [
    "# x é uma variável global\n",
    "x = 10\n",
    "\n",
    "print(x)\n",
    "\n",
    "def dobra(n):\n",
    "    global x\n",
    "    x = n * 2 # por ter sido definida como global, x mudará daqui em diante\n",
    "    print(x) \n",
    "\n",
    "dobra(x)\n",
    "print(x)"
   ]
  }
 ],
 "metadata": {
  "kernelspec": {
   "display_name": "Python 3",
   "language": "python",
   "name": "python3"
  },
  "language_info": {
   "codemirror_mode": {
    "name": "ipython",
    "version": 3
   },
   "file_extension": ".py",
   "mimetype": "text/x-python",
   "name": "python",
   "nbconvert_exporter": "python",
   "pygments_lexer": "ipython3",
   "version": "3.8.5"
  }
 },
 "nbformat": 4,
 "nbformat_minor": 4
}
