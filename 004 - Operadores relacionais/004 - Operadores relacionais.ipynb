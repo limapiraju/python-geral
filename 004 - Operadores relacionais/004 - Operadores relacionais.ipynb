{
 "cells": [
  {
   "cell_type": "markdown",
   "metadata": {
    "id": "YPTyUqk9S1sx"
   },
   "source": [
    "**Operadores relacionais**\n",
    "\n",
    "Expressam a relação de grandeza ou de igualdade entre elementos. "
   ]
  },
  {
   "cell_type": "code",
   "execution_count": 2,
   "metadata": {
    "colab": {
     "base_uri": "https://localhost:8080/"
    },
    "executionInfo": {
     "elapsed": 442,
     "status": "ok",
     "timestamp": 1643333344015,
     "user": {
      "displayName": "Marcos Lima",
      "photoUrl": "https://lh3.googleusercontent.com/a-/AOh14GjPkqY9h8ofRUdSfF7NlRlX2qBndhrvEgGih7OPbg=s64",
      "userId": "12059436749293830667"
     },
     "user_tz": 180
    },
    "id": "VLnQBFl3S98i",
    "outputId": "58d152e9-f16e-4e9c-d390-66179d885ed0"
   },
   "outputs": [
    {
     "data": {
      "text/plain": [
       "True"
      ]
     },
     "execution_count": 2,
     "metadata": {},
     "output_type": "execute_result"
    }
   ],
   "source": [
    "# Maior que: >\n",
    "idade_joao = 30\n",
    "idade_maria = 20\n",
    "\n",
    "# A idade de João é maior que a idade de Maria? Se sim, retorna True; se não, retorna False\n",
    "idade_joao > idade_maria"
   ]
  },
  {
   "cell_type": "code",
   "execution_count": 3,
   "metadata": {
    "colab": {
     "base_uri": "https://localhost:8080/"
    },
    "executionInfo": {
     "elapsed": 304,
     "status": "ok",
     "timestamp": 1643333359080,
     "user": {
      "displayName": "Marcos Lima",
      "photoUrl": "https://lh3.googleusercontent.com/a-/AOh14GjPkqY9h8ofRUdSfF7NlRlX2qBndhrvEgGih7OPbg=s64",
      "userId": "12059436749293830667"
     },
     "user_tz": 180
    },
    "id": "hn67P267Sdj5",
    "outputId": "400e62a1-a7c7-43dd-d4b5-89e3c60e24c8"
   },
   "outputs": [
    {
     "data": {
      "text/plain": [
       "True"
      ]
     },
     "execution_count": 3,
     "metadata": {},
     "output_type": "execute_result"
    }
   ],
   "source": [
    "# Menor que: <\n",
    "salario_joao = 1000\n",
    "salario_maria = 2000\n",
    "\n",
    "# O salário de João é menor que o salário de Maria? Se sim, retorna True; se não, retorna False\n",
    "salario_joao < salario_maria"
   ]
  },
  {
   "cell_type": "code",
   "execution_count": 4,
   "metadata": {
    "colab": {
     "base_uri": "https://localhost:8080/"
    },
    "executionInfo": {
     "elapsed": 14,
     "status": "ok",
     "timestamp": 1643333423669,
     "user": {
      "displayName": "Marcos Lima",
      "photoUrl": "https://lh3.googleusercontent.com/a-/AOh14GjPkqY9h8ofRUdSfF7NlRlX2qBndhrvEgGih7OPbg=s64",
      "userId": "12059436749293830667"
     },
     "user_tz": 180
    },
    "id": "TwLV5EBQTSCE",
    "outputId": "c46fa030-7329-4fea-e3b8-980af60c413d"
   },
   "outputs": [
    {
     "data": {
      "text/plain": [
       "True"
      ]
     },
     "execution_count": 4,
     "metadata": {},
     "output_type": "execute_result"
    }
   ],
   "source": [
    "# Maior ou igual a: >=\n",
    "idade_do_irmao_mais_velho = 5\n",
    "idade_do_irmao_mais_novo = 4\n",
    "\n",
    "# A idade do irmão mais velho é maior que a idade do irmão mais novo?\n",
    "# Se sim, retorna True; se não, retorna False\n",
    "idade_do_irmao_mais_velho >= idade_do_irmao_mais_novo"
   ]
  },
  {
   "cell_type": "code",
   "execution_count": 5,
   "metadata": {
    "colab": {
     "base_uri": "https://localhost:8080/"
    },
    "executionInfo": {
     "elapsed": 297,
     "status": "ok",
     "timestamp": 1643333446142,
     "user": {
      "displayName": "Marcos Lima",
      "photoUrl": "https://lh3.googleusercontent.com/a-/AOh14GjPkqY9h8ofRUdSfF7NlRlX2qBndhrvEgGih7OPbg=s64",
      "userId": "12059436749293830667"
     },
     "user_tz": 180
    },
    "id": "-brDOSAaThgs",
    "outputId": "85296b44-f197-46e7-d48a-e0a14daddd89"
   },
   "outputs": [
    {
     "data": {
      "text/plain": [
       "True"
      ]
     },
     "execution_count": 5,
     "metadata": {},
     "output_type": "execute_result"
    }
   ],
   "source": [
    "# Menor ou igual a: <=\n",
    "cinco = 6\n",
    "seis = 5\n",
    "\n",
    "# Seis é menor ou igual a cinco? Se sim, retorna True; se não, retorna False\n",
    "# Note que o que é comparado aqui não é se \"seis\" <= \"cinco\"\n",
    "# Mas sim se o valor para o qual a variável seis aponta (que propositalmente coloquei como sendo 5)\n",
    "# é menor ou igual que o valor para o qual a variável cinco aponta\n",
    "# (que propositalmente coloquei como sendo 6)\n",
    "# Sim, seis (5) é menor ou igual a cinco (6)\n",
    "seis <= cinco"
   ]
  },
  {
   "cell_type": "code",
   "execution_count": 6,
   "metadata": {
    "colab": {
     "base_uri": "https://localhost:8080/"
    },
    "executionInfo": {
     "elapsed": 12,
     "status": "ok",
     "timestamp": 1643333468443,
     "user": {
      "displayName": "Marcos Lima",
      "photoUrl": "https://lh3.googleusercontent.com/a-/AOh14GjPkqY9h8ofRUdSfF7NlRlX2qBndhrvEgGih7OPbg=s64",
      "userId": "12059436749293830667"
     },
     "user_tz": 180
    },
    "id": "E9hjHsgSTn28",
    "outputId": "33b7965c-ba5a-419f-8057-a367e857a61a"
   },
   "outputs": [
    {
     "data": {
      "text/plain": [
       "True"
      ]
     },
     "execution_count": 6,
     "metadata": {},
     "output_type": "execute_result"
    }
   ],
   "source": [
    "# Igual a: ==\n",
    "seis = 6\n",
    "meia_duzia = 6\n",
    "\n",
    "# Seis é igual a meia dúzia? Se sim, retorna True; se não, retorna False\n",
    "# Note que o símbolo de igualdade em Python é ==\n",
    "# O símbolo = representa atribuição\n",
    "# (i.e., o valor à direita é atribuído à variável à esquerda do operador)\n",
    "seis == meia_duzia"
   ]
  },
  {
   "cell_type": "code",
   "execution_count": 8,
   "metadata": {
    "colab": {
     "base_uri": "https://localhost:8080/"
    },
    "executionInfo": {
     "elapsed": 312,
     "status": "ok",
     "timestamp": 1643333487797,
     "user": {
      "displayName": "Marcos Lima",
      "photoUrl": "https://lh3.googleusercontent.com/a-/AOh14GjPkqY9h8ofRUdSfF7NlRlX2qBndhrvEgGih7OPbg=s64",
      "userId": "12059436749293830667"
     },
     "user_tz": 180
    },
    "id": "6GoYy4GUTsZK",
    "outputId": "a91bcb83-5cee-43fd-9ba6-08601308bc3b"
   },
   "outputs": [
    {
     "data": {
      "text/plain": [
       "True"
      ]
     },
     "execution_count": 8,
     "metadata": {},
     "output_type": "execute_result"
    }
   ],
   "source": [
    "## Não igual a: !=\n",
    "seis = 6\n",
    "nove = 9\n",
    "\n",
    "# Seis é diferente de nove?\n",
    "seis != nove"
   ]
  },
  {
   "cell_type": "markdown",
   "metadata": {},
   "source": [
    "Também podemos combinar operações aritméticas com operadores relacionais. Veja:"
   ]
  },
  {
   "cell_type": "code",
   "execution_count": 10,
   "metadata": {},
   "outputs": [
    {
     "data": {
      "text/plain": [
       "True"
      ]
     },
     "execution_count": 10,
     "metadata": {},
     "output_type": "execute_result"
    }
   ],
   "source": [
    "# A metade de 12 é igual a 6?\n",
    "12 / 2 == 6"
   ]
  },
  {
   "cell_type": "code",
   "execution_count": 14,
   "metadata": {},
   "outputs": [
    {
     "data": {
      "text/plain": [
       "False"
      ]
     },
     "execution_count": 14,
     "metadata": {},
     "output_type": "execute_result"
    }
   ],
   "source": [
    "# Um terço é diferente de 3 elevado a -1?\n",
    "1 / 3 != 3 ** -1"
   ]
  },
  {
   "cell_type": "code",
   "execution_count": 15,
   "metadata": {},
   "outputs": [
    {
     "data": {
      "text/plain": [
       "False"
      ]
     },
     "execution_count": 15,
     "metadata": {},
     "output_type": "execute_result"
    }
   ],
   "source": [
    "# 5 x 5 x 5 é um valor menor que 5 ao cubo?\n",
    "5 * 5 * 5 < 5 ** 3"
   ]
  }
 ],
 "metadata": {
  "colab": {
   "authorship_tag": "ABX9TyM2sDNLQ+rT5ZCTuw6/TtU2",
   "name": "004 - Operadores relacionais",
   "provenance": []
  },
  "kernelspec": {
   "display_name": "Python 3",
   "language": "python",
   "name": "python3"
  },
  "language_info": {
   "codemirror_mode": {
    "name": "ipython",
    "version": 3
   },
   "file_extension": ".py",
   "mimetype": "text/x-python",
   "name": "python",
   "nbconvert_exporter": "python",
   "pygments_lexer": "ipython3",
   "version": "3.8.5"
  }
 },
 "nbformat": 4,
 "nbformat_minor": 1
}
