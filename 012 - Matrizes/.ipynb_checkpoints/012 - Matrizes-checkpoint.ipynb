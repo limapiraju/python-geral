{
 "cells": [
  {
   "cell_type": "markdown",
   "metadata": {},
   "source": [
    "Criando uma matriz representada por meio de listas."
   ]
  },
  {
   "cell_type": "code",
   "execution_count": 5,
   "metadata": {},
   "outputs": [
    {
     "name": "stdout",
     "output_type": "stream",
     "text": [
      "Digite o número de linhas da matriz: 3\n",
      "Digite o número de colunas da matriz: 3\n",
      "Digite o elemento [1,1] da matriz: 1\n",
      "Digite o elemento [1,2] da matriz: 2\n",
      "Digite o elemento [1,3] da matriz: 3\n",
      "Digite o elemento [2,1] da matriz: 4\n",
      "Digite o elemento [2,2] da matriz: 5\n",
      "Digite o elemento [2,3] da matriz: 6\n",
      "Digite o elemento [3,1] da matriz: 7\n",
      "Digite o elemento [3,2] da matriz: 8\n",
      "Digite o elemento [3,3] da matriz: 9\n",
      "[1, 2, 3]\n",
      "[4, 5, 6]\n",
      "[7, 8, 9]\n"
     ]
    }
   ],
   "source": [
    "# Escreve uma função que recebe um inteiro m e outro n e com isso constrói uma matriz m x n\n",
    "matrix = []\n",
    "m = int(input(\"Digite o número de linhas da matriz: \"))\n",
    "n = int(input(\"Digite o número de colunas da matriz: \"))\n",
    "\n",
    "def matriz(m, n, matrix):\n",
    "    for i in range(1, m + 1):\n",
    "        linha = []\n",
    "        for j in range(1, n + 1):\n",
    "            x = int(input(f\"Digite o elemento [{i},{j}] da matriz: \"))\n",
    "            linha.append(x)\n",
    "\n",
    "        matrix.append(linha)\n",
    "    return matrix\n",
    "\n",
    "\n",
    "minha_matriz = matriz(m, n, matrix)\n",
    "\n",
    "for linha in minha_matriz:\n",
    "    print(linha)              \n",
    "                "
   ]
  },
  {
   "cell_type": "markdown",
   "metadata": {},
   "source": [
    "Transpondo a matriz."
   ]
  },
  {
   "cell_type": "code",
   "execution_count": 17,
   "metadata": {},
   "outputs": [
    {
     "name": "stdout",
     "output_type": "stream",
     "text": [
      "[1, 4, 7]\n",
      "[2, 5, 8]\n",
      "[3, 6, 9]\n"
     ]
    }
   ],
   "source": [
    "def transposta(matriz):\n",
    "    linhas = len(matriz)\n",
    "    colunas = len(matriz[0])\n",
    "    \n",
    "    t = list()\n",
    "    \n",
    "    for col in range(0, colunas):\n",
    "        linha = []\n",
    "        for lin in range(0, linhas):\n",
    "            linha.append(matriz[lin][col])\n",
    "        \n",
    "        t.append(linha)\n",
    "    \n",
    "    return t\n",
    "    \n",
    "t = transposta(minha_matriz)\n",
    "\n",
    "for linha in t:\n",
    "    print(linha)   "
   ]
  }
 ],
 "metadata": {
  "kernelspec": {
   "display_name": "Python 3",
   "language": "python",
   "name": "python3"
  },
  "language_info": {
   "codemirror_mode": {
    "name": "ipython",
    "version": 3
   },
   "file_extension": ".py",
   "mimetype": "text/x-python",
   "name": "python",
   "nbconvert_exporter": "python",
   "pygments_lexer": "ipython3",
   "version": "3.8.5"
  }
 },
 "nbformat": 4,
 "nbformat_minor": 4
}
