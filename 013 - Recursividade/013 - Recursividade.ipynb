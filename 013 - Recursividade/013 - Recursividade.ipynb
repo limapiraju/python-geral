{
 "cells": [
  {
   "cell_type": "code",
   "execution_count": 2,
   "metadata": {},
   "outputs": [
    {
     "name": "stdout",
     "output_type": "stream",
     "text": [
      "1! = 1\n",
      "2! = 2\n",
      "3! = 6\n",
      "4! = 24\n",
      "5! = 120\n",
      "6! = 720\n",
      "7! = 5040\n",
      "8! = 40320\n",
      "9! = 362880\n",
      "10! = 3628800\n"
     ]
    }
   ],
   "source": [
    "def fatorial(n):\n",
    "    if n == 1:\n",
    "        return 1\n",
    "    return n * fatorial(n - 1)\n",
    "\n",
    "for i in range(1, 11):\n",
    "    print(f\"{i}! = {fatorial(i)}\")"
   ]
  },
  {
   "cell_type": "code",
   "execution_count": 6,
   "metadata": {},
   "outputs": [
    {
     "name": "stdout",
     "output_type": "stream",
     "text": [
      "1 1 2 3 5 8 13 21 34 55 "
     ]
    }
   ],
   "source": [
    "def fibonacci(n):\n",
    "    current_element = next_element = 1\n",
    "    count = 1\n",
    "\n",
    "    while count <= n:\n",
    "        print(current_element, end = \" \")\n",
    "        current_element, next_element = next_element, current_element + next_element\n",
    "        \n",
    "        count += 1\n",
    "        \n",
    "fibonacci(10)       "
   ]
  },
  {
   "cell_type": "code",
   "execution_count": 8,
   "metadata": {},
   "outputs": [
    {
     "name": "stdout",
     "output_type": "stream",
     "text": [
      "1 2 3 4 5 6 7 8 9 10 11 12 13 14 15 "
     ]
    }
   ],
   "source": [
    "# função recursiva que imprime os números de x até y\n",
    "def new_print(x, y):\n",
    "    \n",
    "    if x > y:\n",
    "        return\n",
    "    \n",
    "    print(x, end = \" \")\n",
    "    new_print(x + 1, y)\n",
    "    \n",
    "new_print(1, 15)\n",
    "        \n",
    "    "
   ]
  },
  {
   "cell_type": "code",
   "execution_count": 11,
   "metadata": {},
   "outputs": [
    {
     "name": "stdout",
     "output_type": "stream",
     "text": [
      "0\n",
      "1\n",
      "3\n",
      "6\n",
      "10\n",
      "15\n",
      "21\n",
      "28\n",
      "36\n",
      "45\n",
      "55\n"
     ]
    }
   ],
   "source": [
    "# função retorna a soma de n até 0\n",
    "\n",
    "def soma(n):\n",
    "    \n",
    "    if n == 0:\n",
    "        return n\n",
    "    return n + soma(n - 1)\n",
    "\n",
    "for valores in range(0, 11):\n",
    "    print(soma(valores))"
   ]
  }
 ],
 "metadata": {
  "kernelspec": {
   "display_name": "Python 3",
   "language": "python",
   "name": "python3"
  },
  "language_info": {
   "codemirror_mode": {
    "name": "ipython",
    "version": 3
   },
   "file_extension": ".py",
   "mimetype": "text/x-python",
   "name": "python",
   "nbconvert_exporter": "python",
   "pygments_lexer": "ipython3",
   "version": "3.8.5"
  }
 },
 "nbformat": 4,
 "nbformat_minor": 4
}
