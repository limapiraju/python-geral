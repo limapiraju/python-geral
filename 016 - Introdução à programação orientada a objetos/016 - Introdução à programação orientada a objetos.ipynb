{
 "cells": [
  {
   "cell_type": "markdown",
   "metadata": {},
   "source": [
    "*Script* baseado no conteúdo do canal Ignorância Zero: `https://www.youtube.com/channel/UCmjj41YfcaCpZIkU-oqVIIw`"
   ]
  },
  {
   "cell_type": "code",
   "execution_count": 1,
   "metadata": {},
   "outputs": [],
   "source": [
    "# Aulas Python - 059 - POO I: Sintaxe Básica, Construtor e Métodos\n",
    "\n",
    "class Quadrado(object):\n",
    "    \"\"\"\n",
    "    Classe que fabrica objetos do tipo Quadrado.\n",
    "    \"\"\"\n",
    "    def __init__(self, lado):\n",
    "        self.lado = lado\n",
    "        self.area = lado * lado\n",
    "\n",
    "    def muda_lado(self, novo_lado):\n",
    "        self.lado = novo_lado\n",
    "        self.area = novo_lado ** 2\n",
    "\n",
    "    def lado(self):\n",
    "        return self.lado\n",
    "\n",
    "    def area(self):\n",
    "        return self.area"
   ]
  },
  {
   "cell_type": "code",
   "execution_count": 2,
   "metadata": {},
   "outputs": [
    {
     "name": "stdout",
     "output_type": "stream",
     "text": [
      "2\n",
      "4\n"
     ]
    }
   ],
   "source": [
    "# cria uma nova instância da classe Quadrado e invoca alguns de seus métodos\n",
    "quadrado = Quadrado(2)\n",
    "print(quadrado.lado)\n",
    "print(quadrado.area)"
   ]
  },
  {
   "cell_type": "code",
   "execution_count": 4,
   "metadata": {},
   "outputs": [
    {
     "name": "stdout",
     "output_type": "stream",
     "text": [
      "0\n",
      "5\n",
      "24\n"
     ]
    }
   ],
   "source": [
    "# Aulas Python - 060 - POO II: Atributos, Associações e Funções\n",
    "\n",
    "class Minha(object):\n",
    "    def __init__(self):\n",
    "        self.x = 0\n",
    "        self.y = 0\n",
    "\n",
    "meu = Minha()\n",
    "print(meu.x)\n",
    "meu.x = 5\n",
    "print(meu.x)\n",
    "meu.z = 24\n",
    "print(meu.z)"
   ]
  },
  {
   "cell_type": "code",
   "execution_count": 5,
   "metadata": {},
   "outputs": [
    {
     "name": "stdout",
     "output_type": "stream",
     "text": [
      "Rex deu a patinha\n",
      "AUAUAUAUAUAUAU!\n"
     ]
    }
   ],
   "source": [
    "# modelando as classes Pessoa e Cachorro e colocando-as para interagir entre si\n",
    "\n",
    "class Pessoa(object):\n",
    "    def __init__(self, nome, peso, cao):\n",
    "        self.nome = nome\n",
    "        self.peso = peso\n",
    "        self.cao = cao\n",
    "    def treinar(self):\n",
    "        self.cao.da_a_patinha()\n",
    "        self.cao.latir()\n",
    "\n",
    "class Cachorro(object):\n",
    "    def __init__(self, nome, raca, sexo, idade):\n",
    "        self.nome = nome\n",
    "        self.raca = raca\n",
    "        self.sexo = sexo\n",
    "        self.idade = idade\n",
    "    def imprime(self):\n",
    "        print(f\"Olá, este é o {self.nome}, o seu novo cãozinho.\")\n",
    "    def da_a_patinha(self):\n",
    "        print(f\"{self.nome} deu a patinha\")\n",
    "    def latir(self):\n",
    "        print(f\"AUAUAUAUAUAUAU!\")\n",
    "        \n",
    "\n",
    "\n",
    "rex = Cachorro(\"Rex\", \"poodle\", \"M\", 1)\n",
    "# objeto da classe Pessoa é associado ao objeto rex, da classe Cachorro\n",
    "\n",
    "# acessa métodos da classe Cachorro\n",
    "pedro = Pessoa(\"Pedro\", 75, rex)\n",
    "pedro.cao.da_a_patinha() \n",
    "\n",
    "# acessa métodos da classe Cachorro\n",
    "pedro.cao.latir() "
   ]
  },
  {
   "cell_type": "code",
   "execution_count": 7,
   "metadata": {},
   "outputs": [
    {
     "data": {
      "text/plain": [
       "{'nome': 'Lucas', 'emprego': 'Advogado', 'idade': 29}"
      ]
     },
     "execution_count": 7,
     "metadata": {},
     "output_type": "execute_result"
    }
   ],
   "source": [
    "# Aulas Python - 061 - POO III: Objetos e Classes vs Dicionários\n",
    "\n",
    "pessoa = dict(nome = \"Lucas\",\n",
    "          emprego = \"Advogado\",\n",
    "          idade = 20,\n",
    "          cor_de_cabelo = \"Preto\")\n",
    "\n",
    "pessoa[\"nome\"] = \"João\" # muda valor\n",
    "pessoa[\"emprego\"] # acessa valor\n",
    "pessoa[\"peso\"] = 105 # cria nova chave com valor\n",
    "\n",
    "class Pessoa(object):\n",
    "    def __init__(self, nome, emprego, idade):\n",
    "        self.nome = nome\n",
    "        self.emprego = emprego\n",
    "        self.idade = idade\n",
    "\n",
    "    def ola(self):\n",
    "        print(f\"Olá, meu nome e {self.nome}, eu tenho {self.idade} anos e trabalho como {self.emprego}.\")\n",
    "\n",
    "lucas = Pessoa(\"Lucas\", \"Advogado\", 29)\n",
    "\n",
    "# dunder method dict mostra que os atributos da instância são armazenados em dicionários\n",
    "lucas.__dict__ "
   ]
  },
  {
   "cell_type": "code",
   "execution_count": 11,
   "metadata": {},
   "outputs": [
    {
     "name": "stdout",
     "output_type": "stream",
     "text": [
      "<__main__.Pessoa object at 0x00000092E32A72B0>\n",
      "preta\n",
      "feminino\n",
      "Estou andando sobre 2 patas.\n",
      "None\n",
      "loiro\n"
     ]
    }
   ],
   "source": [
    "# Aulas Python - 062 - POO IV: Herança, Super e Polimorfismo\n",
    "\n",
    "class Mamifero(object):\n",
    "    \n",
    "    def __init__(self, cor_de_pelo, sexo, patas):\n",
    "        self.cor_de_pelo = cor_de_pelo\n",
    "        self.sexo = sexo\n",
    "        self.num_de_patas = patas\n",
    "        \n",
    "    def falar(self):\n",
    "        print(\"Olá, sou um mamífero e eu sei falar.\")\n",
    "        \n",
    "    def andar(self):\n",
    "        print(\"Estou andando sobre {} patas.\" .format(self.num_de_patas))\n",
    "        \n",
    "    def amamentar(self):\n",
    "        \n",
    "        if self.sexo.lower()[0] == \"m\":\n",
    "            print(\"Machos não amamentam.\")\n",
    "            return            \n",
    "        \n",
    "        print(\"Estou amamentando meu filhote.\")\n",
    "\n",
    "\n",
    "Rex = Mamifero(\"marrom\", \"masculino\", 4)\n",
    "Julia = Mamifero(\"preta\", \"feminino\", 2)\n",
    "\n",
    "# Herança\n",
    "class Pessoa(Mamifero): # Pessoa é uma subclasse e Mamifero é uma superclasse\n",
    "    pass\n",
    "\n",
    "class Pessoa(Mamifero):\n",
    "    def __init__(self, cabelo): # polimorfismo: método construtor de Pessoa é diferente do método construtor da superclasse da onde ela originou\n",
    "        self.cabelo = cabelo\n",
    "\n",
    "Maria = Pessoa(\"loiro\")\n",
    "\n",
    "\n",
    "class Pessoa(Mamifero):\n",
    "    def __init__(self, cor_de_pelo, sexo, andar, cabelo):\n",
    "        super(Pessoa, self).__init__(cor_de_pelo, sexo, andar) # invocando o método construtor da superclasse na subclasse\n",
    "        self.cabelo = cabelo\n",
    "    def falar(self):\n",
    "        print(\"Olá, eu sou uma pessoa e eu sei falar.\")\n",
    "\n",
    "Julia = Pessoa(\"preta\", \"feminino\", 2, \"loiro\")\n",
    "print(Julia)\n",
    "print(Julia.cor_de_pelo)\n",
    "print(Julia.sexo)\n",
    "print(Julia.andar())\n",
    "print(Julia.cabelo)"
   ]
  },
  {
   "cell_type": "code",
   "execution_count": 12,
   "metadata": {},
   "outputs": [],
   "source": [
    "# Aulas Python - 063 - POO V: Abstração, Atributo/Métodos Estáticos e Encapsulamento\n",
    "\n",
    "class ObjetoGrafico(object):\n",
    "    def __init__(self, cor):\n",
    "        self.cor = cor\n",
    "    \n",
    "    # método abstrato\n",
    "    def area(self):\n",
    "        pass\n",
    "    \n",
    "    # método abstrato\n",
    "    def perimetro(self):\n",
    "        pass\n",
    "    \n",
    "    def info(self):\n",
    "        print(\"{} metros² serão preenchidos com a cor {}.\" .format(self.area(), self.cor))"
   ]
  },
  {
   "cell_type": "code",
   "execution_count": 13,
   "metadata": {},
   "outputs": [],
   "source": [
    "# atributos estáticos\n",
    "\n",
    "class Cachorro:\n",
    "    # atributo estático\n",
    "    # pode ser acessado pela classe (Cachorro.nome) ou pela instância (instancia.nome)\n",
    "    nome = \"Rex\"\n",
    "    cor = \"marrom\""
   ]
  },
  {
   "cell_type": "code",
   "execution_count": 18,
   "metadata": {},
   "outputs": [
    {
     "name": "stdout",
     "output_type": "stream",
     "text": [
      "6000\n",
      "2000\n"
     ]
    }
   ],
   "source": [
    "# atributo de classe\n",
    "\n",
    "class Conta(object):\n",
    "    total = 1000 # atributo de classe\n",
    "    reserva = 0.1\n",
    "    \n",
    "    def __init__(self, ID, saldo):  \n",
    "        self.ID = ID  \n",
    "        self.saldo = saldo\n",
    "        \n",
    "    def deposito(self, valor):\n",
    "        self.saldo += valor\n",
    "        Conta.total += valor # mudando o atributo de classe\n",
    "        \n",
    "itau = Conta(123, 5000)\n",
    "itau.deposito(1000)\n",
    "print(itau.saldo)\n",
    "print(Conta.total)"
   ]
  },
  {
   "cell_type": "code",
   "execution_count": 20,
   "metadata": {},
   "outputs": [],
   "source": [
    "# atributos privados\n",
    "\n",
    "class Conta(object):\n",
    "    # atributo privado (usando dois underscores)\n",
    "    # só pode ser acessado dentro da instância ou classe\n",
    "    __total = 1000 \n",
    "    reserva = 0.1\n",
    "    \n",
    "    def __init__(self, ID, saldo):\n",
    "        # atributo privado (usando dois underscores)\n",
    "        # só pode ser acessado dentro da instância ou classe      \n",
    "        self.__ID = ID  \n",
    "        self.saldo = saldo\n",
    "        \n",
    "    def deposito(self, valor):\n",
    "        self.saldo += valor # acessa atributos dinâmicos do atributo do objeto da classe\n",
    "        # Conta.__total += self.saldo # acessa atributos estáticos do atributo da instância da classe\n",
    "        # a linha acima não funcionará porque eu defini o atributo como privado\n",
    "        \n",
    "    def saque(self, valor):\n",
    "        if self.saldo > valor:\n",
    "            self.saldo -= valor  # acessa atributos dinâmicos do atributo do objeto da classe\n",
    "            Conta.__total -= valor  # acessa atributos estáticos do atributo da instância da classe\n",
    "\n",
    "\n",
    "itau = Conta(123, 5000)\n",
    "itau.deposito(1000) # usa a própria instância para uso do método da classe\n",
    "itau.saque(2000)\n",
    "itau.saldo\n",
    "    \n",
    "Conta.deposito(itau, 4000) # passa a instância como parâmetro para o método da classe\n",
    "\n"
   ]
  },
  {
   "cell_type": "code",
   "execution_count": 21,
   "metadata": {},
   "outputs": [
    {
     "name": "stdout",
     "output_type": "stream",
     "text": [
      "ID: 456\n",
      "Saldo: R$ 5000.00\n",
      "13000\n"
     ]
    }
   ],
   "source": [
    "# Aulas Python - 064 - POO VI: Métodos e Atributos Especiais\n",
    "\n",
    "class Conta(object):\n",
    "    \"\"\"\n",
    "    Objeto do tipo conta, representa uma conta num banco qualquer.\n",
    "    \"\"\"\n",
    "    def __init__(self, ID, saldo):\n",
    "        \"\"\"\n",
    "        Construtor da classe conta.\n",
    "        \"\"\"\n",
    "        self.ID = ID\n",
    "        self.saldo = saldo\n",
    "        \n",
    "    def __str__(self):\n",
    "        \"\"\"\n",
    "        Devolve uma string representando a conta.\n",
    "        \"\"\"\n",
    "        return \"ID: {}\\nSaldo: R$ {:.2f}\" .format(self.ID, self.saldo) # converte objeto em uma string\n",
    "\n",
    "    def __add__(self, outro): # permite fazer operações entre instâncias de maneira direta\n",
    "        \"\"\"\n",
    "        Permite somar o saldo de uma conta ao saldo de outra conta.\n",
    "        \"\"\"\n",
    "        self.saldo += outro.saldo # e.g., itau + bradesco\n",
    "\n",
    "    def __le__(self, outro): # lower or equal than\n",
    "        if self.ID <= outro.ID:\n",
    "            return True\n",
    "        return False\n",
    "\n",
    "    def __eq__(self, outro): # equal than\n",
    "        if self.ID == outro.ID:\n",
    "            return True\n",
    "        return False\n",
    "\n",
    "    def __ge__(self, outro): # greater or equal than\n",
    "        if self.ID >= outro.ID:\n",
    "            return True\n",
    "        return False\n",
    "\n",
    "    def __lt__(self, outro): # lower than\n",
    "        if self.ID < outro.ID:\n",
    "            return True\n",
    "        return False\n",
    "\n",
    "    def __gt__(self, outro): # greater than\n",
    "        if self.ID > outro.ID:\n",
    "            return True\n",
    "        return False\n",
    "\n",
    "    def __ne__(self, outro): # not equal\n",
    "        if self.ID != outro.ID:\n",
    "            return True\n",
    "        return False\n",
    "\n",
    "\n",
    "bradesco = Conta(456, 5000)\n",
    "print(bradesco)\n",
    "\n",
    "itau = Conta(123, 8000)\n",
    "itau + bradesco\n",
    "print(itau.saldo)"
   ]
  },
  {
   "cell_type": "code",
   "execution_count": 22,
   "metadata": {},
   "outputs": [
    {
     "data": {
      "text/plain": [
       "'\\n    Objeto do tipo conta, representa uma conta num banco qualquer.\\n    '"
      ]
     },
     "execution_count": 22,
     "metadata": {},
     "output_type": "execute_result"
    }
   ],
   "source": [
    "Conta.__doc__"
   ]
  },
  {
   "cell_type": "code",
   "execution_count": 23,
   "metadata": {},
   "outputs": [
    {
     "data": {
      "text/plain": [
       "<function __main__.Conta.__init__(self, ID, saldo)>"
      ]
     },
     "execution_count": 23,
     "metadata": {},
     "output_type": "execute_result"
    }
   ],
   "source": [
    "Conta.__init__"
   ]
  },
  {
   "cell_type": "code",
   "execution_count": 24,
   "metadata": {},
   "outputs": [
    {
     "data": {
      "text/plain": [
       "mappingproxy({'__module__': '__main__',\n",
       "              '__doc__': '\\n    Objeto do tipo conta, representa uma conta num banco qualquer.\\n    ',\n",
       "              '__init__': <function __main__.Conta.__init__(self, ID, saldo)>,\n",
       "              '__str__': <function __main__.Conta.__str__(self)>,\n",
       "              '__add__': <function __main__.Conta.__add__(self, outro)>,\n",
       "              '__le__': <function __main__.Conta.__le__(self, outro)>,\n",
       "              '__eq__': <function __main__.Conta.__eq__(self, outro)>,\n",
       "              '__ge__': <function __main__.Conta.__ge__(self, outro)>,\n",
       "              '__lt__': <function __main__.Conta.__lt__(self, outro)>,\n",
       "              '__gt__': <function __main__.Conta.__gt__(self, outro)>,\n",
       "              '__ne__': <function __main__.Conta.__ne__(self, outro)>,\n",
       "              '__dict__': <attribute '__dict__' of 'Conta' objects>,\n",
       "              '__weakref__': <attribute '__weakref__' of 'Conta' objects>,\n",
       "              '__hash__': None})"
      ]
     },
     "execution_count": 24,
     "metadata": {},
     "output_type": "execute_result"
    }
   ],
   "source": [
    "Conta.__dict__"
   ]
  },
  {
   "cell_type": "code",
   "execution_count": 25,
   "metadata": {},
   "outputs": [
    {
     "name": "stdout",
     "output_type": "stream",
     "text": [
      "Help on class Conta in module __main__:\n",
      "\n",
      "class Conta(builtins.object)\n",
      " |  Conta(ID, saldo)\n",
      " |  \n",
      " |  Objeto do tipo conta, representa uma conta num banco qualquer.\n",
      " |  \n",
      " |  Methods defined here:\n",
      " |  \n",
      " |  __add__(self, outro)\n",
      " |      Permite somar o saldo de uma conta ao saldo de outra conta.\n",
      " |  \n",
      " |  __eq__(self, outro)\n",
      " |      Return self==value.\n",
      " |  \n",
      " |  __ge__(self, outro)\n",
      " |      Return self>=value.\n",
      " |  \n",
      " |  __gt__(self, outro)\n",
      " |      Return self>value.\n",
      " |  \n",
      " |  __init__(self, ID, saldo)\n",
      " |      Construtor da classe conta.\n",
      " |  \n",
      " |  __le__(self, outro)\n",
      " |      Return self<=value.\n",
      " |  \n",
      " |  __lt__(self, outro)\n",
      " |      Return self<value.\n",
      " |  \n",
      " |  __ne__(self, outro)\n",
      " |      Return self!=value.\n",
      " |  \n",
      " |  __str__(self)\n",
      " |      Devolve uma string representando a conta.\n",
      " |  \n",
      " |  ----------------------------------------------------------------------\n",
      " |  Data descriptors defined here:\n",
      " |  \n",
      " |  __dict__\n",
      " |      dictionary for instance variables (if defined)\n",
      " |  \n",
      " |  __weakref__\n",
      " |      list of weak references to the object (if defined)\n",
      " |  \n",
      " |  ----------------------------------------------------------------------\n",
      " |  Data and other attributes defined here:\n",
      " |  \n",
      " |  __hash__ = None\n",
      "\n"
     ]
    }
   ],
   "source": [
    "help(Conta)"
   ]
  },
  {
   "cell_type": "code",
   "execution_count": 27,
   "metadata": {},
   "outputs": [
    {
     "name": "stdout",
     "output_type": "stream",
     "text": [
      "False\n",
      "True\n",
      "True\n",
      "True\n"
     ]
    }
   ],
   "source": [
    "# issubclass: avalia se uma classe é subclasse de outra\n",
    "\n",
    "class Ave(object):\n",
    "    pass\n",
    "\n",
    "class Galináceo(Ave):\n",
    "    pass\n",
    "\n",
    "print(issubclass(Ave, Galináceo))\n",
    "print(issubclass(Galináceo, Ave))\n",
    "print(issubclass(Ave, object))\n",
    "print(issubclass(object, object))"
   ]
  },
  {
   "cell_type": "code",
   "execution_count": 28,
   "metadata": {},
   "outputs": [
    {
     "data": {
      "text/plain": [
       "(__main__.Ave,)"
      ]
     },
     "execution_count": 28,
     "metadata": {},
     "output_type": "execute_result"
    }
   ],
   "source": [
    "# __bases__: indica de quais superclasses diretas uma subclasse herda\n",
    "Galináceo.__bases__"
   ]
  },
  {
   "cell_type": "code",
   "execution_count": 32,
   "metadata": {},
   "outputs": [
    {
     "name": "stdout",
     "output_type": "stream",
     "text": [
      "True\n",
      "Essa ave é uma galinha.\n"
     ]
    }
   ],
   "source": [
    "# __call__ e callable\n",
    "class Aves(object):\n",
    "    \n",
    "    def __init__(self, especie):\n",
    "        self.especie = especie\n",
    "  \n",
    "    # torna instância chamável\n",
    "    def __call__(self):\n",
    "        return f\"Essa ave é uma {self.especie}.\"\n",
    "        \n",
    "# testando\n",
    "ave = Aves(\"galinha\")\n",
    "print(callable(ave))\n",
    "\n",
    "# __call__ permite que eu chame a instância com ave()\n",
    "print(ave())"
   ]
  },
  {
   "cell_type": "code",
   "execution_count": null,
   "metadata": {},
   "outputs": [],
   "source": []
  }
 ],
 "metadata": {
  "kernelspec": {
   "display_name": "Python 3",
   "language": "python",
   "name": "python3"
  },
  "language_info": {
   "codemirror_mode": {
    "name": "ipython",
    "version": 3
   },
   "file_extension": ".py",
   "mimetype": "text/x-python",
   "name": "python",
   "nbconvert_exporter": "python",
   "pygments_lexer": "ipython3",
   "version": "3.8.5"
  }
 },
 "nbformat": 4,
 "nbformat_minor": 4
}
